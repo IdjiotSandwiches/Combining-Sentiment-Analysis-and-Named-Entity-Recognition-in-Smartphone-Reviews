{
 "cells": [
  {
   "cell_type": "code",
   "execution_count": 1,
   "metadata": {},
   "outputs": [],
   "source": [
    "from simpletransformers.ner import NERModel\n",
    "from nltk.corpus import stopwords, wordnet\n",
    "from nltk.tokenize import word_tokenize\n",
    "from nltk.stem import WordNetLemmatizer, PorterStemmer\n",
    "from sklearn.metrics import accuracy_score\n",
    "from sklearn.model_selection import StratifiedKFold\n",
    "from sklearn.preprocessing import LabelEncoder\n",
    "import pickle, emoji, string, pandas as pd"
   ]
  },
  {
   "cell_type": "code",
   "execution_count": 22,
   "metadata": {},
   "outputs": [],
   "source": [
    "with open('model/NER_Model_pickle_v4', 'rb') as file:\n",
    "\tmodel = pickle.load(file)"
   ]
  },
  {
   "cell_type": "code",
   "execution_count": 5,
   "metadata": {},
   "outputs": [
    {
     "data": {
      "text/html": [
       "<div>\n",
       "<style scoped>\n",
       "    .dataframe tbody tr th:only-of-type {\n",
       "        vertical-align: middle;\n",
       "    }\n",
       "\n",
       "    .dataframe tbody tr th {\n",
       "        vertical-align: top;\n",
       "    }\n",
       "\n",
       "    .dataframe thead th {\n",
       "        text-align: right;\n",
       "    }\n",
       "</style>\n",
       "<table border=\"1\" class=\"dataframe\">\n",
       "  <thead>\n",
       "    <tr style=\"text-align: right;\">\n",
       "      <th></th>\n",
       "      <th>Sentence #</th>\n",
       "      <th>Word</th>\n",
       "      <th>Tag</th>\n",
       "    </tr>\n",
       "  </thead>\n",
       "  <tbody>\n",
       "    <tr>\n",
       "      <th>0</th>\n",
       "      <td>Sentence 1</td>\n",
       "      <td>Snapdragon</td>\n",
       "      <td>B-performance</td>\n",
       "    </tr>\n",
       "    <tr>\n",
       "      <th>1</th>\n",
       "      <td>Sentence 1</td>\n",
       "      <td>855+</td>\n",
       "      <td>I-performance</td>\n",
       "    </tr>\n",
       "    <tr>\n",
       "      <th>2</th>\n",
       "      <td>Sentence 2</td>\n",
       "      <td>Snapdragon</td>\n",
       "      <td>B-performance</td>\n",
       "    </tr>\n",
       "    <tr>\n",
       "      <th>3</th>\n",
       "      <td>Sentence 2</td>\n",
       "      <td>835</td>\n",
       "      <td>I-performance</td>\n",
       "    </tr>\n",
       "    <tr>\n",
       "      <th>4</th>\n",
       "      <td>Sentence 3</td>\n",
       "      <td>Snapdragon</td>\n",
       "      <td>B-performance</td>\n",
       "    </tr>\n",
       "  </tbody>\n",
       "</table>\n",
       "</div>"
      ],
      "text/plain": [
       "   Sentence #        Word            Tag\n",
       "0  Sentence 1  Snapdragon  B-performance\n",
       "1  Sentence 1        855+  I-performance\n",
       "2  Sentence 2  Snapdragon  B-performance\n",
       "3  Sentence 2         835  I-performance\n",
       "4  Sentence 3  Snapdragon  B-performance"
      ]
     },
     "execution_count": 5,
     "metadata": {},
     "output_type": "execute_result"
    }
   ],
   "source": [
    "data = pd.read_csv('datasets/cpu-iob-ner.csv', encoding='latin1')\n",
    "data.head()"
   ]
  },
  {
   "cell_type": "code",
   "execution_count": 20,
   "metadata": {},
   "outputs": [
    {
     "data": {
      "text/html": [
       "<div>\n",
       "<style scoped>\n",
       "    .dataframe tbody tr th:only-of-type {\n",
       "        vertical-align: middle;\n",
       "    }\n",
       "\n",
       "    .dataframe tbody tr th {\n",
       "        vertical-align: top;\n",
       "    }\n",
       "\n",
       "    .dataframe thead th {\n",
       "        text-align: right;\n",
       "    }\n",
       "</style>\n",
       "<table border=\"1\" class=\"dataframe\">\n",
       "  <thead>\n",
       "    <tr style=\"text-align: right;\">\n",
       "      <th></th>\n",
       "      <th>Sentence #</th>\n",
       "      <th>Word</th>\n",
       "      <th>Tag</th>\n",
       "    </tr>\n",
       "  </thead>\n",
       "  <tbody>\n",
       "    <tr>\n",
       "      <th>0</th>\n",
       "      <td>Sentence 1</td>\n",
       "      <td>snapdragon</td>\n",
       "      <td>B-performance</td>\n",
       "    </tr>\n",
       "    <tr>\n",
       "      <th>1</th>\n",
       "      <td>Sentence 1</td>\n",
       "      <td>630</td>\n",
       "      <td>I-performance</td>\n",
       "    </tr>\n",
       "    <tr>\n",
       "      <th>2</th>\n",
       "      <td>Sentence 2</td>\n",
       "      <td>snapdragon</td>\n",
       "      <td>B-performance</td>\n",
       "    </tr>\n",
       "    <tr>\n",
       "      <th>3</th>\n",
       "      <td>Sentence 2</td>\n",
       "      <td>435</td>\n",
       "      <td>I-performance</td>\n",
       "    </tr>\n",
       "    <tr>\n",
       "      <th>4</th>\n",
       "      <td>Sentence 3</td>\n",
       "      <td>helio</td>\n",
       "      <td>B-performance</td>\n",
       "    </tr>\n",
       "  </tbody>\n",
       "</table>\n",
       "</div>"
      ],
      "text/plain": [
       "   Sentence #        Word            Tag\n",
       "0  Sentence 1  snapdragon  B-performance\n",
       "1  Sentence 1         630  I-performance\n",
       "2  Sentence 2  snapdragon  B-performance\n",
       "3  Sentence 2         435  I-performance\n",
       "4  Sentence 3       helio  B-performance"
      ]
     },
     "execution_count": 20,
     "metadata": {},
     "output_type": "execute_result"
    }
   ],
   "source": [
    "data = pd.read_csv('datasets/cpu-iob-ner-2.csv', encoding='latin1')\n",
    "data.head()"
   ]
  },
  {
   "cell_type": "code",
   "execution_count": 31,
   "metadata": {},
   "outputs": [
    {
     "data": {
      "text/html": [
       "<div>\n",
       "<style scoped>\n",
       "    .dataframe tbody tr th:only-of-type {\n",
       "        vertical-align: middle;\n",
       "    }\n",
       "\n",
       "    .dataframe tbody tr th {\n",
       "        vertical-align: top;\n",
       "    }\n",
       "\n",
       "    .dataframe thead th {\n",
       "        text-align: right;\n",
       "    }\n",
       "</style>\n",
       "<table border=\"1\" class=\"dataframe\">\n",
       "  <thead>\n",
       "    <tr style=\"text-align: right;\">\n",
       "      <th></th>\n",
       "      <th>Sentence #</th>\n",
       "      <th>Word</th>\n",
       "      <th>Tag</th>\n",
       "    </tr>\n",
       "  </thead>\n",
       "  <tbody>\n",
       "    <tr>\n",
       "      <th>0</th>\n",
       "      <td>Sentence 1</td>\n",
       "      <td>using</td>\n",
       "      <td>O</td>\n",
       "    </tr>\n",
       "    <tr>\n",
       "      <th>1</th>\n",
       "      <td>Sentence 1</td>\n",
       "      <td>6</td>\n",
       "      <td>O</td>\n",
       "    </tr>\n",
       "    <tr>\n",
       "      <th>2</th>\n",
       "      <td>Sentence 1</td>\n",
       "      <td>month</td>\n",
       "      <td>O</td>\n",
       "    </tr>\n",
       "    <tr>\n",
       "      <th>3</th>\n",
       "      <td>Sentence 1</td>\n",
       "      <td>14k</td>\n",
       "      <td>O</td>\n",
       "    </tr>\n",
       "    <tr>\n",
       "      <th>4</th>\n",
       "      <td>Sentence 1</td>\n",
       "      <td>purchased</td>\n",
       "      <td>O</td>\n",
       "    </tr>\n",
       "  </tbody>\n",
       "</table>\n",
       "</div>"
      ],
      "text/plain": [
       "   Sentence #       Word Tag\n",
       "0  Sentence 1      using   O\n",
       "1  Sentence 1          6   O\n",
       "2  Sentence 1      month   O\n",
       "3  Sentence 1        14k   O\n",
       "4  Sentence 1  purchased   O"
      ]
     },
     "execution_count": 31,
     "metadata": {},
     "output_type": "execute_result"
    }
   ],
   "source": [
    "data = pd.read_csv('datasets/iob-ner.csv', encoding='latin1')\n",
    "data.head()"
   ]
  },
  {
   "cell_type": "code",
   "execution_count": 6,
   "metadata": {},
   "outputs": [],
   "source": [
    "def data_preps(data):\n",
    "\tdata[\"Sentence #\"] = LabelEncoder().fit_transform(data[\"Sentence #\"])\n",
    "\tdata.rename(columns={\"Sentence #\": \"sentence_id\", \"Word\": \"words\", \"Tag\": \"labels\"}, inplace =True)\n",
    "\tdata[\"labels\"] = data[\"labels\"].str.upper()\n",
    "\tdata.dropna(inplace=True)\n",
    "\n",
    "\tX = data[[\"sentence_id\",\"words\"]]\n",
    "\tY = data[\"labels\"]\n",
    "\n",
    "\treturn X, Y"
   ]
  },
  {
   "cell_type": "code",
   "execution_count": 32,
   "metadata": {},
   "outputs": [],
   "source": [
    "X, Y = data_preps(data)"
   ]
  },
  {
   "cell_type": "code",
   "execution_count": 3,
   "metadata": {},
   "outputs": [],
   "source": [
    "ENGLISH_STOPWORDS = stopwords.words('english')\n",
    "PUNCTUATION = string.punctuation\n",
    "LEMMATIZER = WordNetLemmatizer()"
   ]
  },
  {
   "cell_type": "code",
   "execution_count": 4,
   "metadata": {},
   "outputs": [],
   "source": [
    "def clean_text(text):\n",
    "  # Lowercase the text\n",
    "  text = text.lower()\n",
    "  text = emoji.replace_emoji(text, replace='')\n",
    "\n",
    "  words = word_tokenize(text)\n",
    "  words = [word for word in words if word not in ENGLISH_STOPWORDS]\n",
    "  words = [LEMMATIZER.lemmatize(word) for word in words]\n",
    "  words = [word for word in words if word not in PUNCTUATION]\n",
    "  words = [word for word in words if word.isalnum()]\n",
    "\n",
    "  # Join the cleaned tokens back into a string\n",
    "  clean_text = ' '.join(words)\n",
    "  return clean_text"
   ]
  },
  {
   "cell_type": "code",
   "execution_count": 80,
   "metadata": {},
   "outputs": [
    {
     "name": "stdout",
     "output_type": "stream",
     "text": [
      "apple pulled unexpected surprise iphone 14 pro lot solid rumor company switching putting camera face id system cutout instead familiar notch new dynamic island alert system came nowhere getting clearer apple would follow industry using bigger camera sensor eventually apple went even rebooted entire computational photography system photonic engine\n"
     ]
    }
   ],
   "source": [
    "# But not the Honor Magic V2, though. It remains special, like really special, for both foldable fans and the smartphone realm in general. Sure, it might be running a generation-old Snapdragon 8 Gen 2 chipset at this point, but that's about the only non-current and non-revolutionary thing about the Magic V2.\n",
    "# The island replaces Apple’s familiar and oft-reviled notch; it’s where the front camera and the Face ID system live since they’ve got to take up some space on the front of the display. Here’s the thing about the notch, though: after a few minutes of using it, it all but disappears.\n",
    "# display lcd much good oled clearly see difference compare low quality oled even real cheapest set oled display beat iphone 11 touch corner display sometime work instantly always face issue u connect sound quality lag app\n",
    "# The camera is the real showstopper here and rightfully, so. The retractable main camera is thoroughly interesting with its unique mechanical design, sure, but we cannot wait to test its 1\" sensor, one that makes use of sensor-shift stabilization, variable aperture lens and laser-assisted AF. Next is a 50MP telephoto camera for 3.5x optical zoom and up to 10x hybrid zoom, one that can do macro photos from as close as 5cm away! The 40MP ultrawide camera promises really wide field of view with its 13mm aperture lens, and it is AF-capable.\t\n",
    "# tensor\n",
    "txt = '''\n",
    "Apple pulled off some unexpected surprises with the iPhone 14 Pro: there had been lots of solid rumors about the company switching from putting the front-facing camera and Face ID system in a pill-shaped cutout instead of the familiar notch, but the new “Dynamic Island” alert system came out of nowhere. And while it was getting clearer that Apple would have to follow the industry in using bigger camera sensors eventually, Apple went even further and rebooted its entire computational photography system as the Photonic Engine.\n",
    "'''\n",
    "txt = clean_text(txt)\n",
    "print(txt)"
   ]
  },
  {
   "cell_type": "code",
   "execution_count": 81,
   "metadata": {},
   "outputs": [
    {
     "data": {
      "application/vnd.jupyter.widget-view+json": {
       "model_id": "09f38b6de90a4eaf8a78f63f5a757f41",
       "version_major": 2,
       "version_minor": 0
      },
      "text/plain": [
       "  0%|          | 0/1 [00:00<?, ?it/s]"
      ]
     },
     "metadata": {},
     "output_type": "display_data"
    },
    {
     "data": {
      "application/vnd.jupyter.widget-view+json": {
       "model_id": "ed5242810cd7456cb109d1df1745020f",
       "version_major": 2,
       "version_minor": 0
      },
      "text/plain": [
       "Running Prediction:   0%|          | 0/1 [00:00<?, ?it/s]"
      ]
     },
     "metadata": {},
     "output_type": "display_data"
    }
   ],
   "source": [
    "prediction, model_output = model.predict([txt])"
   ]
  },
  {
   "cell_type": "code",
   "execution_count": 124,
   "metadata": {},
   "outputs": [
    {
     "data": {
      "text/plain": [
       "[{'apple': 'O'},\n",
       " {'pulled': 'O'},\n",
       " {'unexpected': 'O'},\n",
       " {'surprise': 'O'},\n",
       " {'iphone': 'O'},\n",
       " {'14': 'O'},\n",
       " {'pro': 'O'},\n",
       " {'lot': 'O'},\n",
       " {'solid': 'O'},\n",
       " {'rumor': 'O'},\n",
       " {'company': 'O'},\n",
       " {'switching': 'O'},\n",
       " {'putting': 'O'},\n",
       " {'camera': 'B-CAMERA'},\n",
       " {'face': 'B-FEATURE'},\n",
       " {'id': 'I-FEATURE'},\n",
       " {'system': 'O'},\n",
       " {'cutout': 'O'},\n",
       " {'instead': 'O'},\n",
       " {'familiar': 'O'},\n",
       " {'notch': 'O'},\n",
       " {'new': 'O'},\n",
       " {'dynamic': 'O'},\n",
       " {'island': 'O'},\n",
       " {'alert': 'O'},\n",
       " {'system': 'O'},\n",
       " {'came': 'O'},\n",
       " {'nowhere': 'O'},\n",
       " {'getting': 'O'},\n",
       " {'clearer': 'O'},\n",
       " {'apple': 'O'},\n",
       " {'would': 'O'},\n",
       " {'follow': 'O'},\n",
       " {'industry': 'O'},\n",
       " {'using': 'O'},\n",
       " {'bigger': 'O'},\n",
       " {'camera': 'B-CAMERA'},\n",
       " {'sensor': 'B-FEATURE'},\n",
       " {'eventually': 'O'},\n",
       " {'apple': 'O'},\n",
       " {'went': 'O'},\n",
       " {'even': 'O'},\n",
       " {'rebooted': 'O'},\n",
       " {'entire': 'O'},\n",
       " {'computational': 'O'},\n",
       " {'photography': 'B-CAMERA'},\n",
       " {'system': 'O'},\n",
       " {'photonic': 'O'},\n",
       " {'engine': 'O'}]"
      ]
     },
     "execution_count": 124,
     "metadata": {},
     "output_type": "execute_result"
    }
   ],
   "source": [
    "prediction[0]"
   ]
  },
  {
   "cell_type": "code",
   "execution_count": 137,
   "metadata": {},
   "outputs": [],
   "source": [
    "word = [key for item in prediction[0] for key in item.keys()]\n",
    "word = ' '.join(word)\n",
    "\n",
    "tag = [key for item in prediction[0] for key in item.values()]\n",
    "tag = ' '.join(tag)"
   ]
  },
  {
   "cell_type": "code",
   "execution_count": 135,
   "metadata": {},
   "outputs": [
    {
     "data": {
      "text/html": [
       "<div>\n",
       "<style scoped>\n",
       "    .dataframe tbody tr th:only-of-type {\n",
       "        vertical-align: middle;\n",
       "    }\n",
       "\n",
       "    .dataframe tbody tr th {\n",
       "        vertical-align: top;\n",
       "    }\n",
       "\n",
       "    .dataframe thead th {\n",
       "        text-align: right;\n",
       "    }\n",
       "</style>\n",
       "<table border=\"1\" class=\"dataframe\">\n",
       "  <thead>\n",
       "    <tr style=\"text-align: right;\">\n",
       "      <th></th>\n",
       "      <th>sentence_id</th>\n",
       "      <th>words</th>\n",
       "      <th>labels</th>\n",
       "    </tr>\n",
       "  </thead>\n",
       "  <tbody>\n",
       "    <tr>\n",
       "      <th>0</th>\n",
       "      <td>1</td>\n",
       "      <td>apple</td>\n",
       "      <td>O</td>\n",
       "    </tr>\n",
       "    <tr>\n",
       "      <th>1</th>\n",
       "      <td>1</td>\n",
       "      <td>pulled</td>\n",
       "      <td>O</td>\n",
       "    </tr>\n",
       "    <tr>\n",
       "      <th>2</th>\n",
       "      <td>1</td>\n",
       "      <td>unexpected</td>\n",
       "      <td>O</td>\n",
       "    </tr>\n",
       "    <tr>\n",
       "      <th>3</th>\n",
       "      <td>1</td>\n",
       "      <td>surprise</td>\n",
       "      <td>O</td>\n",
       "    </tr>\n",
       "    <tr>\n",
       "      <th>4</th>\n",
       "      <td>1</td>\n",
       "      <td>iphone</td>\n",
       "      <td>O</td>\n",
       "    </tr>\n",
       "  </tbody>\n",
       "</table>\n",
       "</div>"
      ],
      "text/plain": [
       "   sentence_id       words labels\n",
       "0            1       apple      O\n",
       "1            1      pulled      O\n",
       "2            1  unexpected      O\n",
       "3            1    surprise      O\n",
       "4            1      iphone      O"
      ]
     },
     "execution_count": 135,
     "metadata": {},
     "output_type": "execute_result"
    }
   ],
   "source": [
    "re_train = pd.DataFrame({'sentence_id': 1, 'words': word, 'labels': tag})\n",
    "re_train.head()"
   ]
  }
 ],
 "metadata": {
  "kernelspec": {
   "display_name": "my_env",
   "language": "python",
   "name": "python3"
  },
  "language_info": {
   "codemirror_mode": {
    "name": "ipython",
    "version": 3
   },
   "file_extension": ".py",
   "mimetype": "text/x-python",
   "name": "python",
   "nbconvert_exporter": "python",
   "pygments_lexer": "ipython3",
   "version": "3.12.3"
  }
 },
 "nbformat": 4,
 "nbformat_minor": 2
}
