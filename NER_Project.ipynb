{
  "cells": [
    {
      "cell_type": "markdown",
      "metadata": {
        "id": "lwhke3ej-rwe"
      },
      "source": [
        "# **Import and install**"
      ]
    },
    {
      "cell_type": "code",
      "execution_count": 1,
      "metadata": {
        "id": "KJEGHqGCbQPd"
      },
      "outputs": [],
      "source": [
        "import pandas as pd\n",
        "import string\n",
        "import emoji\n",
        "import pickle\n",
        "import torch.nn as nn\n",
        "from nltk.corpus import stopwords\n",
        "from nltk.tokenize import word_tokenize\n",
        "from nltk.stem import WordNetLemmatizer\n",
        "from sklearn.preprocessing import LabelEncoder\n",
        "from sklearn.metrics import accuracy_score\n",
        "from sklearn.model_selection import train_test_split\n",
        "from simpletransformers.ner import NERModel, NERArgs"
      ]
    },
    {
      "cell_type": "markdown",
      "metadata": {},
      "source": [
        "# **Function**"
      ]
    },
    {
      "cell_type": "code",
      "execution_count": 2,
      "metadata": {},
      "outputs": [],
      "source": [
        "ENGLISH_STOPWORDS = stopwords.words('english')\n",
        "PUNCTUATION = string.punctuation\n",
        "LEMMATIZER = WordNetLemmatizer()"
      ]
    },
    {
      "cell_type": "code",
      "execution_count": 3,
      "metadata": {},
      "outputs": [],
      "source": [
        "def to_iob_tag(data_1, data_2, filename):\n",
        "\tarr = []\n",
        "\tfor i, (cleaned_review, tag) in enumerate(zip(data_1, data_2)):\n",
        "\t\treview_tokenize = word_tokenize(cleaned_review)\n",
        "\t\ttag_tokenize = word_tokenize(tag)\n",
        "\n",
        "\t\tfor (review_edit, tag_edit) in zip(review_tokenize, tag_tokenize):\n",
        "\t\t\tflag = f'Sentence {i + 1}'\n",
        "\t\t\tarr.append((flag, review_edit, tag_edit))\n",
        "\n",
        "\ttokenize_df = pd.DataFrame(arr)\n",
        "\ttokenize_df.rename(columns={0: 'Sentence #', 1: 'Word', 2: 'Tag'}, inplace=True)\n",
        "\ttokenize_df[\"Sentence #\"] = LabelEncoder().fit_transform(tokenize_df[\"Sentence #\"])\n",
        "\ttokenize_df.rename(columns={\"Sentence #\": \"sentence_id\", \"Word\": \"words\", \"Tag\": \"labels\"}, inplace =True)\n",
        "\ttokenize_df[\"labels\"] = tokenize_df[\"labels\"].str.upper()\n",
        "\ttokenize_df.dropna(inplace=True)\n",
        "\ttokenize_df.to_csv(f'datasets/{filename}.csv', index=False)"
      ]
    },
    {
      "cell_type": "code",
      "execution_count": 4,
      "metadata": {},
      "outputs": [],
      "source": [
        "def clean_text(text):\n",
        "  # Lowercase the text\n",
        "  text = text.lower()\n",
        "  text = emoji.replace_emoji(text, replace='')\n",
        "\n",
        "  words = word_tokenize(text)\n",
        "  words = [word for word in words if word not in ENGLISH_STOPWORDS]\n",
        "  words = [LEMMATIZER.lemmatize(word) for word in words]\n",
        "  words = [word for word in words if word not in PUNCTUATION]\n",
        "  words = [word for word in words if word.isalnum()]\n",
        "\n",
        "  # Join the cleaned tokens back into a string\n",
        "  clean_text = ' '.join(words)\n",
        "  return clean_text"
      ]
    },
    {
      "cell_type": "markdown",
      "metadata": {
        "id": "5ADXEEOzsmVl"
      },
      "source": [
        "# **Data Preparations**"
      ]
    },
    {
      "cell_type": "markdown",
      "metadata": {},
      "source": [
        "## **Cleaning Data**"
      ]
    },
    {
      "cell_type": "code",
      "execution_count": 5,
      "metadata": {
        "colab": {
          "base_uri": "https://localhost:8080/",
          "height": 833
        },
        "id": "8GLX4j3LcX6k",
        "outputId": "1ae89de2-ad04-4dbe-998f-20256c6654c3"
      },
      "outputs": [
        {
          "data": {
            "text/html": [
              "<div>\n",
              "<style scoped>\n",
              "    .dataframe tbody tr th:only-of-type {\n",
              "        vertical-align: middle;\n",
              "    }\n",
              "\n",
              "    .dataframe tbody tr th {\n",
              "        vertical-align: top;\n",
              "    }\n",
              "\n",
              "    .dataframe thead th {\n",
              "        text-align: right;\n",
              "    }\n",
              "</style>\n",
              "<table border=\"1\" class=\"dataframe\">\n",
              "  <thead>\n",
              "    <tr style=\"text-align: right;\">\n",
              "      <th></th>\n",
              "      <th>product</th>\n",
              "      <th>product_company</th>\n",
              "      <th>profile_name</th>\n",
              "      <th>review_title</th>\n",
              "      <th>review_rating</th>\n",
              "      <th>review_text</th>\n",
              "      <th>helpful_count</th>\n",
              "      <th>total_comments</th>\n",
              "      <th>review_country</th>\n",
              "      <th>reviewed_at</th>\n",
              "      <th>url</th>\n",
              "      <th>crawled_at</th>\n",
              "      <th>_id</th>\n",
              "      <th>verified_purchase</th>\n",
              "      <th>color</th>\n",
              "      <th>style_name</th>\n",
              "      <th>size_name</th>\n",
              "      <th>category</th>\n",
              "      <th>sub_category</th>\n",
              "      <th>images</th>\n",
              "    </tr>\n",
              "  </thead>\n",
              "  <tbody>\n",
              "    <tr>\n",
              "      <th>0</th>\n",
              "      <td>OnePlus Nord 5G (Gray Onyx, 8GB RAM, 128GB Sto...</td>\n",
              "      <td>OnePlus</td>\n",
              "      <td>Nikhil</td>\n",
              "      <td>*Read before you buy!!*</td>\n",
              "      <td>5.0 out of 5 stars</td>\n",
              "      <td>\\n  Yea..pre-ordered on 28 July, got it on 4 A...</td>\n",
              "      <td>721 people found this helpful</td>\n",
              "      <td>3</td>\n",
              "      <td>India</td>\n",
              "      <td>4 August 2020</td>\n",
              "      <td>https://www.amazon.in/product-reviews/B08695ZS...</td>\n",
              "      <td>1.603020e+12</td>\n",
              "      <td>45ca015a-2e39-5650-a174-ba966dd1e51f</td>\n",
              "      <td>Verified Purchase</td>\n",
              "      <td>Marble Blue</td>\n",
              "      <td>8GB RAM + 128GB Storage</td>\n",
              "      <td>na</td>\n",
              "      <td>electronics</td>\n",
              "      <td>mobiles</td>\n",
              "      <td>['https://images-na.ssl-images-amazon.com/imag...</td>\n",
              "    </tr>\n",
              "    <tr>\n",
              "      <th>1</th>\n",
              "      <td>OnePlus Nord 5G (Gray Onyx, 8GB RAM, 128GB Sto...</td>\n",
              "      <td>OnePlus</td>\n",
              "      <td>Amit</td>\n",
              "      <td>Near to mid range  Perfection</td>\n",
              "      <td>5.0 out of 5 stars</td>\n",
              "      <td>\\n  Got it delivered yesterday , used for abou...</td>\n",
              "      <td>436 people found this helpful</td>\n",
              "      <td>1</td>\n",
              "      <td>India</td>\n",
              "      <td>3 August 2020</td>\n",
              "      <td>https://www.amazon.in/product-reviews/B08695ZS...</td>\n",
              "      <td>1.603020e+12</td>\n",
              "      <td>6820f8ae-f3cd-5783-b826-5e5805376047</td>\n",
              "      <td>Verified Purchase</td>\n",
              "      <td>na</td>\n",
              "      <td>na</td>\n",
              "      <td>na</td>\n",
              "      <td>electronics</td>\n",
              "      <td>mobiles</td>\n",
              "      <td>[]</td>\n",
              "    </tr>\n",
              "    <tr>\n",
              "      <th>2</th>\n",
              "      <td>OnePlus Nord 5G (Gray Onyx, 8GB RAM, 128GB Sto...</td>\n",
              "      <td>OnePlus</td>\n",
              "      <td>aishwarya</td>\n",
              "      <td>Great price!</td>\n",
              "      <td>5.0 out of 5 stars</td>\n",
              "      <td>\\n  An amazing phone!</td>\n",
              "      <td>322 people found this helpful</td>\n",
              "      <td>1</td>\n",
              "      <td>India</td>\n",
              "      <td>4 August 2020</td>\n",
              "      <td>https://www.amazon.in/product-reviews/B08695ZS...</td>\n",
              "      <td>1.603020e+12</td>\n",
              "      <td>bea91c43-8d65-5ef5-ab04-595a5f5cc542</td>\n",
              "      <td>Verified Purchase</td>\n",
              "      <td>na</td>\n",
              "      <td>na</td>\n",
              "      <td>na</td>\n",
              "      <td>electronics</td>\n",
              "      <td>mobiles</td>\n",
              "      <td>['https://images-na.ssl-images-amazon.com/imag...</td>\n",
              "    </tr>\n",
              "    <tr>\n",
              "      <th>3</th>\n",
              "      <td>OnePlus Nord 5G (Gray Onyx, 8GB RAM, 128GB Sto...</td>\n",
              "      <td>OnePlus</td>\n",
              "      <td>vasu a.</td>\n",
              "      <td>Beast in OnePlus.</td>\n",
              "      <td>5.0 out of 5 stars</td>\n",
              "      <td>\\n  Brilliant..</td>\n",
              "      <td>243 people found this helpful</td>\n",
              "      <td>7</td>\n",
              "      <td>India</td>\n",
              "      <td>2 August 2020</td>\n",
              "      <td>https://www.amazon.in/product-reviews/B08695ZS...</td>\n",
              "      <td>1.603020e+12</td>\n",
              "      <td>76f68b53-5c52-56b2-9727-a5ab8c4bb4ff</td>\n",
              "      <td>Verified Purchase</td>\n",
              "      <td>na</td>\n",
              "      <td>na</td>\n",
              "      <td>na</td>\n",
              "      <td>electronics</td>\n",
              "      <td>mobiles</td>\n",
              "      <td>['https://images-na.ssl-images-amazon.com/imag...</td>\n",
              "    </tr>\n",
              "    <tr>\n",
              "      <th>4</th>\n",
              "      <td>OnePlus Nord 5G (Gray Onyx, 8GB RAM, 128GB Sto...</td>\n",
              "      <td>OnePlus</td>\n",
              "      <td>Amazon Customer</td>\n",
              "      <td>Changed to Nord from 6t</td>\n",
              "      <td>5.0 out of 5 stars</td>\n",
              "      <td>\\n  I was skeptical about changing from One pl...</td>\n",
              "      <td>109 people found this helpful</td>\n",
              "      <td>2</td>\n",
              "      <td>India</td>\n",
              "      <td>4 August 2020</td>\n",
              "      <td>https://www.amazon.in/product-reviews/B08695ZS...</td>\n",
              "      <td>1.603020e+12</td>\n",
              "      <td>22228681-b884-56a1-b04e-87167f6f76e6</td>\n",
              "      <td>Verified Purchase</td>\n",
              "      <td>na</td>\n",
              "      <td>na</td>\n",
              "      <td>na</td>\n",
              "      <td>electronics</td>\n",
              "      <td>mobiles</td>\n",
              "      <td>[]</td>\n",
              "    </tr>\n",
              "  </tbody>\n",
              "</table>\n",
              "</div>"
            ],
            "text/plain": [
              "                                             product product_company  \\\n",
              "0  OnePlus Nord 5G (Gray Onyx, 8GB RAM, 128GB Sto...         OnePlus   \n",
              "1  OnePlus Nord 5G (Gray Onyx, 8GB RAM, 128GB Sto...         OnePlus   \n",
              "2  OnePlus Nord 5G (Gray Onyx, 8GB RAM, 128GB Sto...         OnePlus   \n",
              "3  OnePlus Nord 5G (Gray Onyx, 8GB RAM, 128GB Sto...         OnePlus   \n",
              "4  OnePlus Nord 5G (Gray Onyx, 8GB RAM, 128GB Sto...         OnePlus   \n",
              "\n",
              "      profile_name                   review_title       review_rating  \\\n",
              "0           Nikhil        *Read before you buy!!*  5.0 out of 5 stars   \n",
              "1             Amit  Near to mid range  Perfection  5.0 out of 5 stars   \n",
              "2        aishwarya                   Great price!  5.0 out of 5 stars   \n",
              "3          vasu a.              Beast in OnePlus.  5.0 out of 5 stars   \n",
              "4  Amazon Customer        Changed to Nord from 6t  5.0 out of 5 stars   \n",
              "\n",
              "                                         review_text  \\\n",
              "0  \\n  Yea..pre-ordered on 28 July, got it on 4 A...   \n",
              "1  \\n  Got it delivered yesterday , used for abou...   \n",
              "2                              \\n  An amazing phone!   \n",
              "3                                    \\n  Brilliant..   \n",
              "4  \\n  I was skeptical about changing from One pl...   \n",
              "\n",
              "                   helpful_count  total_comments review_country  \\\n",
              "0  721 people found this helpful               3         India    \n",
              "1  436 people found this helpful               1         India    \n",
              "2  322 people found this helpful               1         India    \n",
              "3  243 people found this helpful               7         India    \n",
              "4  109 people found this helpful               2         India    \n",
              "\n",
              "      reviewed_at                                                url  \\\n",
              "0   4 August 2020  https://www.amazon.in/product-reviews/B08695ZS...   \n",
              "1   3 August 2020  https://www.amazon.in/product-reviews/B08695ZS...   \n",
              "2   4 August 2020  https://www.amazon.in/product-reviews/B08695ZS...   \n",
              "3   2 August 2020  https://www.amazon.in/product-reviews/B08695ZS...   \n",
              "4   4 August 2020  https://www.amazon.in/product-reviews/B08695ZS...   \n",
              "\n",
              "     crawled_at                                   _id  verified_purchase  \\\n",
              "0  1.603020e+12  45ca015a-2e39-5650-a174-ba966dd1e51f  Verified Purchase   \n",
              "1  1.603020e+12  6820f8ae-f3cd-5783-b826-5e5805376047  Verified Purchase   \n",
              "2  1.603020e+12  bea91c43-8d65-5ef5-ab04-595a5f5cc542  Verified Purchase   \n",
              "3  1.603020e+12  76f68b53-5c52-56b2-9727-a5ab8c4bb4ff  Verified Purchase   \n",
              "4  1.603020e+12  22228681-b884-56a1-b04e-87167f6f76e6  Verified Purchase   \n",
              "\n",
              "          color                style_name size_name     category sub_category  \\\n",
              "0   Marble Blue   8GB RAM + 128GB Storage        na  electronics      mobiles   \n",
              "1            na                        na        na  electronics      mobiles   \n",
              "2            na                        na        na  electronics      mobiles   \n",
              "3            na                        na        na  electronics      mobiles   \n",
              "4            na                        na        na  electronics      mobiles   \n",
              "\n",
              "                                              images  \n",
              "0  ['https://images-na.ssl-images-amazon.com/imag...  \n",
              "1                                                 []  \n",
              "2  ['https://images-na.ssl-images-amazon.com/imag...  \n",
              "3  ['https://images-na.ssl-images-amazon.com/imag...  \n",
              "4                                                 []  "
            ]
          },
          "execution_count": 5,
          "metadata": {},
          "output_type": "execute_result"
        }
      ],
      "source": [
        "data = pd.read_csv('datasets/raw_datasets/amazon_one_plus_reviews.csv', encoding='latin1')\n",
        "data.head()"
      ]
    },
    {
      "cell_type": "code",
      "execution_count": 6,
      "metadata": {
        "colab": {
          "base_uri": "https://localhost:8080/"
        },
        "id": "sXJBmm6oe-eY",
        "outputId": "c84fa028-864e-424e-e09f-64928f2ffb85"
      },
      "outputs": [
        {
          "data": {
            "text/plain": [
              "0    \\n  Yea..pre-ordered on 28 July, got it on 4 A...\n",
              "1    \\n  Got it delivered yesterday , used for abou...\n",
              "2                                \\n  An amazing phone!\n",
              "3                                      \\n  Brilliant..\n",
              "4    \\n  I was skeptical about changing from One pl...\n",
              "Name: review_text, dtype: object"
            ]
          },
          "execution_count": 6,
          "metadata": {},
          "output_type": "execute_result"
        }
      ],
      "source": [
        "data = data['review_text']\n",
        "data.head()"
      ]
    },
    {
      "cell_type": "code",
      "execution_count": 7,
      "metadata": {
        "id": "_sDJjSTc7A3o"
      },
      "outputs": [],
      "source": [
        "data.dropna(inplace=True)"
      ]
    },
    {
      "cell_type": "code",
      "execution_count": 8,
      "metadata": {
        "colab": {
          "base_uri": "https://localhost:8080/"
        },
        "id": "EDzXh7Ay7vSH",
        "outputId": "c0f79ca8-89a6-4250-d369-b6ea1decf1af"
      },
      "outputs": [
        {
          "data": {
            "text/plain": [
              "False"
            ]
          },
          "execution_count": 8,
          "metadata": {},
          "output_type": "execute_result"
        }
      ],
      "source": [
        "data.isna().any()"
      ]
    },
    {
      "cell_type": "code",
      "execution_count": 9,
      "metadata": {
        "colab": {
          "base_uri": "https://localhost:8080/"
        },
        "id": "p6vJtf1_fg_7",
        "outputId": "7f896ebb-92d6-4980-a924-fa9b63e2e90a"
      },
      "outputs": [
        {
          "data": {
            "text/plain": [
              "0    yea 28 july got 4 august package nice without ...\n",
              "1    got delivered yesterday used hour tell first m...\n",
              "2                                        amazing phone\n",
              "3                                            brilliant\n",
              "4    skeptical changing one plus 6t nord 845 still ...\n",
              "Name: review_text, dtype: object"
            ]
          },
          "execution_count": 9,
          "metadata": {},
          "output_type": "execute_result"
        }
      ],
      "source": [
        "data = data.apply(clean_text)\n",
        "data.head()"
      ]
    },
    {
      "cell_type": "code",
      "execution_count": 10,
      "metadata": {
        "id": "irUllo1Nf3X0"
      },
      "outputs": [],
      "source": [
        "data.to_csv('datasets/cleaned/clean_amazon_one_plus_reviews.csv', index=False)"
      ]
    },
    {
      "cell_type": "code",
      "execution_count": 11,
      "metadata": {
        "colab": {
          "base_uri": "https://localhost:8080/",
          "height": 660
        },
        "id": "7Z_bVnITgbcq",
        "outputId": "02207bc3-76b4-4e76-98f5-71336c8fcb07"
      },
      "outputs": [
        {
          "data": {
            "text/html": [
              "<div>\n",
              "<style scoped>\n",
              "    .dataframe tbody tr th:only-of-type {\n",
              "        vertical-align: middle;\n",
              "    }\n",
              "\n",
              "    .dataframe tbody tr th {\n",
              "        vertical-align: top;\n",
              "    }\n",
              "\n",
              "    .dataframe thead th {\n",
              "        text-align: right;\n",
              "    }\n",
              "</style>\n",
              "<table border=\"1\" class=\"dataframe\">\n",
              "  <thead>\n",
              "    <tr style=\"text-align: right;\">\n",
              "      <th></th>\n",
              "      <th>category</th>\n",
              "      <th>rating</th>\n",
              "      <th>product</th>\n",
              "      <th>helpful_count</th>\n",
              "      <th>crawled_at</th>\n",
              "      <th>sub_category</th>\n",
              "      <th>asin</th>\n",
              "      <th>review_country</th>\n",
              "      <th>raw_description</th>\n",
              "      <th>description</th>\n",
              "      <th>profile_name</th>\n",
              "      <th>reviewed_at</th>\n",
              "      <th>_id</th>\n",
              "      <th>average_rating</th>\n",
              "      <th>product_company</th>\n",
              "      <th>review_title</th>\n",
              "      <th>review_uniq_id</th>\n",
              "      <th>images</th>\n",
              "      <th>verified_purchase</th>\n",
              "      <th>total_comments</th>\n",
              "    </tr>\n",
              "  </thead>\n",
              "  <tbody>\n",
              "    <tr>\n",
              "      <th>0</th>\n",
              "      <td>Mobiles &amp; Accessories</td>\n",
              "      <td>1</td>\n",
              "      <td>New Apple iPhone 11 (64GB) - Purple</td>\n",
              "      <td>356</td>\n",
              "      <td>2021-01-26 13:54:03</td>\n",
              "      <td>Smartphones &amp; Basic Mobiles</td>\n",
              "      <td>B08L8CHS2X</td>\n",
              "      <td>India</td>\n",
              "      <td>&lt;span class=\"a-size-base review-text review-te...</td>\n",
              "      <td>\\n\\n  The phone seems to be owned by some shiv...</td>\n",
              "      <td>Amazon Customer</td>\n",
              "      <td>2020-06-10 00:00:00</td>\n",
              "      <td>f7030d10-c987-536b-a356-f642cb1ec5e3</td>\n",
              "      <td>4.5</td>\n",
              "      <td>Apple</td>\n",
              "      <td>Second hand device</td>\n",
              "      <td>RCNKLUGAMJBPH</td>\n",
              "      <td>[]</td>\n",
              "      <td>True</td>\n",
              "      <td>0</td>\n",
              "    </tr>\n",
              "    <tr>\n",
              "      <th>1</th>\n",
              "      <td>Mobiles &amp; Accessories</td>\n",
              "      <td>1</td>\n",
              "      <td>New Apple iPhone 11 (64GB) - Purple</td>\n",
              "      <td>363</td>\n",
              "      <td>2021-01-26 13:54:03</td>\n",
              "      <td>Smartphones &amp; Basic Mobiles</td>\n",
              "      <td>B08L8CHS2X</td>\n",
              "      <td>India</td>\n",
              "      <td>&lt;span class=\"a-size-base review-text review-te...</td>\n",
              "      <td>\\n\\n  Its my first iphone and now Iâm feelin...</td>\n",
              "      <td>Bhawna juyal</td>\n",
              "      <td>2019-10-10 00:00:00</td>\n",
              "      <td>775c9997-8c2c-5dda-9faf-0f0e29ac9cb0</td>\n",
              "      <td>4.5</td>\n",
              "      <td>Apple</td>\n",
              "      <td>Heating issue</td>\n",
              "      <td>R1HWMMIJ21WTZR</td>\n",
              "      <td>[]</td>\n",
              "      <td>True</td>\n",
              "      <td>0</td>\n",
              "    </tr>\n",
              "    <tr>\n",
              "      <th>2</th>\n",
              "      <td>Mobiles &amp; Accessories</td>\n",
              "      <td>1</td>\n",
              "      <td>New Apple iPhone 11 (64GB) - Purple</td>\n",
              "      <td>239</td>\n",
              "      <td>2021-01-26 13:54:03</td>\n",
              "      <td>Smartphones &amp; Basic Mobiles</td>\n",
              "      <td>B08L8CHS2X</td>\n",
              "      <td>India</td>\n",
              "      <td>&lt;span class=\"a-size-base review-text review-te...</td>\n",
              "      <td>\\n\\n  I found this black spot while doing set ...</td>\n",
              "      <td>Vinayak</td>\n",
              "      <td>2020-06-06 00:00:00</td>\n",
              "      <td>089a10aa-ef92-577c-93f7-fd85e26f6bf0</td>\n",
              "      <td>4.5</td>\n",
              "      <td>Apple</td>\n",
              "      <td>Black spot found on the new phone.</td>\n",
              "      <td>R3FZWAU9I8B7Q5</td>\n",
              "      <td>['https://images-na.ssl-images-amazon.com/imag...</td>\n",
              "      <td>True</td>\n",
              "      <td>0</td>\n",
              "    </tr>\n",
              "    <tr>\n",
              "      <th>3</th>\n",
              "      <td>Mobiles &amp; Accessories</td>\n",
              "      <td>1</td>\n",
              "      <td>New Apple iPhone 11 (64GB) - Purple</td>\n",
              "      <td>277</td>\n",
              "      <td>2021-01-26 13:54:03</td>\n",
              "      <td>Smartphones &amp; Basic Mobiles</td>\n",
              "      <td>B08L8CHS2X</td>\n",
              "      <td>India</td>\n",
              "      <td>&lt;span class=\"a-size-base review-text review-te...</td>\n",
              "      <td>\\n\\n  Samsung s10 is much better than iphone 1...</td>\n",
              "      <td>Shipra Goyal</td>\n",
              "      <td>2019-10-23 00:00:00</td>\n",
              "      <td>217a69c8-f3d6-58b0-9ec0-8a1e3514e24e</td>\n",
              "      <td>4.5</td>\n",
              "      <td>Apple</td>\n",
              "      <td>Samsung s10 is better than iphone</td>\n",
              "      <td>R386FDLMAZDUPG</td>\n",
              "      <td>[]</td>\n",
              "      <td>True</td>\n",
              "      <td>0</td>\n",
              "    </tr>\n",
              "    <tr>\n",
              "      <th>4</th>\n",
              "      <td>Mobiles &amp; Accessories</td>\n",
              "      <td>1</td>\n",
              "      <td>New Apple iPhone 11 (64GB) - Purple</td>\n",
              "      <td>191</td>\n",
              "      <td>2021-01-26 13:54:03</td>\n",
              "      <td>Smartphones &amp; Basic Mobiles</td>\n",
              "      <td>B08L8CHS2X</td>\n",
              "      <td>India</td>\n",
              "      <td>&lt;span class=\"a-size-base review-text review-te...</td>\n",
              "      <td>\\n\\n  hiI had purchased this phone in first we...</td>\n",
              "      <td>gaurav garg</td>\n",
              "      <td>2020-06-24 00:00:00</td>\n",
              "      <td>5e2e9ea9-a32d-51fe-bd7b-f0ebe5749ebd</td>\n",
              "      <td>4.5</td>\n",
              "      <td>Apple</td>\n",
              "      <td>Defective model</td>\n",
              "      <td>RXAOS1IG04N09</td>\n",
              "      <td>[]</td>\n",
              "      <td>True</td>\n",
              "      <td>0</td>\n",
              "    </tr>\n",
              "  </tbody>\n",
              "</table>\n",
              "</div>"
            ],
            "text/plain": [
              "                category  rating                              product  \\\n",
              "0  Mobiles & Accessories       1  New Apple iPhone 11 (64GB) - Purple   \n",
              "1  Mobiles & Accessories       1  New Apple iPhone 11 (64GB) - Purple   \n",
              "2  Mobiles & Accessories       1  New Apple iPhone 11 (64GB) - Purple   \n",
              "3  Mobiles & Accessories       1  New Apple iPhone 11 (64GB) - Purple   \n",
              "4  Mobiles & Accessories       1  New Apple iPhone 11 (64GB) - Purple   \n",
              "\n",
              "  helpful_count           crawled_at                 sub_category        asin  \\\n",
              "0           356  2021-01-26 13:54:03  Smartphones & Basic Mobiles  B08L8CHS2X   \n",
              "1           363  2021-01-26 13:54:03  Smartphones & Basic Mobiles  B08L8CHS2X   \n",
              "2           239  2021-01-26 13:54:03  Smartphones & Basic Mobiles  B08L8CHS2X   \n",
              "3           277  2021-01-26 13:54:03  Smartphones & Basic Mobiles  B08L8CHS2X   \n",
              "4           191  2021-01-26 13:54:03  Smartphones & Basic Mobiles  B08L8CHS2X   \n",
              "\n",
              "  review_country                                    raw_description  \\\n",
              "0          India  <span class=\"a-size-base review-text review-te...   \n",
              "1          India  <span class=\"a-size-base review-text review-te...   \n",
              "2          India  <span class=\"a-size-base review-text review-te...   \n",
              "3          India  <span class=\"a-size-base review-text review-te...   \n",
              "4          India  <span class=\"a-size-base review-text review-te...   \n",
              "\n",
              "                                         description     profile_name  \\\n",
              "0  \\n\\n  The phone seems to be owned by some shiv...  Amazon Customer   \n",
              "1  \\n\\n  Its my first iphone and now Iâm feelin...     Bhawna juyal   \n",
              "2  \\n\\n  I found this black spot while doing set ...          Vinayak   \n",
              "3  \\n\\n  Samsung s10 is much better than iphone 1...     Shipra Goyal   \n",
              "4  \\n\\n  hiI had purchased this phone in first we...      gaurav garg   \n",
              "\n",
              "           reviewed_at                                   _id  average_rating  \\\n",
              "0  2020-06-10 00:00:00  f7030d10-c987-536b-a356-f642cb1ec5e3             4.5   \n",
              "1  2019-10-10 00:00:00  775c9997-8c2c-5dda-9faf-0f0e29ac9cb0             4.5   \n",
              "2  2020-06-06 00:00:00  089a10aa-ef92-577c-93f7-fd85e26f6bf0             4.5   \n",
              "3  2019-10-23 00:00:00  217a69c8-f3d6-58b0-9ec0-8a1e3514e24e             4.5   \n",
              "4  2020-06-24 00:00:00  5e2e9ea9-a32d-51fe-bd7b-f0ebe5749ebd             4.5   \n",
              "\n",
              "  product_company                        review_title  review_uniq_id  \\\n",
              "0           Apple                  Second hand device   RCNKLUGAMJBPH   \n",
              "1           Apple                       Heating issue  R1HWMMIJ21WTZR   \n",
              "2           Apple  Black spot found on the new phone.  R3FZWAU9I8B7Q5   \n",
              "3           Apple   Samsung s10 is better than iphone  R386FDLMAZDUPG   \n",
              "4           Apple                     Defective model   RXAOS1IG04N09   \n",
              "\n",
              "                                              images  verified_purchase  \\\n",
              "0                                                 []               True   \n",
              "1                                                 []               True   \n",
              "2  ['https://images-na.ssl-images-amazon.com/imag...               True   \n",
              "3                                                 []               True   \n",
              "4                                                 []               True   \n",
              "\n",
              "   total_comments  \n",
              "0               0  \n",
              "1               0  \n",
              "2               0  \n",
              "3               0  \n",
              "4               0  "
            ]
          },
          "execution_count": 11,
          "metadata": {},
          "output_type": "execute_result"
        }
      ],
      "source": [
        "data = pd.read_csv('datasets/raw_datasets/apple_reviews.csv', encoding='latin1')\n",
        "data.head()"
      ]
    },
    {
      "cell_type": "code",
      "execution_count": 12,
      "metadata": {
        "colab": {
          "base_uri": "https://localhost:8080/"
        },
        "id": "RRkhCqZSpyFx",
        "outputId": "21d254c8-39a2-4beb-b175-49e06393f893"
      },
      "outputs": [
        {
          "data": {
            "text/plain": [
              "0    \\n\\n  The phone seems to be owned by some shiv...\n",
              "1    \\n\\n  Its my first iphone and now Iâm feelin...\n",
              "2    \\n\\n  I found this black spot while doing set ...\n",
              "3    \\n\\n  Samsung s10 is much better than iphone 1...\n",
              "4    \\n\\n  hiI had purchased this phone in first we...\n",
              "Name: description, dtype: object"
            ]
          },
          "execution_count": 12,
          "metadata": {},
          "output_type": "execute_result"
        }
      ],
      "source": [
        "data = data['description']\n",
        "data.head()"
      ]
    },
    {
      "cell_type": "code",
      "execution_count": 13,
      "metadata": {
        "id": "Nn75pqLkp8G8"
      },
      "outputs": [],
      "source": [
        "data.dropna(inplace=True)"
      ]
    },
    {
      "cell_type": "code",
      "execution_count": 14,
      "metadata": {
        "colab": {
          "base_uri": "https://localhost:8080/"
        },
        "id": "wMDgpc6drvrC",
        "outputId": "c26e9032-8f9c-4e2a-cc92-6b4ed4f96c27"
      },
      "outputs": [
        {
          "data": {
            "text/plain": [
              "False"
            ]
          },
          "execution_count": 14,
          "metadata": {},
          "output_type": "execute_result"
        }
      ],
      "source": [
        "data.isna().any()"
      ]
    },
    {
      "cell_type": "code",
      "execution_count": 15,
      "metadata": {
        "colab": {
          "base_uri": "https://localhost:8080/"
        },
        "id": "R0u9tcnzqEQ8",
        "outputId": "3ba43bad-7aed-4a51-92bb-d5e36cfc62a1"
      },
      "outputs": [
        {
          "data": {
            "text/plain": [
              "0    phone seems owned shivang gupta earlier detail...\n",
              "1    first iphone feeling like wasted money coz hea...\n",
              "2    found black spot set given defective piece abl...\n",
              "3                    samsung s10 much better iphone 11\n",
              "4    hii purchased phone first week june 2020 trust...\n",
              "Name: description, dtype: object"
            ]
          },
          "execution_count": 15,
          "metadata": {},
          "output_type": "execute_result"
        }
      ],
      "source": [
        "data = data.apply(clean_text)\n",
        "data.head()"
      ]
    },
    {
      "cell_type": "code",
      "execution_count": 16,
      "metadata": {
        "id": "PK8IhNDbsCPN"
      },
      "outputs": [],
      "source": [
        "data.to_csv('datasets/cleaned/clean_apple_reviews.csv', index=False)"
      ]
    },
    {
      "cell_type": "markdown",
      "metadata": {
        "id": "IsbnqKpMs46x"
      },
      "source": [
        "## **Merge Dataset**"
      ]
    },
    {
      "cell_type": "code",
      "execution_count": 17,
      "metadata": {
        "id": "ReCYPxDhs9KK"
      },
      "outputs": [],
      "source": [
        "review_1 = pd.read_csv('datasets/cleaned/clean_amazon_one_plus_reviews.csv', encoding='latin1')\n",
        "review_2 = pd.read_csv('datasets/cleaned/clean_apple_reviews.csv', encoding='latin1')"
      ]
    },
    {
      "cell_type": "code",
      "execution_count": 18,
      "metadata": {
        "colab": {
          "base_uri": "https://localhost:8080/",
          "height": 206
        },
        "id": "xRU0aIGItmGK",
        "outputId": "4b89070c-49ff-4ffa-8b27-5a18cdec119b"
      },
      "outputs": [
        {
          "data": {
            "text/html": [
              "<div>\n",
              "<style scoped>\n",
              "    .dataframe tbody tr th:only-of-type {\n",
              "        vertical-align: middle;\n",
              "    }\n",
              "\n",
              "    .dataframe tbody tr th {\n",
              "        vertical-align: top;\n",
              "    }\n",
              "\n",
              "    .dataframe thead th {\n",
              "        text-align: right;\n",
              "    }\n",
              "</style>\n",
              "<table border=\"1\" class=\"dataframe\">\n",
              "  <thead>\n",
              "    <tr style=\"text-align: right;\">\n",
              "      <th></th>\n",
              "      <th>review_text</th>\n",
              "    </tr>\n",
              "  </thead>\n",
              "  <tbody>\n",
              "    <tr>\n",
              "      <th>0</th>\n",
              "      <td>yea 28 july got 4 august package nice without ...</td>\n",
              "    </tr>\n",
              "    <tr>\n",
              "      <th>1</th>\n",
              "      <td>got delivered yesterday used hour tell first m...</td>\n",
              "    </tr>\n",
              "    <tr>\n",
              "      <th>2</th>\n",
              "      <td>amazing phone</td>\n",
              "    </tr>\n",
              "    <tr>\n",
              "      <th>3</th>\n",
              "      <td>brilliant</td>\n",
              "    </tr>\n",
              "    <tr>\n",
              "      <th>4</th>\n",
              "      <td>skeptical changing one plus 6t nord 845 still ...</td>\n",
              "    </tr>\n",
              "  </tbody>\n",
              "</table>\n",
              "</div>"
            ],
            "text/plain": [
              "                                         review_text\n",
              "0  yea 28 july got 4 august package nice without ...\n",
              "1  got delivered yesterday used hour tell first m...\n",
              "2                                      amazing phone\n",
              "3                                          brilliant\n",
              "4  skeptical changing one plus 6t nord 845 still ..."
            ]
          },
          "execution_count": 18,
          "metadata": {},
          "output_type": "execute_result"
        }
      ],
      "source": [
        "review_1.head()"
      ]
    },
    {
      "cell_type": "code",
      "execution_count": 19,
      "metadata": {
        "colab": {
          "base_uri": "https://localhost:8080/",
          "height": 206
        },
        "id": "N953eTgRtq7_",
        "outputId": "4283bd44-9bb7-41a3-a036-fe71d02adf84"
      },
      "outputs": [
        {
          "data": {
            "text/html": [
              "<div>\n",
              "<style scoped>\n",
              "    .dataframe tbody tr th:only-of-type {\n",
              "        vertical-align: middle;\n",
              "    }\n",
              "\n",
              "    .dataframe tbody tr th {\n",
              "        vertical-align: top;\n",
              "    }\n",
              "\n",
              "    .dataframe thead th {\n",
              "        text-align: right;\n",
              "    }\n",
              "</style>\n",
              "<table border=\"1\" class=\"dataframe\">\n",
              "  <thead>\n",
              "    <tr style=\"text-align: right;\">\n",
              "      <th></th>\n",
              "      <th>description</th>\n",
              "    </tr>\n",
              "  </thead>\n",
              "  <tbody>\n",
              "    <tr>\n",
              "      <th>0</th>\n",
              "      <td>phone seems owned shivang gupta earlier detail...</td>\n",
              "    </tr>\n",
              "    <tr>\n",
              "      <th>1</th>\n",
              "      <td>first iphone feeling like wasted money coz hea...</td>\n",
              "    </tr>\n",
              "    <tr>\n",
              "      <th>2</th>\n",
              "      <td>found black spot set given defective piece abl...</td>\n",
              "    </tr>\n",
              "    <tr>\n",
              "      <th>3</th>\n",
              "      <td>samsung s10 much better iphone 11</td>\n",
              "    </tr>\n",
              "    <tr>\n",
              "      <th>4</th>\n",
              "      <td>hii purchased phone first week june 2020 trust...</td>\n",
              "    </tr>\n",
              "  </tbody>\n",
              "</table>\n",
              "</div>"
            ],
            "text/plain": [
              "                                         description\n",
              "0  phone seems owned shivang gupta earlier detail...\n",
              "1  first iphone feeling like wasted money coz hea...\n",
              "2  found black spot set given defective piece abl...\n",
              "3                  samsung s10 much better iphone 11\n",
              "4  hii purchased phone first week june 2020 trust..."
            ]
          },
          "execution_count": 19,
          "metadata": {},
          "output_type": "execute_result"
        }
      ],
      "source": [
        "review_2.head()"
      ]
    },
    {
      "cell_type": "code",
      "execution_count": 20,
      "metadata": {
        "id": "6u3GOr4StsHm"
      },
      "outputs": [],
      "source": [
        "review_1.rename(columns={'review_text': 'review'}, inplace=True)\n",
        "review_2.rename(columns={'description': 'review'}, inplace=True)"
      ]
    },
    {
      "cell_type": "code",
      "execution_count": 21,
      "metadata": {
        "colab": {
          "base_uri": "https://localhost:8080/",
          "height": 206
        },
        "id": "P3HXvzm2uEma",
        "outputId": "2c4a5cec-08ff-4296-eac1-800abebfae1f"
      },
      "outputs": [
        {
          "data": {
            "text/html": [
              "<div>\n",
              "<style scoped>\n",
              "    .dataframe tbody tr th:only-of-type {\n",
              "        vertical-align: middle;\n",
              "    }\n",
              "\n",
              "    .dataframe tbody tr th {\n",
              "        vertical-align: top;\n",
              "    }\n",
              "\n",
              "    .dataframe thead th {\n",
              "        text-align: right;\n",
              "    }\n",
              "</style>\n",
              "<table border=\"1\" class=\"dataframe\">\n",
              "  <thead>\n",
              "    <tr style=\"text-align: right;\">\n",
              "      <th></th>\n",
              "      <th>review</th>\n",
              "    </tr>\n",
              "  </thead>\n",
              "  <tbody>\n",
              "    <tr>\n",
              "      <th>0</th>\n",
              "      <td>yea 28 july got 4 august package nice without ...</td>\n",
              "    </tr>\n",
              "    <tr>\n",
              "      <th>1</th>\n",
              "      <td>got delivered yesterday used hour tell first m...</td>\n",
              "    </tr>\n",
              "    <tr>\n",
              "      <th>2</th>\n",
              "      <td>amazing phone</td>\n",
              "    </tr>\n",
              "    <tr>\n",
              "      <th>3</th>\n",
              "      <td>brilliant</td>\n",
              "    </tr>\n",
              "    <tr>\n",
              "      <th>4</th>\n",
              "      <td>skeptical changing one plus 6t nord 845 still ...</td>\n",
              "    </tr>\n",
              "  </tbody>\n",
              "</table>\n",
              "</div>"
            ],
            "text/plain": [
              "                                              review\n",
              "0  yea 28 july got 4 august package nice without ...\n",
              "1  got delivered yesterday used hour tell first m...\n",
              "2                                      amazing phone\n",
              "3                                          brilliant\n",
              "4  skeptical changing one plus 6t nord 845 still ..."
            ]
          },
          "execution_count": 21,
          "metadata": {},
          "output_type": "execute_result"
        }
      ],
      "source": [
        "review = [review_1, review_2]\n",
        "review = pd.concat(review)\n",
        "review.head()"
      ]
    },
    {
      "cell_type": "code",
      "execution_count": 22,
      "metadata": {
        "colab": {
          "base_uri": "https://localhost:8080/",
          "height": 206
        },
        "id": "ZUBKHxsTuh92",
        "outputId": "a0f73156-5b16-466e-d071-4b999e4e67b0"
      },
      "outputs": [
        {
          "data": {
            "text/html": [
              "<div>\n",
              "<style scoped>\n",
              "    .dataframe tbody tr th:only-of-type {\n",
              "        vertical-align: middle;\n",
              "    }\n",
              "\n",
              "    .dataframe tbody tr th {\n",
              "        vertical-align: top;\n",
              "    }\n",
              "\n",
              "    .dataframe thead th {\n",
              "        text-align: right;\n",
              "    }\n",
              "</style>\n",
              "<table border=\"1\" class=\"dataframe\">\n",
              "  <thead>\n",
              "    <tr style=\"text-align: right;\">\n",
              "      <th></th>\n",
              "      <th>review</th>\n",
              "    </tr>\n",
              "  </thead>\n",
              "  <tbody>\n",
              "    <tr>\n",
              "      <th>19673</th>\n",
              "      <td>awsum phone said product deliver 1 day pay 1 d...</td>\n",
              "    </tr>\n",
              "    <tr>\n",
              "      <th>19674</th>\n",
              "      <td>purchased deal great phone fast wonderful pict...</td>\n",
              "    </tr>\n",
              "    <tr>\n",
              "      <th>19675</th>\n",
              "      <td>user friendly</td>\n",
              "    </tr>\n",
              "    <tr>\n",
              "      <th>19676</th>\n",
              "      <td>iphone 7 7 plus deeply unusual device full agg...</td>\n",
              "    </tr>\n",
              "    <tr>\n",
              "      <th>19677</th>\n",
              "      <td>using device 7 month ben awesome love fluidic ...</td>\n",
              "    </tr>\n",
              "  </tbody>\n",
              "</table>\n",
              "</div>"
            ],
            "text/plain": [
              "                                                  review\n",
              "19673  awsum phone said product deliver 1 day pay 1 d...\n",
              "19674  purchased deal great phone fast wonderful pict...\n",
              "19675                                      user friendly\n",
              "19676  iphone 7 7 plus deeply unusual device full agg...\n",
              "19677  using device 7 month ben awesome love fluidic ..."
            ]
          },
          "execution_count": 22,
          "metadata": {},
          "output_type": "execute_result"
        }
      ],
      "source": [
        "review.tail()"
      ]
    },
    {
      "cell_type": "code",
      "execution_count": 23,
      "metadata": {
        "id": "RTqPsXw_8Yuz"
      },
      "outputs": [],
      "source": [
        "review.dropna(inplace=True)"
      ]
    },
    {
      "cell_type": "code",
      "execution_count": 24,
      "metadata": {
        "colab": {
          "base_uri": "https://localhost:8080/",
          "height": 206
        },
        "id": "z3QDvXFVupuT",
        "outputId": "661dba1b-85e4-494e-ec56-b1f95f40a3ea"
      },
      "outputs": [
        {
          "data": {
            "text/html": [
              "<div>\n",
              "<style scoped>\n",
              "    .dataframe tbody tr th:only-of-type {\n",
              "        vertical-align: middle;\n",
              "    }\n",
              "\n",
              "    .dataframe tbody tr th {\n",
              "        vertical-align: top;\n",
              "    }\n",
              "\n",
              "    .dataframe thead th {\n",
              "        text-align: right;\n",
              "    }\n",
              "</style>\n",
              "<table border=\"1\" class=\"dataframe\">\n",
              "  <thead>\n",
              "    <tr style=\"text-align: right;\">\n",
              "      <th></th>\n",
              "      <th>review</th>\n",
              "    </tr>\n",
              "  </thead>\n",
              "  <tbody>\n",
              "    <tr>\n",
              "      <th>17130</th>\n",
              "      <td>gud product price</td>\n",
              "    </tr>\n",
              "    <tr>\n",
              "      <th>1515</th>\n",
              "      <td>one best phone far price range</td>\n",
              "    </tr>\n",
              "    <tr>\n",
              "      <th>27910</th>\n",
              "      <td>mobail nice betrry bad fast charging lowest ca...</td>\n",
              "    </tr>\n",
              "    <tr>\n",
              "      <th>9451</th>\n",
              "      <td>battery worrest</td>\n",
              "    </tr>\n",
              "    <tr>\n",
              "      <th>28972</th>\n",
              "      <td>bought phone horrible experience redmi note 8 ...</td>\n",
              "    </tr>\n",
              "  </tbody>\n",
              "</table>\n",
              "</div>"
            ],
            "text/plain": [
              "                                                  review\n",
              "17130                                  gud product price\n",
              "1515                      one best phone far price range\n",
              "27910  mobail nice betrry bad fast charging lowest ca...\n",
              "9451                                     battery worrest\n",
              "28972  bought phone horrible experience redmi note 8 ..."
            ]
          },
          "execution_count": 24,
          "metadata": {},
          "output_type": "execute_result"
        }
      ],
      "source": [
        "review = review.sample(frac=1)\n",
        "review.head()"
      ]
    },
    {
      "cell_type": "code",
      "execution_count": 25,
      "metadata": {
        "id": "VbKYdFJVu4Nk"
      },
      "outputs": [],
      "source": [
        "review.to_csv('datasets/cleaned/merged_reviews.csv', index=False)"
      ]
    },
    {
      "cell_type": "markdown",
      "metadata": {},
      "source": [
        "## **Datasets for CPU Name**"
      ]
    },
    {
      "cell_type": "code",
      "execution_count": 26,
      "metadata": {},
      "outputs": [],
      "source": [
        "data = pd.DataFrame({'cpu_name': ['A10 Fusion',\n",
        "'A11 Bionic',\n",
        "'A12 Bionic',\n",
        "'A13 Bionic',\n",
        "'A14 Bionic',\n",
        "'A15 Bionic',\n",
        "'A16 Bionic',\n",
        "'A17 Pro',\n",
        "'Apple A9',\n",
        "'Dimensity 1000 Plus',\n",
        "'Dimensity 1050',\n",
        "'Dimensity 1080',\n",
        "'Dimensity 1100',\n",
        "'Dimensity 1200',\n",
        "'Dimensity 1300',\n",
        "'Dimensity 6020',\n",
        "'Dimensity 6080',\n",
        "'Dimensity 6100 Plus',\n",
        "'Dimensity 6300',\n",
        "'Dimensity 700',\n",
        "'Dimensity 7020',\n",
        "'Dimensity 7025',\n",
        "'Dimensity 7030',\n",
        "'Dimensity 7050',\n",
        "'Dimensity 720',\n",
        "'Dimensity 7200',\n",
        "'Dimensity 7200 Ultra',\n",
        "'Dimensity 800',\n",
        "'Dimensity 800U',\n",
        "'Dimensity 8020',\n",
        "'Dimensity 8050',\n",
        "'Dimensity 810',\n",
        "'Dimensity 8100',\n",
        "'Dimensity 820',\n",
        "'Dimensity 8200',\n",
        "'Dimensity 8300',\n",
        "'Dimensity 900',\n",
        "'Dimensity 9000',\n",
        "'Dimensity 9000 Plus',\n",
        "'Dimensity 920',\n",
        "'Dimensity 9200',\n",
        "'Dimensity 9200 Plus',\n",
        "'Dimensity 930',\n",
        "'Dimensity 9300',\n",
        "'Exynos 1280',\n",
        "'Exynos 1330',\n",
        "'Exynos 1380',\n",
        "'Exynos 1480',\n",
        "'Exynos 2100',\n",
        "'Exynos 2200',\n",
        "'Exynos 2400',\n",
        "'Exynos 7870',\n",
        "'Exynos 7884B',\n",
        "'Exynos 7885',\n",
        "'Exynos 7904',\n",
        "'Exynos 850',\n",
        "'Exynos 8890',\n",
        "'Exynos 8895',\n",
        "'Exynos 9610',\n",
        "'Exynos 9611',\n",
        "'Exynos 980',\n",
        "'Exynos 9810',\n",
        "'Exynos 9820',\n",
        "'Exynos 9825',\n",
        "'Exynos 990',\n",
        "'Google Tensor',\n",
        "'Helio A22',\n",
        "'Helio G25',\n",
        "'Helio G35',\n",
        "'Helio G36',\n",
        "'Helio G37',\n",
        "'Helio G70',\n",
        "'Helio G80',\n",
        "'Helio G85',\n",
        "'Helio G88',\n",
        "'Helio G90T',\n",
        "'Helio G95',\n",
        "'Helio G96',\n",
        "'Helio G99',\n",
        "'Helio P22',\n",
        "'Helio P35',\n",
        "'Helio P60',\n",
        "'Helio P65',\n",
        "'Helio P70',\n",
        "'Helio P90',\n",
        "'Helio P95',\n",
        "'Kirin 659',\n",
        "'Kirin 710',\n",
        "'Kirin 710A',\n",
        "'Kirin 710F',\n",
        "'Kirin 810',\n",
        "'Kirin 9000',\n",
        "'Kirin 9000S',\n",
        "'Kirin 9010',\n",
        "'Kirin 960',\n",
        "'Kirin 970',\n",
        "'Kirin 980',\n",
        "'Kirin 990 (5G)',\n",
        "'MediaTek MT6737',\n",
        "'Snapdragon 4 Gen 1',\n",
        "'Snapdragon 4 Gen 2',\n",
        "'Snapdragon 430',\n",
        "'Snapdragon 435',\n",
        "'Snapdragon 439',\n",
        "'Snapdragon 450',\n",
        "'Snapdragon 460',\n",
        "'Snapdragon 480',\n",
        "'Snapdragon 480 Plus',\n",
        "'Snapdragon 6 Gen 1',\n",
        "'Snapdragon 625',\n",
        "'Snapdragon 630',\n",
        "'Snapdragon 632',\n",
        "'Snapdragon 636',\n",
        "'Snapdragon 660',\n",
        "'Snapdragon 662',\n",
        "'Snapdragon 665',\n",
        "'Snapdragon 670',\n",
        "'Snapdragon 675',\n",
        "'Snapdragon 678',\n",
        "'Snapdragon 680',\n",
        "'Snapdragon 685',\n",
        "'Snapdragon 690',\n",
        "'Snapdragon 695',\n",
        "'Snapdragon 7 Gen 1',\n",
        "'Snapdragon 7 Gen 3',\n",
        "'Snapdragon 7 Plus Gen 2',\n",
        "'Snapdragon 7 Plus Gen 3',\n",
        "'Snapdragon 710',\n",
        "'Snapdragon 712',\n",
        "'Snapdragon 720G',\n",
        "'Snapdragon 730',\n",
        "'Snapdragon 730G',\n",
        "'Snapdragon 732G',\n",
        "'Snapdragon 750G',\n",
        "'Snapdragon 765G',\n",
        "'Snapdragon 778G',\n",
        "'Snapdragon 778G Plus',\n",
        "'Snapdragon 780G',\n",
        "'Snapdragon 782G',\n",
        "'Snapdragon 7s Gen 2',\n",
        "'Snapdragon 8 Gen 1',\n",
        "'Snapdragon 8 Gen 2',\n",
        "'Snapdragon 8 Gen 3',\n",
        "'Snapdragon 8 Plus Gen 1',\n",
        "'Snapdragon 820',\n",
        "'Snapdragon 821',\n",
        "'Snapdragon 835',\n",
        "'Snapdragon 845',\n",
        "'Snapdragon 855',\n",
        "'Snapdragon 855 Plus',\n",
        "'Snapdragon 860',\n",
        "'Snapdragon 865',\n",
        "'Snapdragon 865 Plus',\n",
        "'Snapdragon 870',\n",
        "'Snapdragon 888',\n",
        "'Snapdragon 888 Plus',\n",
        "'Snapdragon 8s Gen 3',\n",
        "'Tensor G2',\n",
        "'Tensor G3',\n",
        "'Tiger T610',\n",
        "'Tiger T612',\n",
        "'Tiger T616',\n",
        "'Tiger T618',\n",
        "'Tiger T700',\n",
        "'Unisoc SC9863A',\n",
        "'Unisoc T606',\n",
        "'Unisoc T820']})"
      ]
    },
    {
      "cell_type": "code",
      "execution_count": 27,
      "metadata": {},
      "outputs": [],
      "source": [
        "data.to_csv('datasets/raw_datasets/more_cpu_name.csv', index=False)"
      ]
    },
    {
      "cell_type": "markdown",
      "metadata": {},
      "source": [
        "## **CPU Name**"
      ]
    },
    {
      "cell_type": "code",
      "execution_count": 28,
      "metadata": {},
      "outputs": [],
      "source": [
        "cpu_1 = pd.read_csv('datasets/raw_datasets/cpu_name.csv', encoding='latin1')\n",
        "cpu_2 = pd.read_csv('datasets/raw_datasets/more_cpu_name.csv', encoding='latin1')"
      ]
    },
    {
      "cell_type": "code",
      "execution_count": 29,
      "metadata": {},
      "outputs": [],
      "source": [
        "cpu_1 = pd.DataFrame({'cpu_name': cpu_1['cpuName']})\n",
        "cpu_2 = pd.DataFrame({'cpu_name': cpu_2['cpu_name']})"
      ]
    },
    {
      "cell_type": "code",
      "execution_count": 30,
      "metadata": {},
      "outputs": [
        {
          "data": {
            "text/html": [
              "<div>\n",
              "<style scoped>\n",
              "    .dataframe tbody tr th:only-of-type {\n",
              "        vertical-align: middle;\n",
              "    }\n",
              "\n",
              "    .dataframe tbody tr th {\n",
              "        vertical-align: top;\n",
              "    }\n",
              "\n",
              "    .dataframe thead th {\n",
              "        text-align: right;\n",
              "    }\n",
              "</style>\n",
              "<table border=\"1\" class=\"dataframe\">\n",
              "  <thead>\n",
              "    <tr style=\"text-align: right;\">\n",
              "      <th></th>\n",
              "      <th>cpu_name</th>\n",
              "    </tr>\n",
              "  </thead>\n",
              "  <tbody>\n",
              "    <tr>\n",
              "      <th>0</th>\n",
              "      <td>A15 Bionic</td>\n",
              "    </tr>\n",
              "    <tr>\n",
              "      <th>1</th>\n",
              "      <td>A15 Bionic</td>\n",
              "    </tr>\n",
              "    <tr>\n",
              "      <th>2</th>\n",
              "      <td>A15 Bionic</td>\n",
              "    </tr>\n",
              "    <tr>\n",
              "      <th>3</th>\n",
              "      <td>M1</td>\n",
              "    </tr>\n",
              "    <tr>\n",
              "      <th>4</th>\n",
              "      <td>M1</td>\n",
              "    </tr>\n",
              "  </tbody>\n",
              "</table>\n",
              "</div>"
            ],
            "text/plain": [
              "        cpu_name\n",
              "0  A15 Bionic   \n",
              "1  A15 Bionic   \n",
              "2  A15 Bionic   \n",
              "3         M1    \n",
              "4         M1    "
            ]
          },
          "execution_count": 30,
          "metadata": {},
          "output_type": "execute_result"
        }
      ],
      "source": [
        "cpu_name = pd.concat([cpu_1, cpu_2])\n",
        "cpu_name.head()"
      ]
    },
    {
      "cell_type": "code",
      "execution_count": 31,
      "metadata": {},
      "outputs": [
        {
          "data": {
            "text/plain": [
              "355"
            ]
          },
          "execution_count": 31,
          "metadata": {},
          "output_type": "execute_result"
        }
      ],
      "source": [
        "cpu_name.dropna(inplace=True)\n",
        "len(cpu_name)"
      ]
    },
    {
      "cell_type": "code",
      "execution_count": 32,
      "metadata": {},
      "outputs": [
        {
          "data": {
            "text/plain": [
              "230"
            ]
          },
          "execution_count": 32,
          "metadata": {},
          "output_type": "execute_result"
        }
      ],
      "source": [
        "cpu_name = cpu_name.drop_duplicates()\n",
        "len(cpu_name)"
      ]
    },
    {
      "cell_type": "code",
      "execution_count": 33,
      "metadata": {},
      "outputs": [
        {
          "data": {
            "text/html": [
              "<div>\n",
              "<style scoped>\n",
              "    .dataframe tbody tr th:only-of-type {\n",
              "        vertical-align: middle;\n",
              "    }\n",
              "\n",
              "    .dataframe tbody tr th {\n",
              "        vertical-align: top;\n",
              "    }\n",
              "\n",
              "    .dataframe thead th {\n",
              "        text-align: right;\n",
              "    }\n",
              "</style>\n",
              "<table border=\"1\" class=\"dataframe\">\n",
              "  <thead>\n",
              "    <tr style=\"text-align: right;\">\n",
              "      <th></th>\n",
              "      <th>cpu_name</th>\n",
              "    </tr>\n",
              "  </thead>\n",
              "  <tbody>\n",
              "    <tr>\n",
              "      <th>0</th>\n",
              "      <td>A15 Bionic</td>\n",
              "    </tr>\n",
              "    <tr>\n",
              "      <th>3</th>\n",
              "      <td>M1</td>\n",
              "    </tr>\n",
              "    <tr>\n",
              "      <th>7</th>\n",
              "      <td>A14 Bionic</td>\n",
              "    </tr>\n",
              "    <tr>\n",
              "      <th>12</th>\n",
              "      <td>Tensor</td>\n",
              "    </tr>\n",
              "    <tr>\n",
              "      <th>14</th>\n",
              "      <td>A13 Bionic</td>\n",
              "    </tr>\n",
              "    <tr>\n",
              "      <th>...</th>\n",
              "      <td>...</td>\n",
              "    </tr>\n",
              "    <tr>\n",
              "      <th>162</th>\n",
              "      <td>Tiger T618</td>\n",
              "    </tr>\n",
              "    <tr>\n",
              "      <th>163</th>\n",
              "      <td>Tiger T700</td>\n",
              "    </tr>\n",
              "    <tr>\n",
              "      <th>164</th>\n",
              "      <td>Unisoc SC9863A</td>\n",
              "    </tr>\n",
              "    <tr>\n",
              "      <th>165</th>\n",
              "      <td>Unisoc T606</td>\n",
              "    </tr>\n",
              "    <tr>\n",
              "      <th>166</th>\n",
              "      <td>Unisoc T820</td>\n",
              "    </tr>\n",
              "  </tbody>\n",
              "</table>\n",
              "<p>229 rows × 1 columns</p>\n",
              "</div>"
            ],
            "text/plain": [
              "           cpu_name\n",
              "0     A15 Bionic   \n",
              "3            M1    \n",
              "7     A14 Bionic   \n",
              "12       Tensor    \n",
              "14    A13 Bionic   \n",
              "..              ...\n",
              "162      Tiger T618\n",
              "163      Tiger T700\n",
              "164  Unisoc SC9863A\n",
              "165     Unisoc T606\n",
              "166     Unisoc T820\n",
              "\n",
              "[229 rows x 1 columns]"
            ]
          },
          "execution_count": 33,
          "metadata": {},
          "output_type": "execute_result"
        }
      ],
      "source": [
        "cpu_name = cpu_name.drop(cpu_name.index[[71]])\n",
        "cpu_name"
      ]
    },
    {
      "cell_type": "code",
      "execution_count": 34,
      "metadata": {},
      "outputs": [],
      "source": [
        "def tagging_cpu_data(text):\n",
        "   text_dict = ''\n",
        "   word_token = word_tokenize(text)\n",
        "   \n",
        "   for i, word in enumerate(word_token):\n",
        "      if i == 0:\n",
        "         text_dict = text_dict + 'B-performance '\n",
        "      else:\n",
        "         text_dict = text_dict + 'I-performance '\n",
        "      \n",
        "   return text_dict"
      ]
    },
    {
      "cell_type": "code",
      "execution_count": 35,
      "metadata": {},
      "outputs": [
        {
          "data": {
            "text/html": [
              "<div>\n",
              "<style scoped>\n",
              "    .dataframe tbody tr th:only-of-type {\n",
              "        vertical-align: middle;\n",
              "    }\n",
              "\n",
              "    .dataframe tbody tr th {\n",
              "        vertical-align: top;\n",
              "    }\n",
              "\n",
              "    .dataframe thead th {\n",
              "        text-align: right;\n",
              "    }\n",
              "</style>\n",
              "<table border=\"1\" class=\"dataframe\">\n",
              "  <thead>\n",
              "    <tr style=\"text-align: right;\">\n",
              "      <th></th>\n",
              "      <th>cpu_name</th>\n",
              "      <th>tag</th>\n",
              "    </tr>\n",
              "  </thead>\n",
              "  <tbody>\n",
              "    <tr>\n",
              "      <th>150</th>\n",
              "      <td>Snapdragon 860</td>\n",
              "      <td>B-performance I-performance</td>\n",
              "    </tr>\n",
              "    <tr>\n",
              "      <th>14</th>\n",
              "      <td>A13 Bionic</td>\n",
              "      <td>B-performance I-performance</td>\n",
              "    </tr>\n",
              "    <tr>\n",
              "      <th>165</th>\n",
              "      <td>Exynos 9611</td>\n",
              "      <td>B-performance I-performance</td>\n",
              "    </tr>\n",
              "    <tr>\n",
              "      <th>93</th>\n",
              "      <td>Kirin 9000</td>\n",
              "      <td>B-performance I-performance</td>\n",
              "    </tr>\n",
              "    <tr>\n",
              "      <th>33</th>\n",
              "      <td>Dimensity 820</td>\n",
              "      <td>B-performance I-performance</td>\n",
              "    </tr>\n",
              "  </tbody>\n",
              "</table>\n",
              "</div>"
            ],
            "text/plain": [
              "           cpu_name                           tag\n",
              "150  Snapdragon 860  B-performance I-performance \n",
              "14    A13 Bionic     B-performance I-performance \n",
              "165  Exynos 9611     B-performance I-performance \n",
              "93    Kirin 9000     B-performance I-performance \n",
              "33    Dimensity 820  B-performance I-performance "
            ]
          },
          "execution_count": 35,
          "metadata": {},
          "output_type": "execute_result"
        }
      ],
      "source": [
        "cpu_name['tag'] = cpu_name['cpu_name'].apply(tagging_cpu_data)\n",
        "cpu_name = cpu_name.sample(frac=1)\n",
        "cpu_name.head()"
      ]
    },
    {
      "cell_type": "code",
      "execution_count": 36,
      "metadata": {},
      "outputs": [
        {
          "data": {
            "text/html": [
              "<div>\n",
              "<style scoped>\n",
              "    .dataframe tbody tr th:only-of-type {\n",
              "        vertical-align: middle;\n",
              "    }\n",
              "\n",
              "    .dataframe tbody tr th {\n",
              "        vertical-align: top;\n",
              "    }\n",
              "\n",
              "    .dataframe thead th {\n",
              "        text-align: right;\n",
              "    }\n",
              "</style>\n",
              "<table border=\"1\" class=\"dataframe\">\n",
              "  <thead>\n",
              "    <tr style=\"text-align: right;\">\n",
              "      <th></th>\n",
              "      <th>cpu_name</th>\n",
              "      <th>tag</th>\n",
              "    </tr>\n",
              "  </thead>\n",
              "  <tbody>\n",
              "    <tr>\n",
              "      <th>150</th>\n",
              "      <td>snapdragon 860</td>\n",
              "      <td>B-performance I-performance</td>\n",
              "    </tr>\n",
              "    <tr>\n",
              "      <th>14</th>\n",
              "      <td>a13 bionic</td>\n",
              "      <td>B-performance I-performance</td>\n",
              "    </tr>\n",
              "    <tr>\n",
              "      <th>165</th>\n",
              "      <td>exynos 9611</td>\n",
              "      <td>B-performance I-performance</td>\n",
              "    </tr>\n",
              "    <tr>\n",
              "      <th>93</th>\n",
              "      <td>kirin 9000</td>\n",
              "      <td>B-performance I-performance</td>\n",
              "    </tr>\n",
              "    <tr>\n",
              "      <th>33</th>\n",
              "      <td>dimensity 820</td>\n",
              "      <td>B-performance I-performance</td>\n",
              "    </tr>\n",
              "  </tbody>\n",
              "</table>\n",
              "</div>"
            ],
            "text/plain": [
              "           cpu_name                           tag\n",
              "150  snapdragon 860  B-performance I-performance \n",
              "14       a13 bionic  B-performance I-performance \n",
              "165     exynos 9611  B-performance I-performance \n",
              "93       kirin 9000  B-performance I-performance \n",
              "33    dimensity 820  B-performance I-performance "
            ]
          },
          "execution_count": 36,
          "metadata": {},
          "output_type": "execute_result"
        }
      ],
      "source": [
        "cpu_name['cpu_name'] = cpu_name['cpu_name'].apply(clean_text)\n",
        "cpu_name.head()"
      ]
    },
    {
      "cell_type": "code",
      "execution_count": 37,
      "metadata": {},
      "outputs": [],
      "source": [
        "cpu_name.to_csv('datasets/tagged/cpu_name.csv', index=False)"
      ]
    },
    {
      "cell_type": "code",
      "execution_count": 38,
      "metadata": {},
      "outputs": [],
      "source": [
        "to_iob_tag(cpu_name['cpu_name'], cpu_name['tag'], 'cpu-iob-ner')"
      ]
    },
    {
      "cell_type": "markdown",
      "metadata": {
        "id": "8gOCbcL8vhMa"
      },
      "source": [
        "## **Tagging Data**"
      ]
    },
    {
      "cell_type": "code",
      "execution_count": 39,
      "metadata": {
        "id": "lFF-K1Liv6kM"
      },
      "outputs": [],
      "source": [
        "import re"
      ]
    },
    {
      "cell_type": "code",
      "execution_count": 40,
      "metadata": {
        "colab": {
          "base_uri": "https://localhost:8080/",
          "height": 206
        },
        "id": "z5i8E5KXvsU6",
        "outputId": "2ab20096-d7a1-42c1-bc2d-0ebef71aaea0"
      },
      "outputs": [
        {
          "data": {
            "text/html": [
              "<div>\n",
              "<style scoped>\n",
              "    .dataframe tbody tr th:only-of-type {\n",
              "        vertical-align: middle;\n",
              "    }\n",
              "\n",
              "    .dataframe tbody tr th {\n",
              "        vertical-align: top;\n",
              "    }\n",
              "\n",
              "    .dataframe thead th {\n",
              "        text-align: right;\n",
              "    }\n",
              "</style>\n",
              "<table border=\"1\" class=\"dataframe\">\n",
              "  <thead>\n",
              "    <tr style=\"text-align: right;\">\n",
              "      <th></th>\n",
              "      <th>review</th>\n",
              "    </tr>\n",
              "  </thead>\n",
              "  <tbody>\n",
              "    <tr>\n",
              "      <th>0</th>\n",
              "      <td>gud product price</td>\n",
              "    </tr>\n",
              "    <tr>\n",
              "      <th>1</th>\n",
              "      <td>one best phone far price range</td>\n",
              "    </tr>\n",
              "    <tr>\n",
              "      <th>2</th>\n",
              "      <td>mobail nice betrry bad fast charging lowest ca...</td>\n",
              "    </tr>\n",
              "    <tr>\n",
              "      <th>3</th>\n",
              "      <td>battery worrest</td>\n",
              "    </tr>\n",
              "    <tr>\n",
              "      <th>4</th>\n",
              "      <td>bought phone horrible experience redmi note 8 ...</td>\n",
              "    </tr>\n",
              "  </tbody>\n",
              "</table>\n",
              "</div>"
            ],
            "text/plain": [
              "                                              review\n",
              "0                                  gud product price\n",
              "1                     one best phone far price range\n",
              "2  mobail nice betrry bad fast charging lowest ca...\n",
              "3                                    battery worrest\n",
              "4  bought phone horrible experience redmi note 8 ..."
            ]
          },
          "execution_count": 40,
          "metadata": {},
          "output_type": "execute_result"
        }
      ],
      "source": [
        "data = pd.read_csv('datasets/cleaned/merged_reviews.csv', encoding='latin1')\n",
        "data.head()"
      ]
    },
    {
      "cell_type": "code",
      "execution_count": 41,
      "metadata": {},
      "outputs": [
        {
          "data": {
            "text/html": [
              "<div>\n",
              "<style scoped>\n",
              "    .dataframe tbody tr th:only-of-type {\n",
              "        vertical-align: middle;\n",
              "    }\n",
              "\n",
              "    .dataframe tbody tr th {\n",
              "        vertical-align: top;\n",
              "    }\n",
              "\n",
              "    .dataframe thead th {\n",
              "        text-align: right;\n",
              "    }\n",
              "</style>\n",
              "<table border=\"1\" class=\"dataframe\">\n",
              "  <thead>\n",
              "    <tr style=\"text-align: right;\">\n",
              "      <th></th>\n",
              "      <th>sentence_id</th>\n",
              "      <th>words</th>\n",
              "      <th>labels</th>\n",
              "    </tr>\n",
              "  </thead>\n",
              "  <tbody>\n",
              "    <tr>\n",
              "      <th>0</th>\n",
              "      <td>0</td>\n",
              "      <td>snapdragon</td>\n",
              "      <td>B-PERFORMANCE</td>\n",
              "    </tr>\n",
              "    <tr>\n",
              "      <th>1</th>\n",
              "      <td>0</td>\n",
              "      <td>860</td>\n",
              "      <td>I-PERFORMANCE</td>\n",
              "    </tr>\n",
              "    <tr>\n",
              "      <th>2</th>\n",
              "      <td>111</td>\n",
              "      <td>a13</td>\n",
              "      <td>B-PERFORMANCE</td>\n",
              "    </tr>\n",
              "    <tr>\n",
              "      <th>3</th>\n",
              "      <td>111</td>\n",
              "      <td>bionic</td>\n",
              "      <td>I-PERFORMANCE</td>\n",
              "    </tr>\n",
              "    <tr>\n",
              "      <th>4</th>\n",
              "      <td>152</td>\n",
              "      <td>exynos</td>\n",
              "      <td>B-PERFORMANCE</td>\n",
              "    </tr>\n",
              "  </tbody>\n",
              "</table>\n",
              "</div>"
            ],
            "text/plain": [
              "   sentence_id       words         labels\n",
              "0            0  snapdragon  B-PERFORMANCE\n",
              "1            0         860  I-PERFORMANCE\n",
              "2          111         a13  B-PERFORMANCE\n",
              "3          111      bionic  I-PERFORMANCE\n",
              "4          152      exynos  B-PERFORMANCE"
            ]
          },
          "execution_count": 41,
          "metadata": {},
          "output_type": "execute_result"
        }
      ],
      "source": [
        "cpu_name = pd.read_csv('datasets/cpu-iob-ner.csv', encoding='latin1')\n",
        "cpu_name.head()"
      ]
    },
    {
      "cell_type": "code",
      "execution_count": 45,
      "metadata": {},
      "outputs": [],
      "source": [
        "cpu_b_tag = cpu_name.loc[cpu_name['labels'] == 'B-PERFORMANCE']\n",
        "cpu_i_tag = cpu_name.loc[cpu_name['labels'] == 'I-PERFORMANCE']\n",
        "\n",
        "cpu_b_name_word = set(cpu_b_tag['words'].tolist())\n",
        "cpu_b_name_word = list(cpu_b_name_word)\n",
        "cpu_b_name_word = [i.lower() for i in cpu_b_name_word]\n",
        "cpu_b_name_word.remove('google')\n",
        "\t\t\t\t\t\t \n",
        "cpu_i_name_word = set(cpu_i_tag['words'].tolist())\n",
        "cpu_i_name_word = list(cpu_i_name_word)\n",
        "cpu_i_name_word = [i.lower() for i in cpu_i_name_word]\n",
        "cpu_i_name_word.remove('tensor')"
      ]
    },
    {
      "cell_type": "code",
      "execution_count": 46,
      "metadata": {
        "id": "VEJgvydcvcUv"
      },
      "outputs": [],
      "source": [
        "camera = ['image', 'picture', 'camera', 'video', 'photography', 'ois', 'eis', 'stabilization']\n",
        "performance = ['faster', 'cpu', 'performance', 'lag', 'processor', 'power', 'smooth', 'os', 'specification', 'android', 'ios']\n",
        "screen = ['screen', 'display', 'nits', 'brightness', 'ips', 'hz', 'hertz', 'lcd']\n",
        "charging = ['charging', 'charge', 'watt', 'port', 'usb']\n",
        "audio = ['mic', 'microphone', 'audio', 'speaker', 'volume', 'loudspeaker', 'headphone']\n",
        "connection = ['connection', 'wifi', 'bluetooth']\n",
        "storage = ['ram', 'rom', 'storage', 'emmc', 'ufs', 'mbps', 'gbps', 'microsd']\n",
        "feature = ['feature', 'sensor', 'sensors', 'hdr']"
      ]
    },
    {
      "cell_type": "code",
      "execution_count": 47,
      "metadata": {
        "id": "FKAft3p0v3hE"
      },
      "outputs": [],
      "source": [
        "def tagging_data(text):\n",
        "  word_token = word_tokenize(text)\n",
        "  text_dict = ['O'] * len(word_token)\n",
        "\n",
        "  for i, word in enumerate(word_token):\n",
        "    if text_dict[i] != 'O':\n",
        "      continue\n",
        "    if word in camera:\n",
        "      text_dict[i] = 'B-camera'\n",
        "    elif word in performance:\n",
        "      text_dict[i] = 'B-performance'\n",
        "    elif word in screen:\n",
        "      text_dict[i] = 'B-screen'\n",
        "    elif word in charging:\n",
        "      text_dict[i] = 'B-charging'\n",
        "    elif word in audio:\n",
        "      if re.match(r'\\b(audio|headphone)\\b', word) and i < len(word_token) - 1 and word_token[i + 1] == 'jack':\n",
        "        text_dict[i] = 'B-audio'\n",
        "        text_dict[i + 1] = 'I-audio'\n",
        "      else:\n",
        "        text_dict[i] = 'B-audio'\n",
        "    elif word in connection:\n",
        "      text_dict[i] = 'B-connection'\n",
        "    elif word in storage:\n",
        "      text_dict[i] = 'B-storage'\n",
        "    elif word in feature:\n",
        "      text_dict[i] = 'B-feature'\n",
        "    elif word in cpu_b_name_word:\n",
        "      text_dict[i] = 'B-performance'\n",
        "    elif word in cpu_i_name_word and (text_dict[i - 1] == 'B-performance' or text_dict[i - 1] == 'I-performance'):\n",
        "      text_dict[i] = 'I-performance'\n",
        "    else:\n",
        "      if re.match(r'\\b\\d+(?:gb|mb|kb)\\b', word):\n",
        "        text_dict[i] = 'B-storage'\n",
        "        if i < len(word_token) - 1 and re.match(r'\\b(ram|rom)\\b', word_token[i + 1]):\n",
        "          text_dict[i + 1] = 'I-storage'\n",
        "      elif re.match(r'\\b(amoled|oled)\\b', word):\n",
        "        text_dict[i] = 'B-screen'\n",
        "        if i < len(word_token) - 1 and re.match(r'\\b(display|screen)\\b', word_token[i + 1]):\n",
        "          text_dict[i + 1] = 'I-screen'\n",
        "      elif re.match(r'\\b\\d+\\-*(?:mp|megapixel)\\b', word):\n",
        "        text_dict[i] = 'B-camera'\n",
        "      elif re.match(r'\\b\\d+(?:hz|hertz|p)\\b', word):\n",
        "        text_dict[i] = 'B-screen'\n",
        "        if i < len(word_token) - 1 and re.match(r'\\b(resolution|refresh)\\b', word_token[i + 1]):\n",
        "          text_dict[i + 1] = 'I-screen'\n",
        "          if i + 2 < len(word_token) - 1 and re.match(r'\\brate\\b', word_token[i + 2]):\n",
        "            text_dict[i + 2] = 'I-screen'\n",
        "      elif word.isnumeric() and i < len(word_token) - 1 and re.match(r'\\b(gb|mb|kb)\\b', word_token[i + 1]):\n",
        "        text_dict[i] = 'B-storage'\n",
        "        text_dict[i + 1] = 'I-storage'\n",
        "        if i + 2 < len(word_token) - 1 and re.match(r'\\b(ram|rom)\\b', word_token[i + 2]):\n",
        "          text_dict[i + 2] = 'I-storage'\n",
        "      elif word.isnumeric() and i < len(word_token) - 1 and re.match(r'\\b(mp|megapixels?)\\b', word_token[i + 1]):\n",
        "        text_dict[i] = 'B-camera'\n",
        "        text_dict[i + 1] = 'I-camera'\n",
        "        if i + 2 < len(word_token) - 1 and re.match(r'\\b(systems?|sensors?)\\b', word_token[i + 2]):\n",
        "          text_dict[i + 2] = 'I-camera'\n",
        "      elif word == 'fingerprint' and i < len(word_token) - 1 and re.match(r'\\b(scanner|reader)\\b', word_token[i + 1]):\n",
        "        text_dict[i] = 'B-feature'\n",
        "        text_dict[i + 1] = 'I-feature'\n",
        "      elif word == 'face' and i < len(word_token) - 1 and re.match(r'\\b(unlock|id)\\b', word_token[i + 1]):\n",
        "        text_dict[i] = 'B-feature'\n",
        "        text_dict[i + 1] = 'I-feature'\n",
        "      elif word == 'sd' and i < len(word_token) - 1 and word_token[i + 1] == 'card':\n",
        "        text_dict[i] = 'B-storage'\n",
        "        text_dict[i + 1] = 'I-storage'\n",
        "      elif word == 'micro' and i < len(word_token) - 1 and word_token[i + 1] == 'sd':\n",
        "        text_dict[i] = 'B-storage'\n",
        "        text_dict[i + 1] = 'I-storage'\n",
        "      elif re.match(r'\\b(macro|main|front|ultrawide|wide|zoom|rear|selfie|depth|telephoto)\\b', word) and i < len(word_token) - 1 and re.match(r'\\bcameras?\\b', word_token[i + 1]):\n",
        "        text_dict[i] = 'B-camera'\n",
        "        text_dict[i + 1] = 'I-camera'\n",
        "        if i + 2 < len(word_token) - 1 and re.match(r'\\b(systems?|sensors?)\\b', word_token[i + 2]):\n",
        "          text_dict[i + 2] = 'I-camera'\n",
        "      elif i < len(word_token) - 1 and re.match(r'\\b(cameras?)\\b', word) and re.match(r'\\bsensors?\\b', word_token[i + 1]):\n",
        "        text_dict[i] = 'B-camera'\n",
        "        text_dict[i + 1] = 'I-camera'\n",
        "      elif word == 'operating' and i < len(word_token) - 1 and word_token[i + 1] == 'system':\n",
        "        text_dict[i] = 'B-performance'\n",
        "        text_dict[i + 1] = 'I-performance'\n",
        "      elif re.match(r'\\b(proximity|accelerometer|gyroscope|barometer|biometrics)\\b', word):\n",
        "        text_dict[i] = 'B-feature'\n",
        "        if i < len(word_token) - 1 and re.match(r'\\bsensors?\\b', word_token[i + 1]):\n",
        "          text_dict[i + 1] = 'I-feature'\n",
        "      elif re.match(r'\\b(augmented|virtual)\\b', word) and i < len(word_token) - 1 and word_token[i + 1] == 'reality':\n",
        "        text_dict[i] = 'B-feature'\n",
        "        text_dict[i + 1] = 'I-feature'\n",
        "      elif word == 'battery': \n",
        "        text_dict[i] = 'B-battery'\n",
        "        if i < len(word_token) - 1 and re.match(r'\\b(capacity|life)\\b', word_token[i + 1]):\n",
        "          text_dict[i + 1] = 'I-battery'\n",
        "      elif re.match(r'\\b\\d+mah\\b', word):\n",
        "        text_dict[i] = 'B-battery'\n",
        "      elif word.isnumeric() and i < len(word_token) - 1 and word_token[i + 1] == 'mah':\n",
        "        text_dict[i] = 'B-battery'\n",
        "        text_dict[i + 1] = 'I-battery'\n",
        "      elif word == 'button':\n",
        "        text_dict[i] = 'B-button'\n",
        "        if re.match(r'\\b(power|volume|lock|mute|home|back)\\b', word_token[i - 1]):\n",
        "          text_dict[i] = 'I-button'\n",
        "          text_dict[i - 1] = 'B-button'\n",
        "      elif word == 'connectivity':\n",
        "        text_dict[i - 1] = 'B-connection'\n",
        "        text_dict[i] = 'I-connection'\n",
        "      elif re.match(r'\\b\\dg\\b', word):\n",
        "        text_dict[i] = 'B-connection'\n",
        "        if i < len(word_token) - 1 and re.match(r'\\b(connectivity|network)\\b', word_token[i + 1]):\n",
        "          text_dict[i + 1] = 'I-connection'\n",
        "      elif word == 'network':\n",
        "        text_dict[i] = 'B-connection'\n",
        "        if word_token[i - 1] == 'mobile':\n",
        "          text_dict[i - 1] = 'B-connection'\n",
        "          text_dict[i] = 'I-connection'\n",
        "      elif re.match(r'\\b(f|q)?hd\\b', word):\n",
        "        text_dict[i] = 'B-screen'\n",
        "        if i < len(word_token) - 1 and word_token[i + 1] == 'display':\n",
        "          text_dict[i + 1] = 'I-screen'\n",
        "      elif re.match(r'\\b\\d+\\-*ppi\\b', word):\n",
        "        text_dict[i] = 'B-screen'\n",
        "      elif word.isnumeric() and i < len(word_token) - 1 and word_token[i + 1] == 'ppi':\n",
        "        text_dict[i] = 'B-screen'\n",
        "        text_dict[i + 1] = 'I-screen'\n",
        "      elif re.match(r'\\bip6\\d\\b', word):\n",
        "        text_dict[i] = 'B-feature'\n",
        "        if i < len(word_token) - 1 and word_token[i + 1] == 'rating':\n",
        "          text_dict[i + 1] = 'I-feature'\n",
        "      elif re.match(r'\\b\\d+(?:watt|w)\\b', word):\n",
        "        text_dict[i] = 'B-charging'\n",
        "        if i < len(word_token) - 1 and re.match(r'\\b(charge|charging|charger)\\b', word_token[i + 1]):\n",
        "          text_dict[i + 1] = 'I-charging'\n",
        "      elif word.isnumeric() and i < len(word_token) - 1 and re.match(r'\\b(watt|w)\\b', word_token[i + 1]):\n",
        "        text_dict[i] = 'B-charging'\n",
        "        text_dict[i + 1] = 'I-charging'\n",
        "      elif re.match(r'\\b(fast|quick)\\b', word) and i < len(word_token) - 1 and re.match(r'\\b(charge|charging|charger)\\b', word_token[i + 1]):\n",
        "        text_dict[i] = 'B-charging'\n",
        "        text_dict[i + 1] = 'I-charging'\n",
        "\n",
        "  tokenized_text = ' '.join(text_dict)\n",
        "  return tokenized_text"
      ]
    },
    {
      "cell_type": "code",
      "execution_count": 48,
      "metadata": {
        "colab": {
          "base_uri": "https://localhost:8080/",
          "height": 206
        },
        "id": "NxDkVrFJyzz3",
        "outputId": "92855803-605c-45a8-81f4-5703351d65bb"
      },
      "outputs": [
        {
          "data": {
            "text/html": [
              "<div>\n",
              "<style scoped>\n",
              "    .dataframe tbody tr th:only-of-type {\n",
              "        vertical-align: middle;\n",
              "    }\n",
              "\n",
              "    .dataframe tbody tr th {\n",
              "        vertical-align: top;\n",
              "    }\n",
              "\n",
              "    .dataframe thead th {\n",
              "        text-align: right;\n",
              "    }\n",
              "</style>\n",
              "<table border=\"1\" class=\"dataframe\">\n",
              "  <thead>\n",
              "    <tr style=\"text-align: right;\">\n",
              "      <th></th>\n",
              "      <th>review</th>\n",
              "      <th>tag</th>\n",
              "    </tr>\n",
              "  </thead>\n",
              "  <tbody>\n",
              "    <tr>\n",
              "      <th>0</th>\n",
              "      <td>gud product price</td>\n",
              "      <td>O O O</td>\n",
              "    </tr>\n",
              "    <tr>\n",
              "      <th>1</th>\n",
              "      <td>one best phone far price range</td>\n",
              "      <td>O O O O O O</td>\n",
              "    </tr>\n",
              "    <tr>\n",
              "      <th>2</th>\n",
              "      <td>mobail nice betrry bad fast charging lowest ca...</td>\n",
              "      <td>O O O O B-charging I-charging O B-camera O O O...</td>\n",
              "    </tr>\n",
              "    <tr>\n",
              "      <th>3</th>\n",
              "      <td>battery worrest</td>\n",
              "      <td>B-battery O</td>\n",
              "    </tr>\n",
              "    <tr>\n",
              "      <th>4</th>\n",
              "      <td>bought phone horrible experience redmi note 8 ...</td>\n",
              "      <td>O O O O O O O O O O O O O</td>\n",
              "    </tr>\n",
              "  </tbody>\n",
              "</table>\n",
              "</div>"
            ],
            "text/plain": [
              "                                              review  \\\n",
              "0                                  gud product price   \n",
              "1                     one best phone far price range   \n",
              "2  mobail nice betrry bad fast charging lowest ca...   \n",
              "3                                    battery worrest   \n",
              "4  bought phone horrible experience redmi note 8 ...   \n",
              "\n",
              "                                                 tag  \n",
              "0                                              O O O  \n",
              "1                                        O O O O O O  \n",
              "2  O O O O B-charging I-charging O B-camera O O O...  \n",
              "3                                        B-battery O  \n",
              "4                          O O O O O O O O O O O O O  "
            ]
          },
          "execution_count": 48,
          "metadata": {},
          "output_type": "execute_result"
        }
      ],
      "source": [
        "data['tag'] = data['review'].apply(tagging_data)\n",
        "data.head()"
      ]
    },
    {
      "cell_type": "code",
      "execution_count": 49,
      "metadata": {},
      "outputs": [],
      "source": [
        "data.to_csv('datasets/tagged/reviews.csv', index=False)"
      ]
    },
    {
      "cell_type": "code",
      "execution_count": 50,
      "metadata": {},
      "outputs": [],
      "source": [
        "# Data from GSMArena\n",
        "gsm_arena_review = [\n",
        "\t'''Huawei Pura 70 Ultra is the headliner of the reimagined Photography series by Huawei. It packs the best camera the Chinese maker could conjure up, coupled with the best design, screen, Kirin chipset, and battery technology, of course.''',\n",
        "\t'''Despite the name change, the Huawei P series is alive and kicking, promising as ever, even without Leica or other trendy partnership being present for marketing hype. And, yes, the US sanctions are still at play, but Huawei seems to be on the verge of making those irrelevant.''',\n",
        "\t'''Back to what we do best - smartphone inspection - we are nothing short of thrilled by our time spent with the Huawei Pura 70 Ultra. And while we are in the process of reviewing it, we decided to give you a glimpse of what's coming your way.''',\n",
        "\t'''The Pura 70 Ultra is one of the few phones on the market you can immediately pick among a hundred phones in a second. The triangular camera design and unique back panel are quite nice, even if the housing is, well, huge.''',\n",
        "\t'''Then we have a large 6.8-inch LTPO OLED screen of 1260p resolution, 1B colors and 120Hz refresh rate. The Kirin 9010 chipset with 5G connectivity will probably initiate a new portion of investigations, but it does look promising with improved capabilities.''',\n",
        "\t'''The camera is the real showstopper here and rightfully, so. The retractable main camera is thoroughly interesting with its unique mechanical design, sure, but we cannot wait to test its 1\" sensor, one that makes use of sensor-shift stabilization, variable aperture lens and laser-assisted AF. Next is a 50MP telephoto camera for 3.5x optical zoom and up to 10x hybrid zoom, one that can do macro photos from as close as 5cm away! The 40MP ultrawide camera promises really wide field of view with its 13mm aperture lens, and it is AF-capable.''',\n",
        "\t'''The 13MP selfie camera also has wide-angle lens supports autofocus, too.''',\n",
        "\t'''Finally, the Huawei Pura 70 Ultra packs a 5200mAh battery capable of 100W wired and 80W wireless charging, plus 20W reverse wireless charging!''',\n",
        "\t'''The Pura 70 Ultra ships into one large and thick luxury-looking box. Inside you will find the phone itself, one premium case with a matching color but a different P-styled texture, a 100W power adapter and a USB cable.''',\n",
        "\t'''Notice the charger has both USB-C and USB-A ports, though it is not a dual-charger - you can use one of those at a time.''',\n",
        "\t'''The Honor and Porsche Design design collaboration continues and after the Magic V2 RSR we now have the Magic6 RSR. This one is a reimagined Magic6 Pro that  comes with a couple of hard to spot hardware improvements - in contrast to the V2 situation where the differences were skin-deep.''',\n",
        "\t'''The Porsche Design Magic6 RSR builds on the regular model's camera system by adding some extra autofocusing assistance. It comes in the form of a 1200-point LiDAR matrix that enables focusing speeds at up to 60fps. Great for pet photo shoots then. ''',\n",
        "\t'''Honor also says it's using a different and more advanced version of the primary camera's sensor that pushes its dynamic range capability up to 15EV. The weather contributed with clouds for that test.''',\n",
        "\t'''The display is also different on the Magic6 RSR, compared to the Magic6 Pro. The size and resolution are unchanged, but it's now a dual-layer OLED panel - or Tandem display - promising improved longevity and a nudge in max brightness (not that the non-RSR version was lacking in that respect).''',\n",
        "\t'''We'll have a look at the Porsche Design Honor Magic6 RSR and compare it side by side with the regular version, focusing on the differences mentioned - sort of a mini-review of the display and its effect on battery life, and a brief exploration into the main camera and how it stacks up next to that of the Magic6 Pro.''',\n",
        "\t'''The presentation of the Porsche Design version is predictably more upscale than that of the regular Magic6 Pro. The contrast is now even more stark than it would have been in previous years, with the Pro switching to the phone-only approach in 2024 - not so with the RSR.''',\n",
        "\t'''The Porsche Design Magic6 ships in an oversized graphite colored box that does contain more than you'd normally expect. The most surprising development (if you haven't already seen the Magic V2 RSR unboxing) is the inclusion of not one, but two, separate chargers - one with a UK style plug (Type G) and another with a Euro plug (Type F). There's also a separate cable for each adapter. Maybe all the chargers saved from mainstream Magics have been diverted to RSR boxes.''',\n",
        "\t'''The package also includes a snap-on protective case for the back of the phone. It's covered in a leather-like material on the outside, which looks just like that on the Magic V2 RSR's case, but is somehow ever so slightly less supple. It's still pretty nice, of course, it's just that the other one is nicer. On the inside, the alcantara or similar material has a fine pattern of hexagons, just like the phone's camera island.'''\n",
        "\t'''It's been a while now since we originally saw the Honor Magic V2 and got our initial hands-on experience at the Chinese announcement event. Since then, the phone finally had its global launch alongside an RSR Porsche Design edition. It's almost May now, and we finally we finally get an opportunity to review both devices. We are only pointing out the timeframe of things since, in today's dynamic market, all that time is more than enough to make a phone not necessarily irrelevant but definitely less exciting.</p>''',\n",
        "\t'''But not the Honor Magic V2, though. It remains special, like really special, for both foldable fans and the smartphone realm in general. Sure, it might be running a generation-old Snapdragon 8 Gen 2 chipset at this point, but that's about the only non-current and non-revolutionary thing about the Magic V2.</p>''',\n",
        "\t'''Let's start with what is probably the most impressive aspect of the Magic V2 - its size and weight. Of course, in absolute terms, it is far from compact, measuring 156.7x74.1x9.9mm folded and tipping the scale at 231g (with a few asterisks). It may not sound <i>that</i> impressive until you realize that Honor has made the first foldable in this form factor with a less than 10mm thickness.</p>''',\n",
        "\t'''And if that's not impressive enough, consider that the non-folding Samsung Galaxy S24 Ultra measures 162.3 x 79 x 8.6 mm and weighs in at 232 grams. With the V2, you can now get a whole extra display (and a large 7.92-inch one at that) and no other major compromises, including a hefty 5,000 mAh battery a potent triple camera setup and even an extra selfie camera all in roughly the same form factor as Samsung's or Apple's current flagship models. Foldables really have come a long way, and despite its relative age, the Honor Magic V2 represents the current pinnacle of this form factor.</p>''',\n",
        "\t'''It almost feels like Honor broke some laws of physics with the Magic V2. A lot of the space and weight savings come from the new silicon-carbon battery used in the Magic V2. It boasts impressive energy density, making it super thin, which explains how you can get that capacity inside a svelte body like the Magic V2's.</p>''',\n",
        "\t'''There are many more refinements and upgrades in the Magic V2, which is technically the third major iteration in Honor's foldable line. We'll definitely go over everything in detail, but some highlights include the 120Hz refresh rate on the foldable display and LTPO tech on both panels plus a brand new camera setup with OIS and 8x8 dToF Laser AF on the main cam.</p>''',\n",
        "\t'''We'll also mention that while we were trying to fit the V2 in the hectic review schedule, a package arrived at our doorstep with another V2, a v2 of the V2, so to speak. The Porsche Design Honor Magic V2 RSR is a much more exclusive repackaging of otherwise the same hardware, and we'll say a few words on that one as well.</p>''',\n",
        "\t'''Unlike most mainstream flagships, foldables still tend to present themselves as more premium products. Hence, you can usually expect more attention to the retail bundle like back in the day. This is definitely true for the Magic V2. It comes in a large and very posh-feeling box that provides plenty of protection during shipping.</p>''',\n",
        "\t'''The accessory package is quite lavish, especially in modern terms. You get one of Honor's 66W SuperCharge adapters in the box which pairs perfectly with the charging capabilities of the phone. Interestingly enough, the charger still uses a Type-A connection, which is why you get a Type-A to Type-C USB cable in the box. Also included is a snap-on case with a carbon fiber pattern as well as a kickstand.</p>''',\n",
        "\t'''And if you thought that was premium, wait till you see the Porsche Design version. An even nicer box is just the start, but the contents do go the extra mile.</p>''',\n",
        "\t'''For one, you get not one, but two chargers, one with a UK style plug (Type G) and another with a Euro plug (Type F) - because if you can afford the RSR version, you clearly are a globetrotter that can't be bothered with socket adapters. You also get two USB cables, because at this point, why not?</p>''',\n",
        "\t'''The bundle includes an even nicer back cover that's clad in what is either real leather or looks and feels very close to it, plus it has real thread stitching. ''',\n",
        "\t'''Both Magic V2s can be operated with a stylus, but only the Porsche Design version comes with one in the box. And it's a pretty fancy-looking one too, as befitting the brand, plus it comes with a carrying case of its own. Life of the rich and the famous, indeed.</p>''',\n",
        "\t'''Unintuitively, the Honor Pad 9 (a.k.a. the Tablet 9 in China) is has a large 12.1-inch screen. It covers all the basics with an eight-speaker audio setup and even stylus support, all for a fairly reasonable price of £299.99 or £349.99 with the optional Bluetooth keyboard attachment.'''\n",
        "\t'''The Pad 9 does not stray past the basics. There is no expandable storage, no 3.5mm audio jack, no support for positioning, and no NFC or a radio receiver. The camera setup is also fairly basic, with a 13MP snapper on the back and an 8MP one on the front.'''\n",
        "\t'''Then again, with the recent surge in \"value-driving\" devices in the tablet space, we have to assume that market research likely indicates that few users are looking for truly premium tablets, so the Honor Pad 9 might be well positioned in the midrange.'''\n",
        "\t'''The Honor Pad 9 ships in a basic two-piece cardboard box. There is no plastic in the package, which is always appreciated from an ecological standpoi'''\n",
        "\t'''The box cover has a large, to-scale image on the front of the tablet itself, along with the proud proclamation that it supports \"the Google App and Google Chrome\".'''\n",
        "\t'''There is plenty of space inside the box, and quite a few compartments for different accessories. Our unit only came with an Honor SuperCharge charger and a basic USB Type-A to Type-C cable. You don't get the keyboard or the stylus in the main box.'''\n",
        "\t'''We also got the optional Bluetooth keyboard in for review as well. It comes in an equally basic flip-up cardboard box with no plastics in sight. However, there is some foam to keep the keyboard from banging up against itself (in the case part).'''\n",
        "\t'''Unfortunately, we don't have the optional Honor Choice Pencil stylus to review at this time.''',\n",
        "\t'''Motorola is all about sensorial experiences this year and shifting the attention from specs to lifestyle - or at least that's the idea they're trying to sell us on with the Edge 50 Pro. Colors, materials, experiences, and AI are where the marketing focus is, but we'll try to remain pragmatic and not get too tangled in the esoteric.''',\n",
        "\t'''You can't miss the Pantone collaboration on the outside - as with previous models from the company, the Edge 50 Pro comes in at least one unusual hue that's been okayed by the color matching specialists; it's Luxe Lavender in this case. But that's been done before, and there's more Pantone now - the display and camera are Pantone-validated too, both of which are firsts in the industry (for whatever that's worth).''',\n",
        "\t'''More to our liking are numbers in general and the 6.7-inch OLED is both sharp (1220p) and fast (144Hz), not to mention bright (2000nits, Motorola says). There are specs to be appreciated in the camera field too - first and foremost, the f/1.4 aperture on the main camera. It's also nice to see a proper three-camera setup, telephoto included, and the fact that the ultrawide has autofocus deserves praise right from the outset.''',\n",
        "\t'''We're less enthusiastic about the heart of the Edge 50 Pro, the Snapdragon 7 Gen 3. Perhaps you recall that the Edge 40 Pro had the flagship Snapdragon last year, but this year's Pro is different - a restructuring of the lineup in 2024 means there's an Ultra at the top, like there was one generation prior, and that one gets the top-level chipset. The Pro, meanwhile, steps down to more of an upper-midrange status - we'll see where it stands on the value meter as we go along.''',\n",
        "\t'''The charging capability is about as flagship-grade as they come, though - at 125W and 18 minutes from empty to full, the specs are more than promising - albeit with some caveats. The 50W wireless charging rating is also a welcome improvement over the 15W of the previous generation, even if the 4,500mAh capacity isn't overly generous. We do like the relatively compact size and pocket-friendly weight, and the IP68 rating is most welcome too (also, befitting the 'Pro' moniker).''',\n",
        "\t'''Motorola unboxings have become somewhat of a treat in recent years, thanks to the company's practice of using fragrance on the inside of the box - that sure is 'a unique sensorial experience' that you won't be getting from other brands. We'll be quick to admit that there's little practical benefit to this, but that doesn't mean we like it any less. That's in addition to the packaging being plastic-free and made of 80% recycled materials, which is always nice.''',\n",
        "\t'''Inside, in addition to the phone, you'll be getting a TurboPower adapter. Its maximum output will vary depending on region and/or version of the phone. Our 12GB/512GB Euro spec includes the 125W charger, and that's what the 12GB/256GB option will also be getting, but the 8GB/128GB and 8GB/256GB variants will be bundled with a 68W unit (at least as best as we can tell - it's worth double checking with your vendor). A USB-C cable is included too.''',\n",
        "\t'''Also part of the package is a snap-on back cover with a semi-transparent frosted effect. The color of this accessory will be matched to the phone's colorway and for our Luxe Lavender review unit the hue is called Blue Heron (in Pantone speak again).''',\n",
        "\t'''The success of the Galaxy A54 has set the bar high for the just-released Galaxy A55. After the Samsung Galaxy S and Z foldable series, the Galaxy A5x series is likely the most popular in the company's portfolio for good reason. ''',\n",
        "\t'''This year's model makes gains in key areas. The new A55 boasts a bigger display, a more powerful chipset, more RAM in the base configuration and a tougher and more premium build.''',\n",
        "\t'''Most other aspects of what made the Galaxy A54 successful remain untouched - the microSD card support, good primary camera garnished with a decent ultrawide shooter, dependable battery life and IP67-rated build. Moreover, this time, it uses an aluminum frame and Gorilla Glass Victus+ protection.''',\n",
        "\t'''But will this be enough to persuade potential buyers? After all, the sub-€500 competition in Europe is fierce, and the same goes for the Indian INR 40,000-ish bracket. What made the A54 good in 2023 doesn't necessarily mean it will be enough in 2024. The competition is catching up, and we've seen some pretty solid midrangers come out in the first quarter of this year, so stick around to see if the A55 is worth your hard-earned money.''',\n",
        "\t'''The Galaxy A55 comes in a modest retail box with only some user manuals, a SIM tool and a USB-C to USB-C cable for charging and data transfer. There's no charger included.''',\n",
        "\t'''A few small but meaningful upgrades to the camera system, tweaks to the build and display, and the mandatory chipset refresh - we can't be mad at the Xiaomi 14 Ultra for its short list of changes, when last year's model was already one of the best cameraphones in existence.''',\n",
        "\t'''Indeed, the 14 Ultra doesn't stray too far from its predecessor. The main camera had a 1-inch sensor and dual-aperture lens on the 2023 model, the 2024 one uses a newer 1-inch sensor and makes that a truly variable aperture (with intermediate steps). The zoom cameras (two of them, as seemingly required to be called an Ultra), meanwhile, bring close focusing to the table and the longer of them also gets a slightly brighter lens.''',\n",
        "\t'''On the outside, Xiaomi has replaced the Corning-branded glass of the old model with an in-house concoction that should be more durable (asterisks, of course), and the <i>non-leather</i> leather has also been improved. There's a new aluminum alloy used for the frame in the International version, while China also gets a titanium option on top of that. Sounds like a win.''',\n",
        "\t'''Improvements in the display section are hard to spot, but there's a promise for slightly more brightness (hardly a gamechanger), while the new Snapdragon is the new Snapdragon - better than the old one, more or less the same across all 2024 mode''',\n",
        "\t'''Xiaomi has chosen not to mess around with battery capacity or charging speed on the global variant (Chinese version does get an extra 300mAh), and we think we could have used a bump in longevity - maybe we'll get that from elsewhere.''',\n",
        "\t'''Little has changed in the presentation and the 14 Ultra comes in the usual black thick cardboard box with simple Xiaomi lettering and a red Leica badge to add a splash of color. The internal packaging is all made of paper, so that's a win.''',\n",
        "\t'''The contents include a 90W charger (same as last year's) and a proprietary USB-A-to-C cable to go with it. Xiaomi has also bundled a translucent plastic snap-on back cover to protect the Ultra out of the box. It's on the cheap side, but something is better than nothing, plus the phone itself is supposedly more durable than the previous iteration. Let's see what that's about.''',\n",
        "\t'''Samsung has unveiled the new members of the Galaxy A series hot on the heels of the Galaxy S24 premiere. The Galaxy A35 and Galaxy A55 build on the positive reception of the previous models and bring updated designs, performance, and cameras. Today, we will explore the Galaxy A35 in detail.''',\n",
        "\t'''The new Samsung Galaxy A35 looks a lot like the Galaxy A34. As you can imagine, there are only a handful of upgrades, and they were not meant to tempt the Galaxy A34 owners to switch but more to lure new or existing Samsung users with much older phones.''',\n",
        "\t'''So, the Galaxy A35 starts with a new, updated dual-glass design and a more durable Gorilla Glass Victus+ front panel. The phone is IP67-rated for dust and water resistance and comes in a variety of catchy colors. The screen remains the same as on the Galaxy A34 - a 6.6-inch Super AMOLED of extended 1080p resolution and 120Hz refresh rate.''',\n",
        "\t'''The Galaxy A35 brings the same chipset we saw on the Galaxy A54 - the Exynos 1380 5G, so in a way, it can be a good alternative to the A54.''',\n",
        "\t'''The cameras haven't changed much since the Galaxy A34 - a high-res main camera, an 8MP ultrawide, a 5MP macro, and a 13MP selfie. There is a new primary, though, a 50MP OIS imager up from 48MP on the A34.''',\n",
        "\t'''Another new feature available on the Galaxy A35 is the support for Wi-Fi 6 networks.''',\n",
        "\t'''The Galaxy A34 is powered by a 5,000mAh with 25W fast charging support. It runs on Android 14 with One UI 6.1.''',\n",
        "\t'''The Galaxy A34 has a well-rounded specs sheet and no obvious omissions. However, it's very close to the Galaxy A54 feature set, so it remains to be seen if there is enough to set this new model apart. ''',\n",
        "\t'''The thin and lightweight cardboard retail box of the Galaxy A35 contains the phone and one basic passive 3A USB Type-C to Type-C cable. That's it. There are no plastics in sight, just cardboard.''',\n",
        "\t'''The Galaxy A35 supports 25W fast wired charging, but if you don't own a compatible USB-PD power adapter, you will need to shop for one, as there is no charger in the box.''',\n",
        "\t'''You look at the Galaxy S24 and S24+ and can't help but wonder if they really are the new models, or Samsung just went and reissued the old ones. The Ultra, on the other hand, is a different beast. The Galaxy S24 Ultra does make some significant strides towards improving on what was already the ultimate smartphone package.''',\n",
        "\t'''Some of the changes are immediately visible and start with the even blockier design with a fully flat face and the less reflective display glass. You won't immediately tell, but that glass should also be tougher, and as months go by, you'll perhaps appreciate the switch to titanium for the exposed frame, too.''',\n",
        "\t'''An even less obvious development, but one that has potential to be a major step in solidifying the Galaxy Ultra's position as a top cameraphone, is the new 5x zoom telephoto. Undoubtedly better at 5x than the old model, can it be as good at 10x?''',\n",
        "\t'''The Ultra won't partake in the chipset divide that's now returned to the lesser models, and all of the ultimate Galaxies will feature a Snapdragon 8 Gen 3 - no Exynos here if that makes any difference. Sure enough, the S24 Ultra will have all the AI smarts Samsung and Google came up with to fill an hour of Unpacked 2024.''',\n",
        "\t'''Unchanged is the battery capacity on this year's model, and so too is the maximum charging rating, for better or for worse. No change can be a good thing too, and the S Pen remains another differentiator that elevates the Galaxy Ultra above all others when it comes to productivity and just general usefulness (it's the best camera remote is what it is).''',\n",
        "\t'''You can have another look at the key specs below, before we proceed to get our hands on the Ultra, at long last.''',\n",
        "\t'''Another uneventful unboxing experience awaits, but it's not like the slimline box is making any promises. A SIM eject pin is still included, though a line in the instructions that says 'use a paper clip or an earring' could be replacing that in the near future. That, or eSIMs.''',\n",
        "\t'''The other thing of any practical use inside the box is a USB-C cable, but it's only good for 3A of current, and that may not be enough to get the promised 45W of charging. We might have a rant on that subject later on in the review.''',\n",
        "\t'''The Galaxy S Plus is probably the least popular device of the Galaxy S trio, but it has its fans. It caters to those who want a bigger Galaxy S screen and don't want to overpay for Ultra features they will not use. Today, we will be meeting with the Galaxy S24+, which finally returns to its former glory with a Quad HD display!''',\n",
        "\t'''Indeed, this has to be the biggest change since the Galaxy S21 series! The Galaxy S24+ brings back the 1440p OLED display we last saw on the Galaxy S20+ in 2020. And it's as premium of a panel as it can get - a 6.7-inch LTPO Dynamic AMOLED 2X screen with 513ppi, 120Hz dynamic refresh rate, HDR10+ and up to 2,600 nits of peak brightness.''',\n",
        "\t'''Quick note - we are reviewing the Exynos model of the Galaxy S24+ here.''',\n",
        "\t'''The refreshed design is the next thing on the list of upgrades - the aluminum frame is now tougher, flatter and all matte! This makes the Galaxy S24+ look new and feel new, too.''',\n",
        "\t'''Just like the Galaxy S24, the S24+ hardware varies depending on the market. The global models employ the Exynos 2400 chip with a 10-core CPU and new AMD graphics, while the US/Canada/China models run on the Snapdragon 8 Gen 3. The S24+ is available in 256GB and 512GB variants, both with UFS 4.0 chips and 12GB of RAM.''',\n",
        "\t'''The camera system is identical to the one on the Galaxy S24, S23+ and S23. There are three cameras on the back - a 50MP OIS primary, a 10MP 3x telephoto and a 12MP ultrawide. The front camera is a 12MP shooter with autofocus and 4K capturing.''',\n",
        "\t'''The Galaxy S24+ specs also include Ultra Wideband (UWB) support and a larger 4,900mAh battery with 45W wired and 15W wireless charging.''',\n",
        "\t'''The Galaxy S24+ seems like it has it all. Maybe it deserved a better zoom camera, or at least one of higher resolution, so it can allow for lossless/hybrid zoom. But we guess this incremental update will now be reserved for the Galaxy S25 next year.''',\n",
        "\t'''The Galaxy S24+ ships inside a thin black box containing a USB-C cable and a SIM ejection tool.<''',\n",
        "\t'''Those who pre-ordered the S24+ also get a 25W power adapter, a 15W charger pad, and a clear case. Those extras are market-dependent, of course.''',\n",
        "\t'''The cable that ships inside the retail boxes of the Galaxy S24 series is officially rated as 3A or up to 25W. This means if you buy a 45W charger or similar and it doesn't include a proper cable, you will need to shop for a compatible cable so you can enjoy faster than 25W charging.''',\n",
        "]"
      ]
    },
    {
      "cell_type": "code",
      "execution_count": 51,
      "metadata": {},
      "outputs": [],
      "source": [
        "gsm_arena_review = pd.DataFrame({'review': gsm_arena_review})\n",
        "gsm_arena_review['review'] = gsm_arena_review['review'].apply(clean_text)"
      ]
    },
    {
      "cell_type": "code",
      "execution_count": 52,
      "metadata": {},
      "outputs": [],
      "source": [
        "gsm_arena_review['tag'] = gsm_arena_review['review'].apply(tagging_data)"
      ]
    },
    {
      "cell_type": "code",
      "execution_count": 53,
      "metadata": {},
      "outputs": [],
      "source": [
        "gsm_arena_review.to_csv('datasets/tagged/gsm_arena_review_datasets.csv', index=False)"
      ]
    },
    {
      "cell_type": "code",
      "execution_count": 54,
      "metadata": {},
      "outputs": [],
      "source": [
        "review = pd.read_csv('datasets/tagged/reviews.csv', encoding='latin1')\n",
        "cpu_name = pd.read_csv('datasets/tagged/cpu_name.csv', encoding='latin1')\n",
        "more_review = pd.read_csv('datasets/tagged/gsm_arena_review_datasets.csv', encoding='latin1')"
      ]
    },
    {
      "cell_type": "code",
      "execution_count": 55,
      "metadata": {},
      "outputs": [],
      "source": [
        "cpu_name.rename(columns={'cpu_name': 'review'}, inplace=True)"
      ]
    },
    {
      "cell_type": "code",
      "execution_count": 56,
      "metadata": {},
      "outputs": [
        {
          "data": {
            "text/html": [
              "<div>\n",
              "<style scoped>\n",
              "    .dataframe tbody tr th:only-of-type {\n",
              "        vertical-align: middle;\n",
              "    }\n",
              "\n",
              "    .dataframe tbody tr th {\n",
              "        vertical-align: top;\n",
              "    }\n",
              "\n",
              "    .dataframe thead th {\n",
              "        text-align: right;\n",
              "    }\n",
              "</style>\n",
              "<table border=\"1\" class=\"dataframe\">\n",
              "  <thead>\n",
              "    <tr style=\"text-align: right;\">\n",
              "      <th></th>\n",
              "      <th>review</th>\n",
              "      <th>tag</th>\n",
              "    </tr>\n",
              "  </thead>\n",
              "  <tbody>\n",
              "    <tr>\n",
              "      <th>0</th>\n",
              "      <td>gud product price</td>\n",
              "      <td>O O O</td>\n",
              "    </tr>\n",
              "    <tr>\n",
              "      <th>1</th>\n",
              "      <td>one best phone far price range</td>\n",
              "      <td>O O O O O O</td>\n",
              "    </tr>\n",
              "    <tr>\n",
              "      <th>2</th>\n",
              "      <td>mobail nice betrry bad fast charging lowest ca...</td>\n",
              "      <td>O O O O B-charging I-charging O B-camera O O O...</td>\n",
              "    </tr>\n",
              "    <tr>\n",
              "      <th>3</th>\n",
              "      <td>battery worrest</td>\n",
              "      <td>B-battery O</td>\n",
              "    </tr>\n",
              "    <tr>\n",
              "      <th>4</th>\n",
              "      <td>bought phone horrible experience redmi note 8 ...</td>\n",
              "      <td>O O O O O O O O O O O O O</td>\n",
              "    </tr>\n",
              "  </tbody>\n",
              "</table>\n",
              "</div>"
            ],
            "text/plain": [
              "                                              review  \\\n",
              "0                                  gud product price   \n",
              "1                     one best phone far price range   \n",
              "2  mobail nice betrry bad fast charging lowest ca...   \n",
              "3                                    battery worrest   \n",
              "4  bought phone horrible experience redmi note 8 ...   \n",
              "\n",
              "                                                 tag  \n",
              "0                                              O O O  \n",
              "1                                        O O O O O O  \n",
              "2  O O O O B-charging I-charging O B-camera O O O...  \n",
              "3                                        B-battery O  \n",
              "4                          O O O O O O O O O O O O O  "
            ]
          },
          "execution_count": 56,
          "metadata": {},
          "output_type": "execute_result"
        }
      ],
      "source": [
        "review.head()"
      ]
    },
    {
      "cell_type": "code",
      "execution_count": 57,
      "metadata": {},
      "outputs": [],
      "source": [
        "all_data = pd.concat([review, cpu_name, more_review])\n",
        "all_data = all_data.sample(frac=1)"
      ]
    },
    {
      "cell_type": "code",
      "execution_count": 58,
      "metadata": {},
      "outputs": [],
      "source": [
        "to_iob_tag(all_data['review'], all_data['tag'], 'final/iob-ner-v3')"
      ]
    },
    {
      "cell_type": "markdown",
      "metadata": {},
      "source": [
        "# **Training Model**"
      ]
    },
    {
      "cell_type": "markdown",
      "metadata": {},
      "source": [
        "## **Prepare Data**"
      ]
    },
    {
      "cell_type": "code",
      "execution_count": 92,
      "metadata": {},
      "outputs": [
        {
          "data": {
            "text/html": [
              "<div>\n",
              "<style scoped>\n",
              "    .dataframe tbody tr th:only-of-type {\n",
              "        vertical-align: middle;\n",
              "    }\n",
              "\n",
              "    .dataframe tbody tr th {\n",
              "        vertical-align: top;\n",
              "    }\n",
              "\n",
              "    .dataframe thead th {\n",
              "        text-align: right;\n",
              "    }\n",
              "</style>\n",
              "<table border=\"1\" class=\"dataframe\">\n",
              "  <thead>\n",
              "    <tr style=\"text-align: right;\">\n",
              "      <th></th>\n",
              "      <th>sentence_id</th>\n",
              "      <th>words</th>\n",
              "      <th>labels</th>\n",
              "    </tr>\n",
              "  </thead>\n",
              "  <tbody>\n",
              "    <tr>\n",
              "      <th>0</th>\n",
              "      <td>0</td>\n",
              "      <td>good</td>\n",
              "      <td>O</td>\n",
              "    </tr>\n",
              "    <tr>\n",
              "      <th>1</th>\n",
              "      <td>11111</td>\n",
              "      <td>2</td>\n",
              "      <td>O</td>\n",
              "    </tr>\n",
              "    <tr>\n",
              "      <th>2</th>\n",
              "      <td>22222</td>\n",
              "      <td>awesome</td>\n",
              "      <td>O</td>\n",
              "    </tr>\n",
              "    <tr>\n",
              "      <th>3</th>\n",
              "      <td>22222</td>\n",
              "      <td>phone</td>\n",
              "      <td>O</td>\n",
              "    </tr>\n",
              "    <tr>\n",
              "      <th>4</th>\n",
              "      <td>22222</td>\n",
              "      <td>need</td>\n",
              "      <td>O</td>\n",
              "    </tr>\n",
              "  </tbody>\n",
              "</table>\n",
              "</div>"
            ],
            "text/plain": [
              "   sentence_id    words labels\n",
              "0            0     good      O\n",
              "1        11111        2      O\n",
              "2        22222  awesome      O\n",
              "3        22222    phone      O\n",
              "4        22222     need      O"
            ]
          },
          "execution_count": 92,
          "metadata": {},
          "output_type": "execute_result"
        }
      ],
      "source": [
        "data = pd.read_csv(\"datasets/final/iob-ner-v3.csv\",encoding=\"latin1\")\n",
        "data.head()"
      ]
    },
    {
      "cell_type": "code",
      "execution_count": 93,
      "metadata": {},
      "outputs": [],
      "source": [
        "X = data[[\"sentence_id\",\"words\"]]\n",
        "Y = data[\"labels\"]\n",
        "label = ['O',\n",
        " 'B-STORAGE',\n",
        " 'B-PERFORMANCE',\n",
        " 'B-BATTERY',\n",
        " 'I-BATTERY',\n",
        " 'B-CAMERA',\n",
        " 'I-CAMERA',\n",
        " 'B-CHARGING',\n",
        " 'I-CHARGING',\n",
        " 'I-STORAGE',\n",
        " 'I-PERFORMANCE',\n",
        " 'B-SCREEN',\n",
        " 'I-SCREEN',\n",
        " 'B-AUDIO',\n",
        " 'B-FEATURE',\n",
        " 'I-FEATURE',\n",
        " 'B-CONNECTION',\n",
        " 'I-CONNECTION',\n",
        " 'B-BUTTON',\n",
        " 'I-BUTTON',\n",
        " 'I-AUDIO']"
      ]
    },
    {
      "cell_type": "code",
      "execution_count": 96,
      "metadata": {},
      "outputs": [],
      "source": [
        "x_train, x_test, y_train, y_test = train_test_split(X, Y, test_size=0.2, random_state=42)\n",
        "train_data = pd.DataFrame({\"sentence_id\": x_train[\"sentence_id\"], \"words\": x_train[\"words\"], \"labels\":y_train})\n",
        "test_data = pd.DataFrame({\"sentence_id\": x_test[\"sentence_id\"], \"words\": x_test[\"words\"], \"labels\":y_test})"
      ]
    },
    {
      "cell_type": "markdown",
      "metadata": {},
      "source": [
        "## **Training**"
      ]
    },
    {
      "cell_type": "code",
      "execution_count": 94,
      "metadata": {},
      "outputs": [
        {
          "name": "stderr",
          "output_type": "stream",
          "text": [
            "Some weights of the model checkpoint at dslim/bert-base-NER were not used when initializing BertForTokenClassification: ['bert.pooler.dense.bias', 'bert.pooler.dense.weight']\n",
            "- This IS expected if you are initializing BertForTokenClassification from the checkpoint of a model trained on another task or with another architecture (e.g. initializing a BertForSequenceClassification model from a BertForPreTraining model).\n",
            "- This IS NOT expected if you are initializing BertForTokenClassification from the checkpoint of a model that you expect to be exactly identical (initializing a BertForSequenceClassification model from a BertForSequenceClassification model).\n",
            "Some weights of BertForTokenClassification were not initialized from the model checkpoint at dslim/bert-base-NER and are newly initialized because the shapes did not match:\n",
            "- classifier.bias: found shape torch.Size([9]) in the checkpoint and torch.Size([21]) in the model instantiated\n",
            "- classifier.weight: found shape torch.Size([9, 768]) in the checkpoint and torch.Size([21, 768]) in the model instantiated\n",
            "You should probably TRAIN this model on a down-stream task to be able to use it for predictions and inference.\n"
          ]
        }
      ],
      "source": [
        "args = NERArgs()\n",
        "args.num_train_epochs = 9\n",
        "args.learning_rate = 1e-4\n",
        "args.overwrite_output_dir =True\n",
        "args.train_batch_size = 32\n",
        "args.eval_batch_size = 32\n",
        "\n",
        "model = NERModel('bert', 'dslim/bert-base-NER', labels=label, args=args, ignore_mismatched_sizes=True)"
      ]
    },
    {
      "cell_type": "code",
      "execution_count": null,
      "metadata": {},
      "outputs": [],
      "source": [
        "model.train_model(train_data, eval_data=test_data, acc=accuracy_score)"
      ]
    },
    {
      "cell_type": "code",
      "execution_count": null,
      "metadata": {},
      "outputs": [],
      "source": [
        "result, model_outputs, preds_list = model.eval_model(test_data)\n",
        "result"
      ]
    },
    {
      "cell_type": "code",
      "execution_count": null,
      "metadata": {},
      "outputs": [],
      "source": [
        "with open('model/NER_Model_pickle_v4', 'wb') as file:\n",
        "  pickle.dump(model, file)"
      ]
    },
    {
      "cell_type": "markdown",
      "metadata": {},
      "source": [
        "# **Testing**"
      ]
    },
    {
      "cell_type": "code",
      "execution_count": null,
      "metadata": {},
      "outputs": [],
      "source": [
        "with open('model/NER_Model_pickle_v4', 'rb') as file:\n",
        "\tmodel = pickle.load(file)"
      ]
    },
    {
      "cell_type": "code",
      "execution_count": null,
      "metadata": {},
      "outputs": [],
      "source": [
        "txt = '''\n",
        "Apple pulled off some unexpected surprises with the iPhone 14 Pro: there had been lots of solid rumors about the company switching from putting the front-facing camera and Face ID system in a pill-shaped cutout instead of the familiar notch, but the new “Dynamic Island” alert system came out of nowhere. And while it was getting clearer that Apple would have to follow the industry in using bigger camera sensors eventually, Apple went even further and rebooted its entire computational photography system as the Photonic Engine.\n",
        "'''\n",
        "txt = clean_text(txt)\n",
        "print(txt)"
      ]
    },
    {
      "cell_type": "code",
      "execution_count": null,
      "metadata": {},
      "outputs": [],
      "source": [
        "prediction, model_output = model.predict([txt])"
      ]
    },
    {
      "cell_type": "code",
      "execution_count": null,
      "metadata": {},
      "outputs": [],
      "source": [
        "prediction"
      ]
    },
    {
      "cell_type": "markdown",
      "metadata": {},
      "source": [
        "## **Re-train model using prediction -> still thinking**"
      ]
    },
    {
      "cell_type": "code",
      "execution_count": null,
      "metadata": {},
      "outputs": [],
      "source": [
        "word = [key for item in prediction[0] for key in item.keys()]\n",
        "word = ' '.join(word)\n",
        "\n",
        "tag = [key for item in prediction[0] for key in item.values()]\n",
        "tag = ' '.join(tag)"
      ]
    }
  ],
  "metadata": {
    "colab": {
      "collapsed_sections": [
        "lwhke3ej-rwe",
        "5ADXEEOzsmVl",
        "IsbnqKpMs46x"
      ],
      "provenance": []
    },
    "kernelspec": {
      "display_name": "Python 3",
      "name": "python3"
    },
    "language_info": {
      "codemirror_mode": {
        "name": "ipython",
        "version": 3
      },
      "file_extension": ".py",
      "mimetype": "text/x-python",
      "name": "python",
      "nbconvert_exporter": "python",
      "pygments_lexer": "ipython3",
      "version": "3.12.3"
    }
  },
  "nbformat": 4,
  "nbformat_minor": 0
}
