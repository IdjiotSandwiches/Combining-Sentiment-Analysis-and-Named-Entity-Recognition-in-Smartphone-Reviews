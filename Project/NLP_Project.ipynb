{
 "cells": [
  {
   "cell_type": "markdown",
   "metadata": {},
   "source": [
    "# **Import and Install**"
   ]
  },
  {
   "cell_type": "code",
   "execution_count": null,
   "metadata": {},
   "outputs": [],
   "source": [
    "import re\n",
    "import math\n",
    "import emoji\n",
    "import string\n",
    "import pickle\n",
    "import collections\n",
    "import pandas as pd\n",
    "import numpy as np\n",
    "import torch.nn as nn\n",
    "import matplotlib.pyplot as plt\n",
    "from nltk.corpus import stopwords\n",
    "from nltk.tokenize import word_tokenize\n",
    "from nltk.stem import WordNetLemmatizer\n",
    "from transformers import AutoTokenizer, TrainingArguments, AutoModelForSequenceClassification, AutoModelForTokenClassification, Trainer\n",
    "from sklearn.model_selection import train_test_split\n",
    "from sklearn.metrics import f1_score\n",
    "from sklearn.preprocessing import LabelEncoder\n",
    "from datasets import Dataset\n",
    "from wordcloud import WordCloud"
   ]
  },
  {
   "cell_type": "markdown",
   "metadata": {},
   "source": [
    "# **Dataset Preprocessing**"
   ]
  },
  {
   "cell_type": "code",
   "execution_count": null,
   "metadata": {},
   "outputs": [],
   "source": [
    "df_1 = pd.read_json('../datasets/raw_datasets/amazon_one_plus_reviews.json')\n",
    "df_2 = pd.read_csv('../datasets/raw_datasets/apple_iphone_11_reviews.csv')"
   ]
  },
  {
   "cell_type": "code",
   "execution_count": null,
   "metadata": {},
   "outputs": [],
   "source": [
    "df_1['review_text'] = df_1['review_text'].str.replace('\\n', '').str.strip()"
   ]
  },
  {
   "cell_type": "code",
   "execution_count": null,
   "metadata": {},
   "outputs": [],
   "source": [
    "df = pd.concat([df_1, df_2])"
   ]
  },
  {
   "cell_type": "code",
   "execution_count": null,
   "metadata": {},
   "outputs": [],
   "source": [
    "print(f'Before:\\n{df.isnull().sum()}')\n",
    "df.dropna(subset=['review_text'], inplace=True)\n",
    "df.dropna(subset=['review_title'], inplace=True)\n",
    "print()\n",
    "print(f'After:\\n{df.isnull().sum()}')"
   ]
  },
  {
   "cell_type": "code",
   "execution_count": null,
   "metadata": {},
   "outputs": [],
   "source": [
    "df.to_csv('../datasets/final/merged_reviews.csv', index=False)"
   ]
  },
  {
   "cell_type": "markdown",
   "metadata": {},
   "source": [
    "# **EDA**"
   ]
  },
  {
   "cell_type": "code",
   "execution_count": null,
   "metadata": {},
   "outputs": [],
   "source": [
    "text = ''.join(df['review_text'].astype(str))\n",
    "wordcloud = WordCloud(width=800, height=400, max_font_size=200, background_color=\"white\").generate_from_text(text)\n",
    "\n",
    "plt.figure(figsize=(16,8))\n",
    "plt.imshow(wordcloud, interpolation='bilinear')\n",
    "plt.axis('off')\n",
    "plt.show()"
   ]
  },
  {
   "cell_type": "code",
   "execution_count": null,
   "metadata": {},
   "outputs": [],
   "source": [
    "plt.figure(figsize=(16, 8))\n",
    "reviews = df['review_text']\n",
    "all_words = []\n",
    "for text in reviews:\n",
    "  sentences = word_tokenize(str(text))\n",
    "  words = [word for word in sentences if word not in string.punctuation]\n",
    "  words = [word for word in words if word not in stopwords.words('english')]\n",
    "  words = [word for word in words if word.isalpha()]\n",
    "  all_words.extend(words)\n",
    "\n",
    "word_freq = collections.Counter(all_words)\n",
    "common_words = word_freq.most_common(20)\n",
    "words, frequencies = zip(*common_words)\n",
    "\n",
    "plt.bar(words, frequencies)\n",
    "plt.xticks(rotation=45, ha='right')\n",
    "plt.xlabel('Words')\n",
    "plt.ylabel('Frequency')\n",
    "plt.title('Top 20 Most Common and Words in Reviews')\n",
    "plt.show()"
   ]
  },
  {
   "cell_type": "markdown",
   "metadata": {},
   "source": [
    "# **Sentiment Analysis**"
   ]
  },
  {
   "cell_type": "code",
   "execution_count": null,
   "metadata": {},
   "outputs": [],
   "source": [
    "sentiment_df = df"
   ]
  },
  {
   "cell_type": "markdown",
   "metadata": {},
   "source": [
    "## **Data Labeling**"
   ]
  },
  {
   "cell_type": "code",
   "execution_count": null,
   "metadata": {},
   "outputs": [
    {
     "name": "stdout",
     "output_type": "stream",
     "text": [
      "0       3.0\n",
      "1       1.0\n",
      "2       5.0\n",
      "3       1.0\n",
      "4       5.0\n",
      "       ... \n",
      "5005    4.0\n",
      "5006    4.0\n",
      "5007    5.0\n",
      "5008    5.0\n",
      "5009    5.0\n",
      "Name: numeric_rating, Length: 5007, dtype: float64\n",
      "None values:  0\n"
     ]
    }
   ],
   "source": [
    "def label_rating(review_rating):\n",
    "  match = re.search(r'(\\d+(\\.\\d+))\\s*out of 5 stars', review_rating)\n",
    "  if match:\n",
    "    return float(match.group(1))\n",
    "  else:\n",
    "    return None\n",
    "\n",
    "sentiment_df['numeric_rating'] = sentiment_df['review_rating'].apply(label_rating)\n",
    "print(sentiment_df['numeric_rating'])\n",
    "\n",
    "\n",
    "none_values = sentiment_df['numeric_rating'].isna()\n",
    "none_count = none_values.sum()\n",
    "print(\"None values: \", none_count)"
   ]
  },
  {
   "cell_type": "code",
   "execution_count": null,
   "metadata": {},
   "outputs": [
    {
     "name": "stdout",
     "output_type": "stream",
     "text": [
      "0       neutral\n",
      "1           bad\n",
      "2          good\n",
      "3           bad\n",
      "4          good\n",
      "         ...   \n",
      "5005       good\n",
      "5006       good\n",
      "5007       good\n",
      "5008       good\n",
      "5009       good\n",
      "Name: label, Length: 5007, dtype: object\n"
     ]
    }
   ],
   "source": [
    "def apply_labels(numeric_rating):\n",
    "  if numeric_rating < 3:\n",
    "    label = 'bad'\n",
    "  elif numeric_rating == 3:\n",
    "    label = 'neutral'\n",
    "  else:\n",
    "    label = 'good'\n",
    "  return label\n",
    "\n",
    "sentiment_df['label'] = sentiment_df['numeric_rating'].apply(apply_labels)\n",
    "print(sentiment_df['label'])"
   ]
  },
  {
   "cell_type": "code",
   "execution_count": null,
   "metadata": {},
   "outputs": [
    {
     "data": {
      "image/png": "[encoded data removed]",
      "text/plain": [
       "<Figure size 800x600 with 1 Axes>"
      ]
     },
     "metadata": {},
     "output_type": "display_data"
    }
   ],
   "source": [
    "label_counts = sentiment_df['label'].value_counts()\n",
    "plt.figure(figsize=(8, 6))\n",
    "plt.bar(label_counts.index, label_counts.values)\n",
    "plt.xlabel('Sentiment Label')\n",
    "plt.ylabel('Frequency')\n",
    "plt.title('Frequency of Sentiment Labels')\n",
    "plt.show()"
   ]
  },
  {
   "cell_type": "markdown",
   "metadata": {},
   "source": [
    "## **Data Resampling**"
   ]
  },
  {
   "cell_type": "code",
   "execution_count": null,
   "metadata": {},
   "outputs": [],
   "source": [
    "neutral = sentiment_df[sentiment_df['label'] == 'neutral']\n",
    "bad = sentiment_df[sentiment_df['label'] == 'bad']\n",
    "good = sentiment_df[sentiment_df['label'] == 'good']\n",
    "\n",
    "neutral_upsampled = neutral.sample(n=len(good), replace=True, random_state = 20)\n",
    "bad_upsampled = bad.sample(n=len(good), replace=True, random_state = 20)\n",
    "\n",
    "up_data = pd.concat([neutral_upsampled, bad_upsampled, good])"
   ]
  },
  {
   "cell_type": "code",
   "execution_count": null,
   "metadata": {},
   "outputs": [
    {
     "data": {
      "image/png": "[encoded data removed]",
      "text/plain": [
       "<Figure size 800x600 with 1 Axes>"
      ]
     },
     "metadata": {},
     "output_type": "display_data"
    }
   ],
   "source": [
    "label_counts = up_data['label'].value_counts()\n",
    "plt.figure(figsize=(8, 6))\n",
    "plt.bar(label_counts.index, label_counts.values)\n",
    "plt.xlabel('Sentiment Label')\n",
    "plt.ylabel('Frequency')\n",
    "plt.title('Frequency of Sentiment Labels')\n",
    "plt.show()"
   ]
  },
  {
   "cell_type": "markdown",
   "metadata": {},
   "source": [
    "## **Train test split**"
   ]
  },
  {
   "cell_type": "code",
   "execution_count": null,
   "metadata": {},
   "outputs": [
    {
     "name": "stdout",
     "output_type": "stream",
     "text": [
      "      index                         product                  helpful_count  \\\n",
      "2033   2033  Apple iPhone XR (64GB) - Black                              0   \n",
      "4199   4199  Apple iPhone XR (64GB) - Black                              0   \n",
      "920     920  Apple iPhone XR (64GB) - Black                              0   \n",
      "2587   2587  Apple iPhone XR (64GB) - Black                              0   \n",
      "504     504  Apple iPhone XR (64GB) - Black  One person found this helpful   \n",
      "...     ...                             ...                            ...   \n",
      "4978   4978  Apple iPhone XR (64GB) - Black                              0   \n",
      "1357   1357  Apple iPhone XR (64GB) - Black  One person found this helpful   \n",
      "390     390  Apple iPhone XR (64GB) - Black    2 people found this helpful   \n",
      "247     247  Apple iPhone XR (64GB) - Black                              0   \n",
      "497     497  Apple iPhone XR (64GB) - Black  One person found this helpful   \n",
      "\n",
      "                                            review_text       review_rating  \\\n",
      "2033  My phone is not working properly & I m not sat...  1.0 out of 5 stars   \n",
      "4199                            Ear phone not working .  3.0 out of 5 stars   \n",
      "920   Very good phone i was android user but first t...  5.0 out of 5 stars   \n",
      "2587  Features are very good, camera is really great...  5.0 out of 5 stars   \n",
      "504   Amazon is sending defective devices, please do...  1.0 out of 5 stars   \n",
      "...                                                 ...                 ...   \n",
      "4978                                           All good  5.0 out of 5 stars   \n",
      "1357                           Defective piece received  1.0 out of 5 stars   \n",
      "390                          Don't buy iPhone on amazon  1.0 out of 5 stars   \n",
      "247   I have been using iPhone XR for about a week a...  5.0 out of 5 stars   \n",
      "497   I received my order yesterday and the voice re...  1.0 out of 5 stars   \n",
      "\n",
      "                                           review_title  numeric_rating  \\\n",
      "2033                                      Default piece             1.0   \n",
      "4199                                                 Ok             3.0   \n",
      "920                                             Awesome             5.0   \n",
      "2587                      Overall very good performance             5.0   \n",
      "504                               Used/defective device             1.0   \n",
      "...                                                 ...             ...   \n",
      "4978                                           All Good             5.0   \n",
      "1357                                          Defective             1.0   \n",
      "390                         Don't buy iPhones on amazon             1.0   \n",
      "247   Premium build quality, exceptional battery and...             5.0   \n",
      "497                                           Defective             1.0   \n",
      "\n",
      "        label  \n",
      "2033      bad  \n",
      "4199  neutral  \n",
      "920      good  \n",
      "2587     good  \n",
      "504       bad  \n",
      "...       ...  \n",
      "4978     good  \n",
      "1357      bad  \n",
      "390       bad  \n",
      "247      good  \n",
      "497       bad  \n",
      "\n",
      "[10675 rows x 8 columns]\n",
      "      index                         product                  helpful_count  \\\n",
      "1845   1845  Apple iPhone XR (64GB) - Black                              0   \n",
      "3282   3282  Apple iPhone XR (64GB) - Black                              0   \n",
      "555     555  Apple iPhone XR (64GB) - Black    3 people found this helpful   \n",
      "134     134  Apple iPhone XR (64GB) - Black    2 people found this helpful   \n",
      "119     119  Apple iPhone XR (64GB) - Black    8 people found this helpful   \n",
      "...     ...                             ...                            ...   \n",
      "1527   1527  Apple iPhone XR (64GB) - Black                              0   \n",
      "774     774  Apple iPhone XR (64GB) - Black  One person found this helpful   \n",
      "1431   1431  Apple iPhone XR (64GB) - Black                              0   \n",
      "1368   1368  Apple iPhone XR (64GB) - Black                              0   \n",
      "4192   4192  Apple iPhone XR (64GB) - Black                              0   \n",
      "\n",
      "                                            review_text       review_rating  \\\n",
      "1845  A disappointment.Never purchase iPhone from he...  1.0 out of 5 stars   \n",
      "3282    Defective.. there is a blue dot in the display.  1.0 out of 5 stars   \n",
      "555                              I got a different item  1.0 out of 5 stars   \n",
      "134   Awesome product !! Far better than spending al...  5.0 out of 5 stars   \n",
      "119                    it has a receiver failer problem  1.0 out of 5 stars   \n",
      "...                                                 ...                 ...   \n",
      "1527  A disgrace. Camera has become awful and the pi...  2.0 out of 5 stars   \n",
      "774   Camera unable to use any external links in thi...  1.0 out of 5 stars   \n",
      "1431  Its a fantastic phone to use, only disadvantag...  5.0 out of 5 stars   \n",
      "1368  Received a new xr. Found it defective as face ...  1.0 out of 5 stars   \n",
      "4192                                          Very good  5.0 out of 5 stars   \n",
      "\n",
      "                                           review_title  numeric_rating label  \n",
      "1845                                   defective iphone             1.0   bad  \n",
      "3282                                    Display problem             1.0   bad  \n",
      "555                           I got a different product             1.0   bad  \n",
      "134                                   Value for Money!!             5.0  good  \n",
      "119                                    it has a problem             1.0   bad  \n",
      "...                                                 ...             ...   ...  \n",
      "1527                                         Bad Camera             2.0   bad  \n",
      "774                                  Camera not working             1.0   bad  \n",
      "1431                               Awesomeness apple XR             5.0  good  \n",
      "1368  Defective xr face id and camera aren't functio...             1.0   bad  \n",
      "4192                                               Good             5.0  good  \n",
      "\n",
      "[2669 rows x 8 columns]\n"
     ]
    }
   ],
   "source": [
    "train, eval = train_test_split(up_data,train_size=0.8,stratify=up_data['label'])\n",
    "\n",
    "print(train)\n",
    "print(eval)"
   ]
  },
  {
   "cell_type": "markdown",
   "metadata": {},
   "source": [
    "## **Training Model**"
   ]
  },
  {
   "cell_type": "markdown",
   "metadata": {},
   "source": [
    "### **Tokenizing**"
   ]
  },
  {
   "cell_type": "code",
   "execution_count": null,
   "metadata": {},
   "outputs": [
    {
     "name": "stderr",
     "output_type": "stream",
     "text": [
      "/usr/local/lib/python3.10/dist-packages/huggingface_hub/utils/_token.py:88: UserWarning: \n",
      "The secret `HF_TOKEN` does not exist in your Colab secrets.\n",
      "To authenticate with the Hugging Face Hub, create a token in your settings tab (https://huggingface.co/settings/tokens), set it as secret in your Google Colab and restart your session.\n",
      "You will be able to reuse this secret in all of your notebooks.\n",
      "Please note that authentication is recommended but still optional to access public models or datasets.\n",
      "  warnings.warn(\n"
     ]
    },
    {
     "data": {
      "application/vnd.jupyter.widget-view+json": {
       "model_id": "c94f1e4a0fd348328cebd3d42eabce26",
       "version_major": 2,
       "version_minor": 0
      },
      "text/plain": [
       "tokenizer_config.json:   0%|          | 0.00/29.0 [00:00<?, ?B/s]"
      ]
     },
     "metadata": {},
     "output_type": "display_data"
    },
    {
     "data": {
      "application/vnd.jupyter.widget-view+json": {
       "model_id": "0edcec6a948648219d5fc5ed63bac441",
       "version_major": 2,
       "version_minor": 0
      },
      "text/plain": [
       "config.json:   0%|          | 0.00/465 [00:00<?, ?B/s]"
      ]
     },
     "metadata": {},
     "output_type": "display_data"
    },
    {
     "data": {
      "application/vnd.jupyter.widget-view+json": {
       "model_id": "49e84e2871d246ddbe2e6a768fc69700",
       "version_major": 2,
       "version_minor": 0
      },
      "text/plain": [
       "vocab.txt:   0%|          | 0.00/213k [00:00<?, ?B/s]"
      ]
     },
     "metadata": {},
     "output_type": "display_data"
    },
    {
     "data": {
      "application/vnd.jupyter.widget-view+json": {
       "model_id": "b63a37a72adf4eb4b3fcb3bcb35d6b04",
       "version_major": 2,
       "version_minor": 0
      },
      "text/plain": [
       "tokenizer.json:   0%|          | 0.00/436k [00:00<?, ?B/s]"
      ]
     },
     "metadata": {},
     "output_type": "display_data"
    }
   ],
   "source": [
    "tokenizer=AutoTokenizer.from_pretrained('distilbert-base-cased')\n"
   ]
  },
  {
   "cell_type": "code",
   "execution_count": null,
   "metadata": {},
   "outputs": [
    {
     "data": {
      "application/vnd.jupyter.widget-view+json": {
       "model_id": "6a25f69b2859407eaf0aa0179a803b8a",
       "version_major": 2,
       "version_minor": 0
      },
      "text/plain": [
       "Map:   0%|          | 0/10675 [00:00<?, ? examples/s]"
      ]
     },
     "metadata": {},
     "output_type": "display_data"
    },
    {
     "data": {
      "application/vnd.jupyter.widget-view+json": {
       "model_id": "2ca777e1e5144750a7e3013fe98ebd97",
       "version_major": 2,
       "version_minor": 0
      },
      "text/plain": [
       "Map:   0%|          | 0/2669 [00:00<?, ? examples/s]"
      ]
     },
     "metadata": {},
     "output_type": "display_data"
    },
    {
     "name": "stdout",
     "output_type": "stream",
     "text": [
      "2033    0\n",
      "4199    1\n",
      "920     2\n",
      "2587    2\n",
      "504     0\n",
      "Name: label, dtype: int64\n",
      "1845    0\n",
      "3282    0\n",
      "555     0\n",
      "134     2\n",
      "119     0\n",
      "Name: label, dtype: int64\n",
      "{'review_text': 'My phone is not working properly & I m not satisfy, its cheating done by seller & Amazon is not supporting', 'label': 0, '__index_level_0__': 2033, 'input_ids': [101, 1422, 2179, 1110, 1136, 1684, 7513, 111, 146, 182, 1136, 13692, 117, 1157, 18661, 1694, 1118, 18275, 111, 9786, 1110, 1136, 4374, 102, 0, 0, 0, 0, 0, 0, 0, 0, 0, 0, 0, 0, 0, 0, 0, 0, 0, 0, 0, 0, 0, 0, 0, 0, 0, 0, 0, 0, 0, 0, 0, 0, 0, 0, 0, 0, 0, 0, 0, 0, 0, 0, 0, 0, 0, 0, 0, 0, 0, 0, 0, 0, 0, 0, 0, 0, 0, 0, 0, 0, 0, 0, 0, 0, 0, 0, 0, 0, 0, 0, 0, 0, 0, 0, 0, 0, 0, 0, 0, 0, 0, 0, 0, 0, 0, 0, 0, 0, 0, 0, 0, 0, 0, 0, 0, 0, 0, 0, 0, 0, 0, 0, 0, 0, 0, 0, 0, 0, 0, 0, 0, 0, 0, 0, 0, 0, 0, 0, 0, 0, 0, 0, 0, 0, 0, 0, 0, 0, 0, 0, 0, 0, 0, 0, 0, 0, 0, 0, 0, 0, 0, 0, 0, 0, 0, 0, 0, 0, 0, 0, 0, 0, 0, 0, 0, 0, 0, 0, 0, 0, 0, 0, 0, 0, 0, 0, 0, 0, 0, 0, 0, 0, 0, 0, 0, 0, 0, 0, 0, 0, 0, 0, 0, 0, 0, 0, 0, 0, 0, 0, 0, 0, 0, 0, 0, 0, 0, 0, 0, 0, 0, 0, 0, 0, 0, 0, 0, 0, 0, 0, 0, 0, 0, 0, 0, 0, 0, 0, 0, 0, 0, 0, 0, 0, 0, 0, 0, 0, 0, 0, 0, 0, 0, 0, 0, 0, 0, 0, 0, 0, 0, 0, 0, 0, 0, 0, 0, 0, 0, 0, 0, 0, 0, 0, 0, 0, 0, 0, 0, 0, 0, 0, 0, 0, 0, 0, 0, 0, 0, 0, 0, 0, 0, 0, 0, 0, 0, 0, 0, 0, 0, 0, 0, 0, 0, 0, 0, 0, 0, 0, 0, 0, 0, 0, 0, 0, 0, 0, 0, 0, 0, 0, 0, 0, 0, 0, 0, 0, 0, 0, 0, 0, 0, 0, 0, 0, 0, 0, 0, 0, 0, 0, 0, 0, 0, 0, 0, 0, 0, 0, 0, 0, 0, 0, 0, 0, 0, 0, 0, 0, 0, 0, 0, 0, 0, 0, 0, 0, 0, 0, 0, 0, 0, 0, 0, 0, 0, 0, 0, 0, 0, 0, 0, 0, 0, 0, 0, 0, 0, 0, 0, 0, 0, 0, 0, 0, 0, 0, 0, 0, 0, 0, 0, 0, 0, 0, 0, 0, 0, 0, 0, 0, 0, 0, 0, 0, 0, 0, 0, 0, 0, 0, 0, 0, 0, 0, 0, 0, 0, 0, 0, 0, 0, 0, 0, 0, 0, 0, 0, 0, 0, 0, 0, 0, 0, 0, 0, 0, 0, 0, 0, 0, 0, 0, 0, 0, 0, 0, 0, 0, 0, 0, 0, 0, 0, 0, 0, 0, 0, 0, 0, 0, 0, 0, 0, 0, 0, 0, 0, 0, 0, 0, 0, 0, 0, 0, 0, 0, 0, 0, 0, 0, 0, 0, 0, 0, 0, 0, 0, 0, 0, 0, 0, 0, 0, 0, 0, 0], 'attention_mask': [1, 1, 1, 1, 1, 1, 1, 1, 1, 1, 1, 1, 1, 1, 1, 1, 1, 1, 1, 1, 1, 1, 1, 1, 0, 0, 0, 0, 0, 0, 0, 0, 0, 0, 0, 0, 0, 0, 0, 0, 0, 0, 0, 0, 0, 0, 0, 0, 0, 0, 0, 0, 0, 0, 0, 0, 0, 0, 0, 0, 0, 0, 0, 0, 0, 0, 0, 0, 0, 0, 0, 0, 0, 0, 0, 0, 0, 0, 0, 0, 0, 0, 0, 0, 0, 0, 0, 0, 0, 0, 0, 0, 0, 0, 0, 0, 0, 0, 0, 0, 0, 0, 0, 0, 0, 0, 0, 0, 0, 0, 0, 0, 0, 0, 0, 0, 0, 0, 0, 0, 0, 0, 0, 0, 0, 0, 0, 0, 0, 0, 0, 0, 0, 0, 0, 0, 0, 0, 0, 0, 0, 0, 0, 0, 0, 0, 0, 0, 0, 0, 0, 0, 0, 0, 0, 0, 0, 0, 0, 0, 0, 0, 0, 0, 0, 0, 0, 0, 0, 0, 0, 0, 0, 0, 0, 0, 0, 0, 0, 0, 0, 0, 0, 0, 0, 0, 0, 0, 0, 0, 0, 0, 0, 0, 0, 0, 0, 0, 0, 0, 0, 0, 0, 0, 0, 0, 0, 0, 0, 0, 0, 0, 0, 0, 0, 0, 0, 0, 0, 0, 0, 0, 0, 0, 0, 0, 0, 0, 0, 0, 0, 0, 0, 0, 0, 0, 0, 0, 0, 0, 0, 0, 0, 0, 0, 0, 0, 0, 0, 0, 0, 0, 0, 0, 0, 0, 0, 0, 0, 0, 0, 0, 0, 0, 0, 0, 0, 0, 0, 0, 0, 0, 0, 0, 0, 0, 0, 0, 0, 0, 0, 0, 0, 0, 0, 0, 0, 0, 0, 0, 0, 0, 0, 0, 0, 0, 0, 0, 0, 0, 0, 0, 0, 0, 0, 0, 0, 0, 0, 0, 0, 0, 0, 0, 0, 0, 0, 0, 0, 0, 0, 0, 0, 0, 0, 0, 0, 0, 0, 0, 0, 0, 0, 0, 0, 0, 0, 0, 0, 0, 0, 0, 0, 0, 0, 0, 0, 0, 0, 0, 0, 0, 0, 0, 0, 0, 0, 0, 0, 0, 0, 0, 0, 0, 0, 0, 0, 0, 0, 0, 0, 0, 0, 0, 0, 0, 0, 0, 0, 0, 0, 0, 0, 0, 0, 0, 0, 0, 0, 0, 0, 0, 0, 0, 0, 0, 0, 0, 0, 0, 0, 0, 0, 0, 0, 0, 0, 0, 0, 0, 0, 0, 0, 0, 0, 0, 0, 0, 0, 0, 0, 0, 0, 0, 0, 0, 0, 0, 0, 0, 0, 0, 0, 0, 0, 0, 0, 0, 0, 0, 0, 0, 0, 0, 0, 0, 0, 0, 0, 0, 0, 0, 0, 0, 0, 0, 0, 0, 0, 0, 0, 0, 0, 0, 0, 0, 0, 0, 0, 0, 0, 0, 0, 0, 0, 0, 0, 0, 0, 0, 0, 0, 0, 0, 0, 0, 0, 0, 0, 0, 0, 0, 0, 0, 0, 0, 0, 0, 0, 0, 0, 0, 0, 0, 0, 0, 0, 0, 0, 0, 0, 0], 'labels': 0}\n"
     ]
    }
   ],
   "source": [
    "train['review_text'] = train['review_text'].astype(str)\n",
    "eval['review_text'] = eval['review_text'].astype(str)\n",
    "\n",
    "label_mapping = {'bad': 0, 'neutral': 1, 'good': 2}\n",
    "\n",
    "train['label'] = train['label'].map(label_mapping)\n",
    "eval['label'] = eval['label'].map(label_mapping)\n",
    "\n",
    "train_dataset = Dataset.from_pandas(train[['review_text', 'label']])\n",
    "eval_dataset = Dataset.from_pandas(eval[['review_text', 'label']])\n",
    "\n",
    "def tokenize_data(batch):\n",
    "  tokenized_batch = tokenizer(batch['review_text'], padding='max_length', truncation=True, max_length=512)\n",
    "  tokenized_batch['labels'] = batch['label']\n",
    "  return tokenized_batch\n",
    "\n",
    "train_dataset = train_dataset.map(tokenize_data, batched=True)\n",
    "eval_dataset = eval_dataset.map(tokenize_data, batched=True)\n",
    "\n",
    "print(train['label'].head())\n",
    "print(eval['label'].head())\n",
    "print(train_dataset[0])\n"
   ]
  },
  {
   "cell_type": "code",
   "execution_count": null,
   "metadata": {},
   "outputs": [],
   "source": [
    "def compute_metrics(eval_preds):\n",
    "    logits, labels = eval_preds\n",
    "    predictions = np.argmax(logits, axis=-1)\n",
    "    f1 = f1_score(labels, predictions, average='weighted')\n",
    "    return {\"f1-score\": f1}"
   ]
  },
  {
   "cell_type": "code",
   "execution_count": null,
   "metadata": {},
   "outputs": [],
   "source": [
    "trainargs=TrainingArguments('tweet_sentiments_analysis_distilbert',\n",
    "  num_train_epochs=5,\n",
    "  evaluation_strategy=\"epoch\",\n",
    "  save_strategy='epoch',\n",
    "  load_best_model_at_end=True,\n",
    "  push_to_hub=False\n",
    ")"
   ]
  },
  {
   "cell_type": "markdown",
   "metadata": {},
   "source": [
    "### **Training**"
   ]
  },
  {
   "cell_type": "code",
   "execution_count": null,
   "metadata": {},
   "outputs": [
    {
     "data": {
      "application/vnd.jupyter.widget-view+json": {
       "model_id": "d98e5f6cfa1847ad8484bf1fe1978ac8",
       "version_major": 2,
       "version_minor": 0
      },
      "text/plain": [
       "model.safetensors:   0%|          | 0.00/263M [00:00<?, ?B/s]"
      ]
     },
     "metadata": {},
     "output_type": "display_data"
    },
    {
     "name": "stderr",
     "output_type": "stream",
     "text": [
      "Some weights of DistilBertForSequenceClassification were not initialized from the model checkpoint at distilbert-base-cased and are newly initialized: ['classifier.bias', 'classifier.weight', 'pre_classifier.bias', 'pre_classifier.weight']\n",
      "You should probably TRAIN this model on a down-stream task to be able to use it for predictions and inference.\n",
      "/usr/local/lib/python3.10/dist-packages/accelerate/accelerator.py:432: FutureWarning: Passing the following arguments to `Accelerator` is deprecated and will be removed in version 1.0 of Accelerate: dict_keys(['dispatch_batches', 'split_batches', 'even_batches', 'use_seedable_sampler']). Please pass an `accelerate.DataLoaderConfiguration` instead: \n",
      "dataloader_config = DataLoaderConfiguration(dispatch_batches=None, split_batches=False, even_batches=True, use_seedable_sampler=True)\n",
      "  warnings.warn(\n"
     ]
    },
    {
     "data": {
      "text/html": [
       "\n",
       "    <div>\n",
       "      \n",
       "      <progress value='6675' max='6675' style='width:300px; height:20px; vertical-align: middle;'></progress>\n",
       "      [6675/6675 44:47, Epoch 5/5]\n",
       "    </div>\n",
       "    <table border=\"1\" class=\"dataframe\">\n",
       "  <thead>\n",
       " <tr style=\"text-align: left;\">\n",
       "      <th>Epoch</th>\n",
       "      <th>Training Loss</th>\n",
       "      <th>Validation Loss</th>\n",
       "      <th>F1-score</th>\n",
       "    </tr>\n",
       "  </thead>\n",
       "  <tbody>\n",
       "    <tr>\n",
       "      <td>1</td>\n",
       "      <td>0.249200</td>\n",
       "      <td>0.122665</td>\n",
       "      <td>0.966614</td>\n",
       "    </tr>\n",
       "    <tr>\n",
       "      <td>2</td>\n",
       "      <td>0.091200</td>\n",
       "      <td>0.109506</td>\n",
       "      <td>0.973028</td>\n",
       "    </tr>\n",
       "    <tr>\n",
       "      <td>3</td>\n",
       "      <td>0.059100</td>\n",
       "      <td>0.115392</td>\n",
       "      <td>0.973364</td>\n",
       "    </tr>\n",
       "    <tr>\n",
       "      <td>4</td>\n",
       "      <td>0.038100</td>\n",
       "      <td>0.093448</td>\n",
       "      <td>0.975194</td>\n",
       "    </tr>\n",
       "    <tr>\n",
       "      <td>5</td>\n",
       "      <td>0.040800</td>\n",
       "      <td>0.091827</td>\n",
       "      <td>0.975189</td>\n",
       "    </tr>\n",
       "  </tbody>\n",
       "</table><p>"
      ],
      "text/plain": [
       "<IPython.core.display.HTML object>"
      ]
     },
     "metadata": {},
     "output_type": "display_data"
    },
    {
     "data": {
      "text/plain": [
       "TrainOutput(global_step=6675, training_loss=0.12260814502444607, metrics={'train_runtime': 2688.8565, 'train_samples_per_second': 19.85, 'train_steps_per_second': 2.482, 'total_flos': 7070573494656000.0, 'train_loss': 0.12260814502444607, 'epoch': 5.0})"
      ]
     },
     "metadata": {},
     "output_type": "display_data"
    }
   ],
   "source": [
    "model_name = 'distilbert-base-cased'\n",
    "num_labels = 3\n",
    "model = AutoModelForSequenceClassification.from_pretrained(model_name, num_labels=num_labels)\n",
    "\n",
    "sentiment_analysis_model = Trainer(\n",
    "  model=model,\n",
    "  args=trainargs,\n",
    "  train_dataset=train_dataset,\n",
    "  eval_dataset=eval_dataset,\n",
    "  tokenizer=tokenizer,\n",
    "  compute_metrics=compute_metrics,\n",
    ")\n",
    "\n",
    "sentiment_analysis_model.train()"
   ]
  },
  {
   "cell_type": "markdown",
   "metadata": {},
   "source": [
    "## **Evaluation**"
   ]
  },
  {
   "cell_type": "code",
   "execution_count": null,
   "metadata": {},
   "outputs": [
    {
     "data": {
      "text/html": [
       "\n",
       "    <div>\n",
       "      \n",
       "      <progress value='334' max='334' style='width:300px; height:20px; vertical-align: middle;'></progress>\n",
       "      [334/334 00:42]\n",
       "    </div>\n",
       "    "
      ],
      "text/plain": [
       "<IPython.core.display.HTML object>"
      ]
     },
     "metadata": {},
     "output_type": "display_data"
    },
    {
     "name": "stdout",
     "output_type": "stream",
     "text": [
      "DistilBERT model:\n",
      "Evaluation results: {'eval_loss': 0.09182687848806381, 'eval_f1-score': 0.9751889560307472, 'eval_runtime': 42.362, 'eval_samples_per_second': 63.005, 'eval_steps_per_second': 7.884, 'epoch': 5.0}\n"
     ]
    }
   ],
   "source": [
    "results = sentiment_analysis_model.evaluate()\n",
    "print(\"DistilBERT model:\")\n",
    "print(\"Evaluation results:\", results)"
   ]
  },
  {
   "cell_type": "code",
   "execution_count": null,
   "metadata": {},
   "outputs": [],
   "source": [
    "#masukin Save model\n"
   ]
  },
  {
   "cell_type": "code",
   "execution_count": null,
   "metadata": {},
   "outputs": [],
   "source": [
    "#masukin prediction model"
   ]
  },
  {
   "cell_type": "markdown",
   "metadata": {},
   "source": [
    "# **NER**"
   ]
  },
  {
   "cell_type": "markdown",
   "metadata": {},
   "source": [
    "## **Function and Defined Variable**"
   ]
  },
  {
   "cell_type": "code",
   "execution_count": null,
   "metadata": {},
   "outputs": [],
   "source": [
    "camera = ['image', 'picture', 'camera', 'video', 'photography', 'ois', 'eis', 'stabilization']\n",
    "performance = ['faster', 'cpu', 'performance', 'lag', 'processor', 'power', 'smooth', 'os', 'specification', 'android', 'ios']\n",
    "screen = ['screen', 'display', 'nits', 'brightness', 'ips', 'hz', 'hertz', 'lcd']\n",
    "charging = ['charging', 'charge', 'watt', 'port', 'usb']\n",
    "audio = ['mic', 'microphone', 'audio', 'speaker', 'volume', 'loudspeaker', 'headphone']\n",
    "connection = ['connection', 'wifi', 'bluetooth']\n",
    "storage = ['ram', 'rom', 'storage', 'emmc', 'ufs', 'mbps', 'gbps', 'microsd']\n",
    "feature = ['feature', 'sensor', 'sensors', 'hdr']"
   ]
  },
  {
   "cell_type": "code",
   "execution_count": null,
   "metadata": {},
   "outputs": [],
   "source": [
    "def to_iob_tag(data_1, data_2):\n",
    "\tarr = []\n",
    "\tfor i, (cleaned_review, tag) in enumerate(zip(data_1, data_2)):\n",
    "\t\treview_tokenize = word_tokenize(cleaned_review)\n",
    "\t\ttag_tokenize = word_tokenize(tag)\n",
    "\n",
    "\t\tfor (review_edit, tag_edit) in zip(review_tokenize, tag_tokenize):\n",
    "\t\t\tflag = f'Sentence {i + 1}'\n",
    "\t\t\tarr.append((flag, review_edit, tag_edit))\n",
    "\n",
    "\ttokenize_df = pd.DataFrame(arr)\n",
    "\ttokenize_df.rename(columns={0: 'Sentence #', 1: 'Word', 2: 'Tag'}, inplace=True)\n",
    "\ttokenize_df[\"Sentence #\"] = LabelEncoder().fit_transform(tokenize_df[\"Sentence #\"])\n",
    "\ttokenize_df.rename(columns={\"Sentence #\": \"sentence_id\", \"Word\": \"words\", \"Tag\": \"labels\"}, inplace =True)\n",
    "\ttokenize_df[\"labels\"] = tokenize_df[\"labels\"].str.upper()\n",
    "\ttokenize_df.dropna(inplace=True)\n",
    "\n",
    "\treturn tokenize_df"
   ]
  },
  {
   "cell_type": "code",
   "execution_count": null,
   "metadata": {},
   "outputs": [],
   "source": [
    "def tagging_cpu_data(text):\n",
    "   text_dict = ''\n",
    "   word_token = word_tokenize(text)\n",
    "   \n",
    "   for i in enumerate(word_token):\n",
    "      if i == 0:\n",
    "         text_dict = text_dict + 'B-performance '\n",
    "      else:\n",
    "         text_dict = text_dict + 'I-performance '\n",
    "      \n",
    "   return text_dict"
   ]
  },
  {
   "cell_type": "code",
   "execution_count": null,
   "metadata": {},
   "outputs": [],
   "source": [
    "def tagging_data(text):\n",
    "  word_token = word_tokenize(text)\n",
    "  text_dict = ['O'] * len(word_token)\n",
    "\n",
    "  for i, word in enumerate(word_token):\n",
    "    word = word.lower()\n",
    "    if text_dict[i] != 'O':\n",
    "      continue\n",
    "    if word in camera:\n",
    "      text_dict[i] = 'B-camera'\n",
    "    elif word in performance:\n",
    "      text_dict[i] = 'B-performance'\n",
    "    elif word in screen:\n",
    "      text_dict[i] = 'B-screen'\n",
    "    elif word in charging:\n",
    "      text_dict[i] = 'B-charging'\n",
    "    elif word in audio:\n",
    "      if re.match(r'\\b(audio|headphone)\\b', word, re.IGNORECASE) and i < len(word_token) - 1 and word_token[i + 1] == 'jack':\n",
    "        text_dict[i] = 'B-audio'\n",
    "        text_dict[i + 1] = 'I-audio'\n",
    "      else:\n",
    "        text_dict[i] = 'B-audio'\n",
    "    elif word in connection:\n",
    "      text_dict[i] = 'B-connection'\n",
    "    elif word in storage:\n",
    "      text_dict[i] = 'B-storage'\n",
    "    elif word in feature:\n",
    "      text_dict[i] = 'B-feature'\n",
    "    elif word in cpu_b_name_word:\n",
    "      text_dict[i] = 'B-performance'\n",
    "    elif word in cpu_i_name_word and (text_dict[i - 1] == 'B-performance' or text_dict[i - 1] == 'I-performance'):\n",
    "      text_dict[i] = 'I-performance'\n",
    "    else:\n",
    "      if re.match(r'\\b\\d+(?:gb|mb|kb)\\b', word, re.IGNORECASE):\n",
    "        text_dict[i] = 'B-storage'\n",
    "        if i < len(word_token) - 1 and re.match(r'\\b(ram|rom)\\b', word_token[i + 1], re.IGNORECASE):\n",
    "          text_dict[i + 1] = 'I-storage'\n",
    "      elif re.match(r'\\b(amoled|oled)\\b', word, re.IGNORECASE):\n",
    "        text_dict[i] = 'B-screen'\n",
    "        if i < len(word_token) - 1 and re.match(r'\\b(display|screen)\\b', word_token[i + 1], re.IGNORECASE):\n",
    "          text_dict[i + 1] = 'I-screen'\n",
    "      elif re.match(r'\\b\\d+\\-*(?:mp|megapixel)\\b', word, re.IGNORECASE):\n",
    "        text_dict[i] = 'B-camera'\n",
    "      elif re.match(r'\\b\\d+(?:hz|hertz|p)\\b', word, re.IGNORECASE):\n",
    "        text_dict[i] = 'B-screen'\n",
    "        if i < len(word_token) - 1 and re.match(r'\\b(resolution|refresh)\\b', word_token[i + 1], re.IGNORECASE):\n",
    "          text_dict[i + 1] = 'I-screen'\n",
    "          if i + 2 < len(word_token) - 1 and re.match(r'\\brate\\b', word_token[i + 2], re.IGNORECASE):\n",
    "            text_dict[i + 2] = 'I-screen'\n",
    "      elif word.isnumeric() and i < len(word_token) - 1 and re.match(r'\\b(gb|mb|kb)\\b', word_token[i + 1], re.IGNORECASE):\n",
    "        text_dict[i] = 'B-storage'\n",
    "        text_dict[i + 1] = 'I-storage'\n",
    "        if i + 2 < len(word_token) - 1 and re.match(r'\\b(ram|rom)\\b', word_token[i + 2], re.IGNORECASE):\n",
    "          text_dict[i + 2] = 'I-storage'\n",
    "      elif word.isnumeric() and i < len(word_token) - 1 and re.match(r'\\b(mp|megapixels?)\\b', word_token[i + 1], re.IGNORECASE):\n",
    "        text_dict[i] = 'B-camera'\n",
    "        text_dict[i + 1] = 'I-camera'\n",
    "        if i + 2 < len(word_token) - 1 and re.match(r'\\b(systems?|sensors?)\\b', word_token[i + 2], re.IGNORECASE):\n",
    "          text_dict[i + 2] = 'I-camera'\n",
    "      elif word == 'fingerprint' and i < len(word_token) - 1 and re.match(r'\\b(scanner|reader)\\b', word_token[i + 1], re.IGNORECASE):\n",
    "        text_dict[i] = 'B-feature'\n",
    "        text_dict[i + 1] = 'I-feature'\n",
    "      elif word == 'face' and i < len(word_token) - 1 and re.match(r'\\b(unlock|id)\\b', word_token[i + 1], re.IGNORECASE):\n",
    "        text_dict[i] = 'B-feature'\n",
    "        text_dict[i + 1] = 'I-feature'\n",
    "      elif word == 'sd' and i < len(word_token) - 1 and word_token[i + 1] == 'card':\n",
    "        text_dict[i] = 'B-storage'\n",
    "        text_dict[i + 1] = 'I-storage'\n",
    "      elif word == 'micro' and i < len(word_token) - 1 and word_token[i + 1] == 'sd':\n",
    "        text_dict[i] = 'B-storage'\n",
    "        text_dict[i + 1] = 'I-storage'\n",
    "      elif re.match(r'\\b(macro|main|front|ultrawide|wide|zoom|rear|selfie|depth|telephoto)\\b', word, re.IGNORECASE) and i < len(word_token) - 1 and re.match(r'\\bcameras?\\b', word_token[i + 1], re.IGNORECASE):\n",
    "        text_dict[i] = 'B-camera'\n",
    "        text_dict[i + 1] = 'I-camera'\n",
    "        if i + 2 < len(word_token) - 1 and re.match(r'\\b(systems?|sensors?)\\b', word_token[i + 2], re.IGNORECASE):\n",
    "          text_dict[i + 2] = 'I-camera'\n",
    "      elif i < len(word_token) - 1 and re.match(r'\\b(cameras?)\\b', word, re.IGNORECASE) and re.match(r'\\bsensors?\\b', word_token[i + 1], re.IGNORECASE):\n",
    "        text_dict[i] = 'B-camera'\n",
    "        text_dict[i + 1] = 'I-camera'\n",
    "      elif word == 'operating' and i < len(word_token) - 1 and word_token[i + 1] == 'system':\n",
    "        text_dict[i] = 'B-performance'\n",
    "        text_dict[i + 1] = 'I-performance'\n",
    "      elif re.match(r'\\b(proximity|accelerometer|gyroscope|barometer|biometrics)\\b', word, re.IGNORECASE):\n",
    "        text_dict[i] = 'B-feature'\n",
    "        if i < len(word_token) - 1 and re.match(r'\\bsensors?\\b', word_token[i + 1], re.IGNORECASE):\n",
    "          text_dict[i + 1] = 'I-feature'\n",
    "      elif re.match(r'\\b(augmented|virtual)\\b', word, re.IGNORECASE) and i < len(word_token) - 1 and word_token[i + 1] == 'reality':\n",
    "        text_dict[i] = 'B-feature'\n",
    "        text_dict[i + 1] = 'I-feature'\n",
    "      elif word == 'battery': \n",
    "        text_dict[i] = 'B-battery'\n",
    "        if i < len(word_token) - 1 and re.match(r'\\b(capacity|life)\\b', word_token[i + 1], re.IGNORECASE):\n",
    "          text_dict[i + 1] = 'I-battery'\n",
    "      elif re.match(r'\\b\\d+mah\\b', word, re.IGNORECASE):\n",
    "        text_dict[i] = 'B-battery'\n",
    "      elif word.isnumeric() and i < len(word_token) - 1 and word_token[i + 1] == 'mah':\n",
    "        text_dict[i] = 'B-battery'\n",
    "        text_dict[i + 1] = 'I-battery'\n",
    "      elif word == 'button':\n",
    "        text_dict[i] = 'B-button'\n",
    "        if re.match(r'\\b(power|volume|lock|mute|home|back)\\b', word_token[i - 1], re.IGNORECASE):\n",
    "          text_dict[i] = 'I-button'\n",
    "          text_dict[i - 1] = 'B-button'\n",
    "      elif word == 'connectivity':\n",
    "        text_dict[i - 1] = 'B-connection'\n",
    "        text_dict[i] = 'I-connection'\n",
    "      elif re.match(r'\\b\\dg\\b', word, re.IGNORECASE):\n",
    "        text_dict[i] = 'B-connection'\n",
    "        if i < len(word_token) - 1 and re.match(r'\\b(connectivity|network)\\b', word_token[i + 1], re.IGNORECASE):\n",
    "          text_dict[i + 1] = 'I-connection'\n",
    "      elif word == 'network':\n",
    "        text_dict[i] = 'B-connection'\n",
    "        if word_token[i - 1] == 'mobile':\n",
    "          text_dict[i - 1] = 'B-connection'\n",
    "          text_dict[i] = 'I-connection'\n",
    "      elif re.match(r'\\b(f|q)?hd\\b', word, re.IGNORECASE):\n",
    "        text_dict[i] = 'B-screen'\n",
    "        if i < len(word_token) - 1 and word_token[i + 1] == 'display':\n",
    "          text_dict[i + 1] = 'I-screen'\n",
    "      elif re.match(r'\\b\\d+\\-*ppi\\b', word, re.IGNORECASE):\n",
    "        text_dict[i] = 'B-screen'\n",
    "      elif word.isnumeric() and i < len(word_token) - 1 and word_token[i + 1] == 'ppi':\n",
    "        text_dict[i] = 'B-screen'\n",
    "        text_dict[i + 1] = 'I-screen'\n",
    "      elif re.match(r'\\bip6\\d\\b', word, re.IGNORECASE):\n",
    "        text_dict[i] = 'B-feature'\n",
    "        if i < len(word_token) - 1 and word_token[i + 1] == 'rating':\n",
    "          text_dict[i + 1] = 'I-feature'\n",
    "      elif re.match(r'\\b\\d+(?:watt|w)\\b', word, re.IGNORECASE):\n",
    "        text_dict[i] = 'B-charging'\n",
    "        if i < len(word_token) - 1 and re.match(r'\\b(charge|charging|charger)\\b', word_token[i + 1], re.IGNORECASE):\n",
    "          text_dict[i + 1] = 'I-charging'\n",
    "      elif word.isnumeric() and i < len(word_token) - 1 and re.match(r'\\b(watt|w)\\b', word_token[i + 1], re.IGNORECASE):\n",
    "        text_dict[i] = 'B-charging'\n",
    "        text_dict[i + 1] = 'I-charging'\n",
    "      elif re.match(r'\\b(fast|quick)\\b', word, re.IGNORECASE) and i < len(word_token) - 1 and re.match(r'\\b(charge|charging|charger)\\b', word_token[i + 1], re.IGNORECASE):\n",
    "        text_dict[i] = 'B-charging'\n",
    "        text_dict[i + 1] = 'I-charging'\n",
    "\n",
    "  tokenized_text = ' '.join(text_dict)\n",
    "  return tokenized_text"
   ]
  },
  {
   "cell_type": "markdown",
   "metadata": {},
   "source": [
    "## **Datasets for CPU Name**"
   ]
  },
  {
   "cell_type": "code",
   "execution_count": null,
   "metadata": {},
   "outputs": [],
   "source": [
    "data = pd.DataFrame({'cpu_name': ['A10 Fusion',\n",
    "'A11 Bionic',\n",
    "'A12 Bionic',\n",
    "'A13 Bionic',\n",
    "'A14 Bionic',\n",
    "'A15 Bionic',\n",
    "'A16 Bionic',\n",
    "'A17 Pro',\n",
    "'Apple A9',\n",
    "'Dimensity 1000 Plus',\n",
    "'Dimensity 1050',\n",
    "'Dimensity 1080',\n",
    "'Dimensity 1100',\n",
    "'Dimensity 1200',\n",
    "'Dimensity 1300',\n",
    "'Dimensity 6020',\n",
    "'Dimensity 6080',\n",
    "'Dimensity 6100 Plus',\n",
    "'Dimensity 6300',\n",
    "'Dimensity 700',\n",
    "'Dimensity 7020',\n",
    "'Dimensity 7025',\n",
    "'Dimensity 7030',\n",
    "'Dimensity 7050',\n",
    "'Dimensity 720',\n",
    "'Dimensity 7200',\n",
    "'Dimensity 7200 Ultra',\n",
    "'Dimensity 800',\n",
    "'Dimensity 800U',\n",
    "'Dimensity 8020',\n",
    "'Dimensity 8050',\n",
    "'Dimensity 810',\n",
    "'Dimensity 8100',\n",
    "'Dimensity 820',\n",
    "'Dimensity 8200',\n",
    "'Dimensity 8300',\n",
    "'Dimensity 900',\n",
    "'Dimensity 9000',\n",
    "'Dimensity 9000 Plus',\n",
    "'Dimensity 920',\n",
    "'Dimensity 9200',\n",
    "'Dimensity 9200 Plus',\n",
    "'Dimensity 930',\n",
    "'Dimensity 9300',\n",
    "'Exynos 1280',\n",
    "'Exynos 1330',\n",
    "'Exynos 1380',\n",
    "'Exynos 1480',\n",
    "'Exynos 2100',\n",
    "'Exynos 2200',\n",
    "'Exynos 2400',\n",
    "'Exynos 7870',\n",
    "'Exynos 7884B',\n",
    "'Exynos 7885',\n",
    "'Exynos 7904',\n",
    "'Exynos 850',\n",
    "'Exynos 8890',\n",
    "'Exynos 8895',\n",
    "'Exynos 9610',\n",
    "'Exynos 9611',\n",
    "'Exynos 980',\n",
    "'Exynos 9810',\n",
    "'Exynos 9820',\n",
    "'Exynos 9825',\n",
    "'Exynos 990',\n",
    "'Google Tensor',\n",
    "'Helio A22',\n",
    "'Helio G25',\n",
    "'Helio G35',\n",
    "'Helio G36',\n",
    "'Helio G37',\n",
    "'Helio G70',\n",
    "'Helio G80',\n",
    "'Helio G85',\n",
    "'Helio G88',\n",
    "'Helio G90T',\n",
    "'Helio G95',\n",
    "'Helio G96',\n",
    "'Helio G99',\n",
    "'Helio P22',\n",
    "'Helio P35',\n",
    "'Helio P60',\n",
    "'Helio P65',\n",
    "'Helio P70',\n",
    "'Helio P90',\n",
    "'Helio P95',\n",
    "'Kirin 659',\n",
    "'Kirin 710',\n",
    "'Kirin 710A',\n",
    "'Kirin 710F',\n",
    "'Kirin 810',\n",
    "'Kirin 9000',\n",
    "'Kirin 9000S',\n",
    "'Kirin 9010',\n",
    "'Kirin 960',\n",
    "'Kirin 970',\n",
    "'Kirin 980',\n",
    "'Kirin 990 (5G)',\n",
    "'MediaTek MT6737',\n",
    "'Snapdragon 4 Gen 1',\n",
    "'Snapdragon 4 Gen 2',\n",
    "'Snapdragon 430',\n",
    "'Snapdragon 435',\n",
    "'Snapdragon 439',\n",
    "'Snapdragon 450',\n",
    "'Snapdragon 460',\n",
    "'Snapdragon 480',\n",
    "'Snapdragon 480 Plus',\n",
    "'Snapdragon 6 Gen 1',\n",
    "'Snapdragon 625',\n",
    "'Snapdragon 630',\n",
    "'Snapdragon 632',\n",
    "'Snapdragon 636',\n",
    "'Snapdragon 660',\n",
    "'Snapdragon 662',\n",
    "'Snapdragon 665',\n",
    "'Snapdragon 670',\n",
    "'Snapdragon 675',\n",
    "'Snapdragon 678',\n",
    "'Snapdragon 680',\n",
    "'Snapdragon 685',\n",
    "'Snapdragon 690',\n",
    "'Snapdragon 695',\n",
    "'Snapdragon 7 Gen 1',\n",
    "'Snapdragon 7 Gen 3',\n",
    "'Snapdragon 7 Plus Gen 2',\n",
    "'Snapdragon 7 Plus Gen 3',\n",
    "'Snapdragon 710',\n",
    "'Snapdragon 712',\n",
    "'Snapdragon 720G',\n",
    "'Snapdragon 730',\n",
    "'Snapdragon 730G',\n",
    "'Snapdragon 732G',\n",
    "'Snapdragon 750G',\n",
    "'Snapdragon 765G',\n",
    "'Snapdragon 778G',\n",
    "'Snapdragon 778G Plus',\n",
    "'Snapdragon 780G',\n",
    "'Snapdragon 782G',\n",
    "'Snapdragon 7s Gen 2',\n",
    "'Snapdragon 8 Gen 1',\n",
    "'Snapdragon 8 Gen 2',\n",
    "'Snapdragon 8 Gen 3',\n",
    "'Snapdragon 8 Plus Gen 1',\n",
    "'Snapdragon 820',\n",
    "'Snapdragon 821',\n",
    "'Snapdragon 835',\n",
    "'Snapdragon 845',\n",
    "'Snapdragon 855',\n",
    "'Snapdragon 855 Plus',\n",
    "'Snapdragon 860',\n",
    "'Snapdragon 865',\n",
    "'Snapdragon 865 Plus',\n",
    "'Snapdragon 870',\n",
    "'Snapdragon 888',\n",
    "'Snapdragon 888 Plus',\n",
    "'Snapdragon 8s Gen 3',\n",
    "'Tensor G2',\n",
    "'Tensor G3',\n",
    "'Tiger T610',\n",
    "'Tiger T612',\n",
    "'Tiger T616',\n",
    "'Tiger T618',\n",
    "'Tiger T700',\n",
    "'Unisoc SC9863A',\n",
    "'Unisoc T606',\n",
    "'Unisoc T820']})"
   ]
  },
  {
   "cell_type": "code",
   "execution_count": null,
   "metadata": {},
   "outputs": [],
   "source": [
    "data.to_csv('../datasets/raw_datasets/cpu_name.csv', index=False)"
   ]
  },
  {
   "cell_type": "markdown",
   "metadata": {},
   "source": [
    "## **CPU Name**"
   ]
  },
  {
   "cell_type": "code",
   "execution_count": null,
   "metadata": {},
   "outputs": [],
   "source": [
    "cpu = pd.read_csv('datasets/raw_datasets/cpu_name.csv', encoding='latin1')"
   ]
  },
  {
   "cell_type": "code",
   "execution_count": null,
   "metadata": {},
   "outputs": [],
   "source": [
    "cpu = pd.DataFrame({'cpu_name': cpu['cpuName']})\n",
    "cpu.head()"
   ]
  },
  {
   "cell_type": "code",
   "execution_count": null,
   "metadata": {},
   "outputs": [
    {
     "data": {
      "text/plain": [
       "355"
      ]
     },
     "metadata": {},
     "output_type": "display_data"
    }
   ],
   "source": [
    "cpu.dropna(inplace=True)\n",
    "len(cpu)"
   ]
  },
  {
   "cell_type": "code",
   "execution_count": null,
   "metadata": {},
   "outputs": [
    {
     "data": {
      "text/plain": [
       "230"
      ]
     },
     "metadata": {},
     "output_type": "display_data"
    }
   ],
   "source": [
    "cpu = cpu.drop_duplicates()\n",
    "len(cpu)"
   ]
  },
  {
   "cell_type": "code",
   "execution_count": null,
   "metadata": {},
   "outputs": [
    {
     "data": {
      "text/html": [
       "<div>\n",
       "<style scoped>\n",
       "    .dataframe tbody tr th:only-of-type {\n",
       "        vertical-align: middle;\n",
       "    }\n",
       "\n",
       "    .dataframe tbody tr th {\n",
       "        vertical-align: top;\n",
       "    }\n",
       "\n",
       "    .dataframe thead th {\n",
       "        text-align: right;\n",
       "    }\n",
       "</style>\n",
       "<table border=\"1\" class=\"dataframe\">\n",
       "  <thead>\n",
       "    <tr style=\"text-align: right;\">\n",
       "      <th></th>\n",
       "      <th>cpu_name</th>\n",
       "    </tr>\n",
       "  </thead>\n",
       "  <tbody>\n",
       "    <tr>\n",
       "      <th>0</th>\n",
       "      <td>A15 Bionic</td>\n",
       "    </tr>\n",
       "    <tr>\n",
       "      <th>3</th>\n",
       "      <td>M1</td>\n",
       "    </tr>\n",
       "    <tr>\n",
       "      <th>7</th>\n",
       "      <td>A14 Bionic</td>\n",
       "    </tr>\n",
       "    <tr>\n",
       "      <th>12</th>\n",
       "      <td>Tensor</td>\n",
       "    </tr>\n",
       "    <tr>\n",
       "      <th>14</th>\n",
       "      <td>A13 Bionic</td>\n",
       "    </tr>\n",
       "    <tr>\n",
       "      <th>...</th>\n",
       "      <td>...</td>\n",
       "    </tr>\n",
       "    <tr>\n",
       "      <th>162</th>\n",
       "      <td>Tiger T618</td>\n",
       "    </tr>\n",
       "    <tr>\n",
       "      <th>163</th>\n",
       "      <td>Tiger T700</td>\n",
       "    </tr>\n",
       "    <tr>\n",
       "      <th>164</th>\n",
       "      <td>Unisoc SC9863A</td>\n",
       "    </tr>\n",
       "    <tr>\n",
       "      <th>165</th>\n",
       "      <td>Unisoc T606</td>\n",
       "    </tr>\n",
       "    <tr>\n",
       "      <th>166</th>\n",
       "      <td>Unisoc T820</td>\n",
       "    </tr>\n",
       "  </tbody>\n",
       "</table>\n",
       "<p>229 rows × 1 columns</p>\n",
       "</div>"
      ],
      "text/plain": [
       "           cpu_name\n",
       "0     A15 Bionic   \n",
       "3            M1    \n",
       "7     A14 Bionic   \n",
       "12       Tensor    \n",
       "14    A13 Bionic   \n",
       "..              ...\n",
       "162      Tiger T618\n",
       "163      Tiger T700\n",
       "164  Unisoc SC9863A\n",
       "165     Unisoc T606\n",
       "166     Unisoc T820\n",
       "\n",
       "[229 rows x 1 columns]"
      ]
     },
     "metadata": {},
     "output_type": "display_data"
    }
   ],
   "source": [
    "cpu = cpu.drop(cpu.index[[71]])\n",
    "cpu"
   ]
  },
  {
   "cell_type": "code",
   "execution_count": null,
   "metadata": {},
   "outputs": [
    {
     "data": {
      "text/html": [
       "<div>\n",
       "<style scoped>\n",
       "    .dataframe tbody tr th:only-of-type {\n",
       "        vertical-align: middle;\n",
       "    }\n",
       "\n",
       "    .dataframe tbody tr th {\n",
       "        vertical-align: top;\n",
       "    }\n",
       "\n",
       "    .dataframe thead th {\n",
       "        text-align: right;\n",
       "    }\n",
       "</style>\n",
       "<table border=\"1\" class=\"dataframe\">\n",
       "  <thead>\n",
       "    <tr style=\"text-align: right;\">\n",
       "      <th></th>\n",
       "      <th>cpu_name</th>\n",
       "      <th>tag</th>\n",
       "    </tr>\n",
       "  </thead>\n",
       "  <tbody>\n",
       "    <tr>\n",
       "      <th>150</th>\n",
       "      <td>Snapdragon 860</td>\n",
       "      <td>B-performance I-performance</td>\n",
       "    </tr>\n",
       "    <tr>\n",
       "      <th>14</th>\n",
       "      <td>A13 Bionic</td>\n",
       "      <td>B-performance I-performance</td>\n",
       "    </tr>\n",
       "    <tr>\n",
       "      <th>165</th>\n",
       "      <td>Exynos 9611</td>\n",
       "      <td>B-performance I-performance</td>\n",
       "    </tr>\n",
       "    <tr>\n",
       "      <th>93</th>\n",
       "      <td>Kirin 9000</td>\n",
       "      <td>B-performance I-performance</td>\n",
       "    </tr>\n",
       "    <tr>\n",
       "      <th>33</th>\n",
       "      <td>Dimensity 820</td>\n",
       "      <td>B-performance I-performance</td>\n",
       "    </tr>\n",
       "  </tbody>\n",
       "</table>\n",
       "</div>"
      ],
      "text/plain": [
       "           cpu_name                           tag\n",
       "150  Snapdragon 860  B-performance I-performance \n",
       "14    A13 Bionic     B-performance I-performance \n",
       "165  Exynos 9611     B-performance I-performance \n",
       "93    Kirin 9000     B-performance I-performance \n",
       "33    Dimensity 820  B-performance I-performance "
      ]
     },
     "metadata": {},
     "output_type": "display_data"
    }
   ],
   "source": [
    "cpu['tag'] = cpu['cpu'].apply(tagging_cpu_data)\n",
    "cpu = cpu.sample(frac=1)\n",
    "cpu.head()"
   ]
  },
  {
   "cell_type": "code",
   "execution_count": null,
   "metadata": {},
   "outputs": [],
   "source": [
    "cpu_tag = to_iob_tag(cpu['cpu_name'], cpu['tag'])\n",
    "cpu_tag.to_csv('..datasets/tagged/cpu-iob-tag.csv')"
   ]
  },
  {
   "cell_type": "markdown",
   "metadata": {},
   "source": [
    "## **Tagging Dataset**"
   ]
  },
  {
   "cell_type": "code",
   "execution_count": null,
   "metadata": {},
   "outputs": [
    {
     "data": {
      "text/html": [
       "<div>\n",
       "<style scoped>\n",
       "    .dataframe tbody tr th:only-of-type {\n",
       "        vertical-align: middle;\n",
       "    }\n",
       "\n",
       "    .dataframe tbody tr th {\n",
       "        vertical-align: top;\n",
       "    }\n",
       "\n",
       "    .dataframe thead th {\n",
       "        text-align: right;\n",
       "    }\n",
       "</style>\n",
       "<table border=\"1\" class=\"dataframe\">\n",
       "  <thead>\n",
       "    <tr style=\"text-align: right;\">\n",
       "      <th></th>\n",
       "      <th>sentence_id</th>\n",
       "      <th>words</th>\n",
       "      <th>labels</th>\n",
       "    </tr>\n",
       "  </thead>\n",
       "  <tbody>\n",
       "    <tr>\n",
       "      <th>0</th>\n",
       "      <td>0</td>\n",
       "      <td>snapdragon</td>\n",
       "      <td>B-PERFORMANCE</td>\n",
       "    </tr>\n",
       "    <tr>\n",
       "      <th>1</th>\n",
       "      <td>0</td>\n",
       "      <td>860</td>\n",
       "      <td>I-PERFORMANCE</td>\n",
       "    </tr>\n",
       "    <tr>\n",
       "      <th>2</th>\n",
       "      <td>111</td>\n",
       "      <td>a13</td>\n",
       "      <td>B-PERFORMANCE</td>\n",
       "    </tr>\n",
       "    <tr>\n",
       "      <th>3</th>\n",
       "      <td>111</td>\n",
       "      <td>bionic</td>\n",
       "      <td>I-PERFORMANCE</td>\n",
       "    </tr>\n",
       "    <tr>\n",
       "      <th>4</th>\n",
       "      <td>152</td>\n",
       "      <td>exynos</td>\n",
       "      <td>B-PERFORMANCE</td>\n",
       "    </tr>\n",
       "  </tbody>\n",
       "</table>\n",
       "</div>"
      ],
      "text/plain": [
       "   sentence_id       words         labels\n",
       "0            0  snapdragon  B-PERFORMANCE\n",
       "1            0         860  I-PERFORMANCE\n",
       "2          111         a13  B-PERFORMANCE\n",
       "3          111      bionic  I-PERFORMANCE\n",
       "4          152      exynos  B-PERFORMANCE"
      ]
     },
     "metadata": {},
     "output_type": "display_data"
    }
   ],
   "source": [
    "cpu_name = pd.read_csv('../datasets/tagged/cpu-iob-tag.csv')\n",
    "cpu_name.head()"
   ]
  },
  {
   "cell_type": "code",
   "execution_count": null,
   "metadata": {},
   "outputs": [],
   "source": [
    "cpu_b_tag = cpu_name.loc[cpu_name['labels'] == 'B-PERFORMANCE']\n",
    "cpu_i_tag = cpu_name.loc[cpu_name['labels'] == 'I-PERFORMANCE']\n",
    "\n",
    "cpu_b_name_word = set(cpu_b_tag['words'].tolist())\n",
    "cpu_b_name_word = list(cpu_b_name_word)\n",
    "cpu_b_name_word = [i.lower() for i in cpu_b_name_word]\n",
    "cpu_b_name_word.remove('Google')\n",
    "\t\t\t\t\t\t \n",
    "cpu_i_name_word = set(cpu_i_tag['words'].tolist())\n",
    "cpu_i_name_word = list(cpu_i_name_word)\n",
    "cpu_i_name_word = [i.lower() for i in cpu_i_name_word]\n",
    "cpu_i_name_word.remove('Tensor')"
   ]
  },
  {
   "cell_type": "code",
   "execution_count": null,
   "metadata": {},
   "outputs": [
    {
     "data": {
      "text/html": [
       "<div>\n",
       "<style scoped>\n",
       "    .dataframe tbody tr th:only-of-type {\n",
       "        vertical-align: middle;\n",
       "    }\n",
       "\n",
       "    .dataframe tbody tr th {\n",
       "        vertical-align: top;\n",
       "    }\n",
       "\n",
       "    .dataframe thead th {\n",
       "        text-align: right;\n",
       "    }\n",
       "</style>\n",
       "<table border=\"1\" class=\"dataframe\">\n",
       "  <thead>\n",
       "    <tr style=\"text-align: right;\">\n",
       "      <th></th>\n",
       "      <th>review</th>\n",
       "    </tr>\n",
       "  </thead>\n",
       "  <tbody>\n",
       "    <tr>\n",
       "      <th>0</th>\n",
       "      <td>Yea..pre-ordered on 28 July, got it on 4 Augus...</td>\n",
       "    </tr>\n",
       "    <tr>\n",
       "      <th>1</th>\n",
       "      <td>Got it delivered yesterday , used for about 5-...</td>\n",
       "    </tr>\n",
       "    <tr>\n",
       "      <th>2</th>\n",
       "      <td>An amazing phone!</td>\n",
       "    </tr>\n",
       "    <tr>\n",
       "      <th>3</th>\n",
       "      <td>Brilliant..</td>\n",
       "    </tr>\n",
       "    <tr>\n",
       "      <th>4</th>\n",
       "      <td>I was skeptical about changing from One plus 6...</td>\n",
       "    </tr>\n",
       "  </tbody>\n",
       "</table>\n",
       "</div>"
      ],
      "text/plain": [
       "                                              review\n",
       "0  Yea..pre-ordered on 28 July, got it on 4 Augus...\n",
       "1  Got it delivered yesterday , used for about 5-...\n",
       "2                                  An amazing phone!\n",
       "3                                        Brilliant..\n",
       "4  I was skeptical about changing from One plus 6..."
      ]
     },
     "metadata": {},
     "output_type": "display_data"
    }
   ],
   "source": [
    "new_df = pd.DataFrame({'review': df['review_text']})\n",
    "new_df.head()"
   ]
  },
  {
   "cell_type": "markdown",
   "metadata": {},
   "source": [
    "### **More data and resampling**"
   ]
  },
  {
   "cell_type": "code",
   "execution_count": null,
   "metadata": {},
   "outputs": [],
   "source": [
    "# Data from GSMArena\n",
    "gsm_arena_review = [\n",
    "\t'''Huawei Pura 70 Ultra is the headliner of the reimagined Photography series by Huawei. It packs the best camera the Chinese maker could conjure up, coupled with the best design, screen, Kirin chipset, and battery technology, of course.''',\n",
    "\t'''Despite the name change, the Huawei P series is alive and kicking, promising as ever, even without Leica or other trendy partnership being present for marketing hype. And, yes, the US sanctions are still at play, but Huawei seems to be on the verge of making those irrelevant.''',\n",
    "\t'''Back to what we do best - smartphone inspection - we are nothing short of thrilled by our time spent with the Huawei Pura 70 Ultra. And while we are in the process of reviewing it, we decided to give you a glimpse of what's coming your way.''',\n",
    "\t'''The Pura 70 Ultra is one of the few phones on the market you can immediately pick among a hundred phones in a second. The triangular camera design and unique back panel are quite nice, even if the housing is, well, huge.''',\n",
    "\t'''Then we have a large 6.8-inch LTPO OLED screen of 1260p resolution, 1B colors and 120Hz refresh rate. The Kirin 9010 chipset with 5G connectivity will probably initiate a new portion of investigations, but it does look promising with improved capabilities.''',\n",
    "\t'''The camera is the real showstopper here and rightfully, so. The retractable main camera is thoroughly interesting with its unique mechanical design, sure, but we cannot wait to test its 1\" sensor, one that makes use of sensor-shift stabilization, variable aperture lens and laser-assisted AF. Next is a 50MP telephoto camera for 3.5x optical zoom and up to 10x hybrid zoom, one that can do macro photos from as close as 5cm away! The 40MP ultrawide camera promises really wide field of view with its 13mm aperture lens, and it is AF-capable.''',\n",
    "\t'''The 13MP selfie camera also has wide-angle lens supports autofocus, too.''',\n",
    "\t'''Finally, the Huawei Pura 70 Ultra packs a 5200mAh battery capable of 100W wired and 80W wireless charging, plus 20W reverse wireless charging!''',\n",
    "\t'''The Pura 70 Ultra ships into one large and thick luxury-looking box. Inside you will find the phone itself, one premium case with a matching color but a different P-styled texture, a 100W power adapter and a USB cable.''',\n",
    "\t'''Notice the charger has both USB-C and USB-A ports, though it is not a dual-charger - you can use one of those at a time.''',\n",
    "\t'''The Honor and Porsche Design design collaboration continues and after the Magic V2 RSR we now have the Magic6 RSR. This one is a reimagined Magic6 Pro that  comes with a couple of hard to spot hardware improvements - in contrast to the V2 situation where the differences were skin-deep.''',\n",
    "\t'''The Porsche Design Magic6 RSR builds on the regular model's camera system by adding some extra autofocusing assistance. It comes in the form of a 1200-point LiDAR matrix that enables focusing speeds at up to 60fps. Great for pet photo shoots then. ''',\n",
    "\t'''Honor also says it's using a different and more advanced version of the primary camera's sensor that pushes its dynamic range capability up to 15EV. The weather contributed with clouds for that test.''',\n",
    "\t'''The display is also different on the Magic6 RSR, compared to the Magic6 Pro. The size and resolution are unchanged, but it's now a dual-layer OLED panel - or Tandem display - promising improved longevity and a nudge in max brightness (not that the non-RSR version was lacking in that respect).''',\n",
    "\t'''We'll have a look at the Porsche Design Honor Magic6 RSR and compare it side by side with the regular version, focusing on the differences mentioned - sort of a mini-review of the display and its effect on battery life, and a brief exploration into the main camera and how it stacks up next to that of the Magic6 Pro.''',\n",
    "\t'''The presentation of the Porsche Design version is predictably more upscale than that of the regular Magic6 Pro. The contrast is now even more stark than it would have been in previous years, with the Pro switching to the phone-only approach in 2024 - not so with the RSR.''',\n",
    "\t'''The Porsche Design Magic6 ships in an oversized graphite colored box that does contain more than you'd normally expect. The most surprising development (if you haven't already seen the Magic V2 RSR unboxing) is the inclusion of not one, but two, separate chargers - one with a UK style plug (Type G) and another with a Euro plug (Type F). There's also a separate cable for each adapter. Maybe all the chargers saved from mainstream Magics have been diverted to RSR boxes.''',\n",
    "\t'''The package also includes a snap-on protective case for the back of the phone. It's covered in a leather-like material on the outside, which looks just like that on the Magic V2 RSR's case, but is somehow ever so slightly less supple. It's still pretty nice, of course, it's just that the other one is nicer. On the inside, the alcantara or similar material has a fine pattern of hexagons, just like the phone's camera island.'''\n",
    "\t'''It's been a while now since we originally saw the Honor Magic V2 and got our initial hands-on experience at the Chinese announcement event. Since then, the phone finally had its global launch alongside an RSR Porsche Design edition. It's almost May now, and we finally we finally get an opportunity to review both devices. We are only pointing out the timeframe of things since, in today's dynamic market, all that time is more than enough to make a phone not necessarily irrelevant but definitely less exciting.</p>''',\n",
    "\t'''But not the Honor Magic V2, though. It remains special, like really special, for both foldable fans and the smartphone realm in general. Sure, it might be running a generation-old Snapdragon 8 Gen 2 chipset at this point, but that's about the only non-current and non-revolutionary thing about the Magic V2.</p>''',\n",
    "\t'''Let's start with what is probably the most impressive aspect of the Magic V2 - its size and weight. Of course, in absolute terms, it is far from compact, measuring 156.7x74.1x9.9mm folded and tipping the scale at 231g (with a few asterisks). It may not sound <i>that</i> impressive until you realize that Honor has made the first foldable in this form factor with a less than 10mm thickness.</p>''',\n",
    "\t'''And if that's not impressive enough, consider that the non-folding Samsung Galaxy S24 Ultra measures 162.3 x 79 x 8.6 mm and weighs in at 232 grams. With the V2, you can now get a whole extra display (and a large 7.92-inch one at that) and no other major compromises, including a hefty 5,000 mAh battery a potent triple camera setup and even an extra selfie camera all in roughly the same form factor as Samsung's or Apple's current flagship models. Foldables really have come a long way, and despite its relative age, the Honor Magic V2 represents the current pinnacle of this form factor.</p>''',\n",
    "\t'''It almost feels like Honor broke some laws of physics with the Magic V2. A lot of the space and weight savings come from the new silicon-carbon battery used in the Magic V2. It boasts impressive energy density, making it super thin, which explains how you can get that capacity inside a svelte body like the Magic V2's.</p>''',\n",
    "\t'''There are many more refinements and upgrades in the Magic V2, which is technically the third major iteration in Honor's foldable line. We'll definitely go over everything in detail, but some highlights include the 120Hz refresh rate on the foldable display and LTPO tech on both panels plus a brand new camera setup with OIS and 8x8 dToF Laser AF on the main cam.</p>''',\n",
    "\t'''We'll also mention that while we were trying to fit the V2 in the hectic review schedule, a package arrived at our doorstep with another V2, a v2 of the V2, so to speak. The Porsche Design Honor Magic V2 RSR is a much more exclusive repackaging of otherwise the same hardware, and we'll say a few words on that one as well.</p>''',\n",
    "\t'''Unlike most mainstream flagships, foldables still tend to present themselves as more premium products. Hence, you can usually expect more attention to the retail bundle like back in the day. This is definitely true for the Magic V2. It comes in a large and very posh-feeling box that provides plenty of protection during shipping.</p>''',\n",
    "\t'''The accessory package is quite lavish, especially in modern terms. You get one of Honor's 66W SuperCharge adapters in the box which pairs perfectly with the charging capabilities of the phone. Interestingly enough, the charger still uses a Type-A connection, which is why you get a Type-A to Type-C USB cable in the box. Also included is a snap-on case with a carbon fiber pattern as well as a kickstand.</p>''',\n",
    "\t'''And if you thought that was premium, wait till you see the Porsche Design version. An even nicer box is just the start, but the contents do go the extra mile.</p>''',\n",
    "\t'''For one, you get not one, but two chargers, one with a UK style plug (Type G) and another with a Euro plug (Type F) - because if you can afford the RSR version, you clearly are a globetrotter that can't be bothered with socket adapters. You also get two USB cables, because at this point, why not?</p>''',\n",
    "\t'''The bundle includes an even nicer back cover that's clad in what is either real leather or looks and feels very close to it, plus it has real thread stitching. ''',\n",
    "\t'''Both Magic V2s can be operated with a stylus, but only the Porsche Design version comes with one in the box. And it's a pretty fancy-looking one too, as befitting the brand, plus it comes with a carrying case of its own. Life of the rich and the famous, indeed.</p>''',\n",
    "\t'''Unintuitively, the Honor Pad 9 (a.k.a. the Tablet 9 in China) is has a large 12.1-inch screen. It covers all the basics with an eight-speaker audio setup and even stylus support, all for a fairly reasonable price of £299.99 or £349.99 with the optional Bluetooth keyboard attachment.'''\n",
    "\t'''The Pad 9 does not stray past the basics. There is no expandable storage, no 3.5mm audio jack, no support for positioning, and no NFC or a radio receiver. The camera setup is also fairly basic, with a 13MP snapper on the back and an 8MP one on the front.'''\n",
    "\t'''Then again, with the recent surge in \"value-driving\" devices in the tablet space, we have to assume that market research likely indicates that few users are looking for truly premium tablets, so the Honor Pad 9 might be well positioned in the midrange.'''\n",
    "\t'''The Honor Pad 9 ships in a basic two-piece cardboard box. There is no plastic in the package, which is always appreciated from an ecological standpoi'''\n",
    "\t'''The box cover has a large, to-scale image on the front of the tablet itself, along with the proud proclamation that it supports \"the Google App and Google Chrome\".'''\n",
    "\t'''There is plenty of space inside the box, and quite a few compartments for different accessories. Our unit only came with an Honor SuperCharge charger and a basic USB Type-A to Type-C cable. You don't get the keyboard or the stylus in the main box.'''\n",
    "\t'''We also got the optional Bluetooth keyboard in for review as well. It comes in an equally basic flip-up cardboard box with no plastics in sight. However, there is some foam to keep the keyboard from banging up against itself (in the case part).'''\n",
    "\t'''Unfortunately, we don't have the optional Honor Choice Pencil stylus to review at this time.''',\n",
    "\t'''Motorola is all about sensorial experiences this year and shifting the attention from specs to lifestyle - or at least that's the idea they're trying to sell us on with the Edge 50 Pro. Colors, materials, experiences, and AI are where the marketing focus is, but we'll try to remain pragmatic and not get too tangled in the esoteric.''',\n",
    "\t'''You can't miss the Pantone collaboration on the outside - as with previous models from the company, the Edge 50 Pro comes in at least one unusual hue that's been okayed by the color matching specialists; it's Luxe Lavender in this case. But that's been done before, and there's more Pantone now - the display and camera are Pantone-validated too, both of which are firsts in the industry (for whatever that's worth).''',\n",
    "\t'''More to our liking are numbers in general and the 6.7-inch OLED is both sharp (1220p) and fast (144Hz), not to mention bright (2000nits, Motorola says). There are specs to be appreciated in the camera field too - first and foremost, the f/1.4 aperture on the main camera. It's also nice to see a proper three-camera setup, telephoto included, and the fact that the ultrawide has autofocus deserves praise right from the outset.''',\n",
    "\t'''We're less enthusiastic about the heart of the Edge 50 Pro, the Snapdragon 7 Gen 3. Perhaps you recall that the Edge 40 Pro had the flagship Snapdragon last year, but this year's Pro is different - a restructuring of the lineup in 2024 means there's an Ultra at the top, like there was one generation prior, and that one gets the top-level chipset. The Pro, meanwhile, steps down to more of an upper-midrange status - we'll see where it stands on the value meter as we go along.''',\n",
    "\t'''The charging capability is about as flagship-grade as they come, though - at 125W and 18 minutes from empty to full, the specs are more than promising - albeit with some caveats. The 50W wireless charging rating is also a welcome improvement over the 15W of the previous generation, even if the 4,500mAh capacity isn't overly generous. We do like the relatively compact size and pocket-friendly weight, and the IP68 rating is most welcome too (also, befitting the 'Pro' moniker).''',\n",
    "\t'''Motorola unboxings have become somewhat of a treat in recent years, thanks to the company's practice of using fragrance on the inside of the box - that sure is 'a unique sensorial experience' that you won't be getting from other brands. We'll be quick to admit that there's little practical benefit to this, but that doesn't mean we like it any less. That's in addition to the packaging being plastic-free and made of 80% recycled materials, which is always nice.''',\n",
    "\t'''Inside, in addition to the phone, you'll be getting a TurboPower adapter. Its maximum output will vary depending on region and/or version of the phone. Our 12GB/512GB Euro spec includes the 125W charger, and that's what the 12GB/256GB option will also be getting, but the 8GB/128GB and 8GB/256GB variants will be bundled with a 68W unit (at least as best as we can tell - it's worth double checking with your vendor). A USB-C cable is included too.''',\n",
    "\t'''Also part of the package is a snap-on back cover with a semi-transparent frosted effect. The color of this accessory will be matched to the phone's colorway and for our Luxe Lavender review unit the hue is called Blue Heron (in Pantone speak again).''',\n",
    "\t'''The success of the Galaxy A54 has set the bar high for the just-released Galaxy A55. After the Samsung Galaxy S and Z foldable series, the Galaxy A5x series is likely the most popular in the company's portfolio for good reason. ''',\n",
    "\t'''This year's model makes gains in key areas. The new A55 boasts a bigger display, a more powerful chipset, more RAM in the base configuration and a tougher and more premium build.''',\n",
    "\t'''Most other aspects of what made the Galaxy A54 successful remain untouched - the microSD card support, good primary camera garnished with a decent ultrawide shooter, dependable battery life and IP67-rated build. Moreover, this time, it uses an aluminum frame and Gorilla Glass Victus+ protection.''',\n",
    "\t'''But will this be enough to persuade potential buyers? After all, the sub-€500 competition in Europe is fierce, and the same goes for the Indian INR 40,000-ish bracket. What made the A54 good in 2023 doesn't necessarily mean it will be enough in 2024. The competition is catching up, and we've seen some pretty solid midrangers come out in the first quarter of this year, so stick around to see if the A55 is worth your hard-earned money.''',\n",
    "\t'''The Galaxy A55 comes in a modest retail box with only some user manuals, a SIM tool and a USB-C to USB-C cable for charging and data transfer. There's no charger included.''',\n",
    "\t'''A few small but meaningful upgrades to the camera system, tweaks to the build and display, and the mandatory chipset refresh - we can't be mad at the Xiaomi 14 Ultra for its short list of changes, when last year's model was already one of the best cameraphones in existence.''',\n",
    "\t'''Indeed, the 14 Ultra doesn't stray too far from its predecessor. The main camera had a 1-inch sensor and dual-aperture lens on the 2023 model, the 2024 one uses a newer 1-inch sensor and makes that a truly variable aperture (with intermediate steps). The zoom cameras (two of them, as seemingly required to be called an Ultra), meanwhile, bring close focusing to the table and the longer of them also gets a slightly brighter lens.''',\n",
    "\t'''On the outside, Xiaomi has replaced the Corning-branded glass of the old model with an in-house concoction that should be more durable (asterisks, of course), and the <i>non-leather</i> leather has also been improved. There's a new aluminum alloy used for the frame in the International version, while China also gets a titanium option on top of that. Sounds like a win.''',\n",
    "\t'''Improvements in the display section are hard to spot, but there's a promise for slightly more brightness (hardly a gamechanger), while the new Snapdragon is the new Snapdragon - better than the old one, more or less the same across all 2024 mode''',\n",
    "\t'''Xiaomi has chosen not to mess around with battery capacity or charging speed on the global variant (Chinese version does get an extra 300mAh), and we think we could have used a bump in longevity - maybe we'll get that from elsewhere.''',\n",
    "\t'''Little has changed in the presentation and the 14 Ultra comes in the usual black thick cardboard box with simple Xiaomi lettering and a red Leica badge to add a splash of color. The internal packaging is all made of paper, so that's a win.''',\n",
    "\t'''The contents include a 90W charger (same as last year's) and a proprietary USB-A-to-C cable to go with it. Xiaomi has also bundled a translucent plastic snap-on back cover to protect the Ultra out of the box. It's on the cheap side, but something is better than nothing, plus the phone itself is supposedly more durable than the previous iteration. Let's see what that's about.''',\n",
    "\t'''Samsung has unveiled the new members of the Galaxy A series hot on the heels of the Galaxy S24 premiere. The Galaxy A35 and Galaxy A55 build on the positive reception of the previous models and bring updated designs, performance, and cameras. Today, we will explore the Galaxy A35 in detail.''',\n",
    "\t'''The new Samsung Galaxy A35 looks a lot like the Galaxy A34. As you can imagine, there are only a handful of upgrades, and they were not meant to tempt the Galaxy A34 owners to switch but more to lure new or existing Samsung users with much older phones.''',\n",
    "\t'''So, the Galaxy A35 starts with a new, updated dual-glass design and a more durable Gorilla Glass Victus+ front panel. The phone is IP67-rated for dust and water resistance and comes in a variety of catchy colors. The screen remains the same as on the Galaxy A34 - a 6.6-inch Super AMOLED of extended 1080p resolution and 120Hz refresh rate.''',\n",
    "\t'''The Galaxy A35 brings the same chipset we saw on the Galaxy A54 - the Exynos 1380 5G, so in a way, it can be a good alternative to the A54.''',\n",
    "\t'''The cameras haven't changed much since the Galaxy A34 - a high-res main camera, an 8MP ultrawide, a 5MP macro, and a 13MP selfie. There is a new primary, though, a 50MP OIS imager up from 48MP on the A34.''',\n",
    "\t'''Another new feature available on the Galaxy A35 is the support for Wi-Fi 6 networks.''',\n",
    "\t'''The Galaxy A34 is powered by a 5,000mAh with 25W fast charging support. It runs on Android 14 with One UI 6.1.''',\n",
    "\t'''The Galaxy A34 has a well-rounded specs sheet and no obvious omissions. However, it's very close to the Galaxy A54 feature set, so it remains to be seen if there is enough to set this new model apart. ''',\n",
    "\t'''The thin and lightweight cardboard retail box of the Galaxy A35 contains the phone and one basic passive 3A USB Type-C to Type-C cable. That's it. There are no plastics in sight, just cardboard.''',\n",
    "\t'''The Galaxy A35 supports 25W fast wired charging, but if you don't own a compatible USB-PD power adapter, you will need to shop for one, as there is no charger in the box.''',\n",
    "\t'''You look at the Galaxy S24 and S24+ and can't help but wonder if they really are the new models, or Samsung just went and reissued the old ones. The Ultra, on the other hand, is a different beast. The Galaxy S24 Ultra does make some significant strides towards improving on what was already the ultimate smartphone package.''',\n",
    "\t'''Some of the changes are immediately visible and start with the even blockier design with a fully flat face and the less reflective display glass. You won't immediately tell, but that glass should also be tougher, and as months go by, you'll perhaps appreciate the switch to titanium for the exposed frame, too.''',\n",
    "\t'''An even less obvious development, but one that has potential to be a major step in solidifying the Galaxy Ultra's position as a top cameraphone, is the new 5x zoom telephoto. Undoubtedly better at 5x than the old model, can it be as good at 10x?''',\n",
    "\t'''The Ultra won't partake in the chipset divide that's now returned to the lesser models, and all of the ultimate Galaxies will feature a Snapdragon 8 Gen 3 - no Exynos here if that makes any difference. Sure enough, the S24 Ultra will have all the AI smarts Samsung and Google came up with to fill an hour of Unpacked 2024.''',\n",
    "\t'''Unchanged is the battery capacity on this year's model, and so too is the maximum charging rating, for better or for worse. No change can be a good thing too, and the S Pen remains another differentiator that elevates the Galaxy Ultra above all others when it comes to productivity and just general usefulness (it's the best camera remote is what it is).''',\n",
    "\t'''You can have another look at the key specs below, before we proceed to get our hands on the Ultra, at long last.''',\n",
    "\t'''Another uneventful unboxing experience awaits, but it's not like the slimline box is making any promises. A SIM eject pin is still included, though a line in the instructions that says 'use a paper clip or an earring' could be replacing that in the near future. That, or eSIMs.''',\n",
    "\t'''The other thing of any practical use inside the box is a USB-C cable, but it's only good for 3A of current, and that may not be enough to get the promised 45W of charging. We might have a rant on that subject later on in the review.''',\n",
    "\t'''The Galaxy S Plus is probably the least popular device of the Galaxy S trio, but it has its fans. It caters to those who want a bigger Galaxy S screen and don't want to overpay for Ultra features they will not use. Today, we will be meeting with the Galaxy S24+, which finally returns to its former glory with a Quad HD display!''',\n",
    "\t'''Indeed, this has to be the biggest change since the Galaxy S21 series! The Galaxy S24+ brings back the 1440p OLED display we last saw on the Galaxy S20+ in 2020. And it's as premium of a panel as it can get - a 6.7-inch LTPO Dynamic AMOLED 2X screen with 513ppi, 120Hz dynamic refresh rate, HDR10+ and up to 2,600 nits of peak brightness.''',\n",
    "\t'''Quick note - we are reviewing the Exynos model of the Galaxy S24+ here.''',\n",
    "\t'''The refreshed design is the next thing on the list of upgrades - the aluminum frame is now tougher, flatter and all matte! This makes the Galaxy S24+ look new and feel new, too.''',\n",
    "\t'''Just like the Galaxy S24, the S24+ hardware varies depending on the market. The global models employ the Exynos 2400 chip with a 10-core CPU and new AMD graphics, while the US/Canada/China models run on the Snapdragon 8 Gen 3. The S24+ is available in 256GB and 512GB variants, both with UFS 4.0 chips and 12GB of RAM.''',\n",
    "\t'''The camera system is identical to the one on the Galaxy S24, S23+ and S23. There are three cameras on the back - a 50MP OIS primary, a 10MP 3x telephoto and a 12MP ultrawide. The front camera is a 12MP shooter with autofocus and 4K capturing.''',\n",
    "\t'''The Galaxy S24+ specs also include Ultra Wideband (UWB) support and a larger 4,900mAh battery with 45W wired and 15W wireless charging.''',\n",
    "\t'''The Galaxy S24+ seems like it has it all. Maybe it deserved a better zoom camera, or at least one of higher resolution, so it can allow for lossless/hybrid zoom. But we guess this incremental update will now be reserved for the Galaxy S25 next year.''',\n",
    "\t'''The Galaxy S24+ ships inside a thin black box containing a USB-C cable and a SIM ejection tool.<''',\n",
    "\t'''Those who pre-ordered the S24+ also get a 25W power adapter, a 15W charger pad, and a clear case. Those extras are market-dependent, of course.''',\n",
    "\t'''The cable that ships inside the retail boxes of the Galaxy S24 series is officially rated as 3A or up to 25W. This means if you buy a 45W charger or similar and it doesn't include a proper cable, you will need to shop for a compatible cable so you can enjoy faster than 25W charging.''',\n",
    "]"
   ]
  },
  {
   "cell_type": "code",
   "execution_count": null,
   "metadata": {},
   "outputs": [
    {
     "data": {
      "text/html": [
       "<div>\n",
       "<style scoped>\n",
       "    .dataframe tbody tr th:only-of-type {\n",
       "        vertical-align: middle;\n",
       "    }\n",
       "\n",
       "    .dataframe tbody tr th {\n",
       "        vertical-align: top;\n",
       "    }\n",
       "\n",
       "    .dataframe thead th {\n",
       "        text-align: right;\n",
       "    }\n",
       "</style>\n",
       "<table border=\"1\" class=\"dataframe\">\n",
       "  <thead>\n",
       "    <tr style=\"text-align: right;\">\n",
       "      <th></th>\n",
       "      <th>review</th>\n",
       "    </tr>\n",
       "  </thead>\n",
       "  <tbody>\n",
       "    <tr>\n",
       "      <th>0</th>\n",
       "      <td>Huawei Pura 70 Ultra is the headliner of the r...</td>\n",
       "    </tr>\n",
       "    <tr>\n",
       "      <th>1</th>\n",
       "      <td>Despite the name change, the Huawei P series i...</td>\n",
       "    </tr>\n",
       "    <tr>\n",
       "      <th>2</th>\n",
       "      <td>Back to what we do best - smartphone inspectio...</td>\n",
       "    </tr>\n",
       "    <tr>\n",
       "      <th>3</th>\n",
       "      <td>The Pura 70 Ultra is one of the few phones on ...</td>\n",
       "    </tr>\n",
       "    <tr>\n",
       "      <th>4</th>\n",
       "      <td>Then we have a large 6.8-inch LTPO OLED screen...</td>\n",
       "    </tr>\n",
       "  </tbody>\n",
       "</table>\n",
       "</div>"
      ],
      "text/plain": [
       "                                              review\n",
       "0  Huawei Pura 70 Ultra is the headliner of the r...\n",
       "1  Despite the name change, the Huawei P series i...\n",
       "2  Back to what we do best - smartphone inspectio...\n",
       "3  The Pura 70 Ultra is one of the few phones on ...\n",
       "4  Then we have a large 6.8-inch LTPO OLED screen..."
      ]
     },
     "metadata": {},
     "output_type": "display_data"
    }
   ],
   "source": [
    "gsm = pd.DataFrame({'review': gsm_arena_review})\n",
    "gsm.head()"
   ]
  },
  {
   "cell_type": "code",
   "execution_count": null,
   "metadata": {},
   "outputs": [
    {
     "data": {
      "text/plain": [
       "237"
      ]
     },
     "metadata": {},
     "output_type": "display_data"
    }
   ],
   "source": [
    "gsm_resampled = gsm.sample(n=math.floor(len(new_df)/150), replace=True, random_state=20)\n",
    "len(gsm_resampled)"
   ]
  },
  {
   "cell_type": "code",
   "execution_count": null,
   "metadata": {},
   "outputs": [
    {
     "data": {
      "text/plain": [
       "35856"
      ]
     },
     "metadata": {},
     "output_type": "display_data"
    }
   ],
   "source": [
    "more_df = pd.concat([new_df, gsm_resampled])\n",
    "len(more_df)"
   ]
  },
  {
   "cell_type": "code",
   "execution_count": null,
   "metadata": {},
   "outputs": [
    {
     "name": "stdout",
     "output_type": "stream",
     "text": [
      "Before:\n",
      "review    9\n",
      "dtype: int64\n",
      "\n",
      "After:\n",
      "review    0\n",
      "dtype: int64\n"
     ]
    }
   ],
   "source": [
    "print(f'Before:\\n{more_df.isnull().sum()}')\n",
    "more_df.dropna(subset=['review'], inplace=True)\n",
    "print()\n",
    "print(f'After:\\n{more_df.isnull().sum()}')"
   ]
  },
  {
   "cell_type": "code",
   "execution_count": null,
   "metadata": {},
   "outputs": [],
   "source": [
    "more_df = more_df.sample(frac=1)"
   ]
  },
  {
   "cell_type": "markdown",
   "metadata": {},
   "source": [
    "### **Apply tag**"
   ]
  },
  {
   "cell_type": "code",
   "execution_count": null,
   "metadata": {},
   "outputs": [
    {
     "data": {
      "text/html": [
       "<div>\n",
       "<style scoped>\n",
       "    .dataframe tbody tr th:only-of-type {\n",
       "        vertical-align: middle;\n",
       "    }\n",
       "\n",
       "    .dataframe tbody tr th {\n",
       "        vertical-align: top;\n",
       "    }\n",
       "\n",
       "    .dataframe thead th {\n",
       "        text-align: right;\n",
       "    }\n",
       "</style>\n",
       "<table border=\"1\" class=\"dataframe\">\n",
       "  <thead>\n",
       "    <tr style=\"text-align: right;\">\n",
       "      <th></th>\n",
       "      <th>review</th>\n",
       "      <th>tag</th>\n",
       "    </tr>\n",
       "  </thead>\n",
       "  <tbody>\n",
       "    <tr>\n",
       "      <th>16014</th>\n",
       "      <td>Best phone in low price</td>\n",
       "      <td>O O O O O</td>\n",
       "    </tr>\n",
       "    <tr>\n",
       "      <th>19766</th>\n",
       "      <td>I feel weight in my hand.Everythings very well.</td>\n",
       "      <td>O O O O O O O O O</td>\n",
       "    </tr>\n",
       "    <tr>\n",
       "      <th>28447</th>\n",
       "      <td>Very good</td>\n",
       "      <td>O O</td>\n",
       "    </tr>\n",
       "    <tr>\n",
       "      <th>22534</th>\n",
       "      <td>In starting the phone working very good but af...</td>\n",
       "      <td>O O O O O O O O O O O O O B-battery I-battery ...</td>\n",
       "    </tr>\n",
       "    <tr>\n",
       "      <th>11768</th>\n",
       "      <td>Amazing brand amazing look</td>\n",
       "      <td>O O O O</td>\n",
       "    </tr>\n",
       "  </tbody>\n",
       "</table>\n",
       "</div>"
      ],
      "text/plain": [
       "                                                  review  \\\n",
       "16014                            Best phone in low price   \n",
       "19766    I feel weight in my hand.Everythings very well.   \n",
       "28447                                          Very good   \n",
       "22534  In starting the phone working very good but af...   \n",
       "11768                         Amazing brand amazing look   \n",
       "\n",
       "                                                     tag  \n",
       "16014                                          O O O O O  \n",
       "19766                                  O O O O O O O O O  \n",
       "28447                                                O O  \n",
       "22534  O O O O O O O O O O O O O B-battery I-battery ...  \n",
       "11768                                            O O O O  "
      ]
     },
     "metadata": {},
     "output_type": "display_data"
    }
   ],
   "source": [
    "more_df['tag'] = more_df['review'].apply(tagging_data)\n",
    "more_df.head()"
   ]
  },
  {
   "cell_type": "code",
   "execution_count": null,
   "metadata": {},
   "outputs": [],
   "source": [
    "more_df.to_csv('../datasets/tagged/test_v1.csv')"
   ]
  },
  {
   "cell_type": "code",
   "execution_count": null,
   "metadata": {},
   "outputs": [
    {
     "data": {
      "text/html": [
       "<div>\n",
       "<style scoped>\n",
       "    .dataframe tbody tr th:only-of-type {\n",
       "        vertical-align: middle;\n",
       "    }\n",
       "\n",
       "    .dataframe tbody tr th {\n",
       "        vertical-align: top;\n",
       "    }\n",
       "\n",
       "    .dataframe thead th {\n",
       "        text-align: right;\n",
       "    }\n",
       "</style>\n",
       "<table border=\"1\" class=\"dataframe\">\n",
       "  <thead>\n",
       "    <tr style=\"text-align: right;\">\n",
       "      <th></th>\n",
       "      <th>sentence_id</th>\n",
       "      <th>words</th>\n",
       "      <th>labels</th>\n",
       "    </tr>\n",
       "  </thead>\n",
       "  <tbody>\n",
       "    <tr>\n",
       "      <th>0</th>\n",
       "      <td>0</td>\n",
       "      <td>Best</td>\n",
       "      <td>O</td>\n",
       "    </tr>\n",
       "    <tr>\n",
       "      <th>1</th>\n",
       "      <td>0</td>\n",
       "      <td>phone</td>\n",
       "      <td>O</td>\n",
       "    </tr>\n",
       "    <tr>\n",
       "      <th>2</th>\n",
       "      <td>0</td>\n",
       "      <td>in</td>\n",
       "      <td>O</td>\n",
       "    </tr>\n",
       "    <tr>\n",
       "      <th>3</th>\n",
       "      <td>0</td>\n",
       "      <td>low</td>\n",
       "      <td>O</td>\n",
       "    </tr>\n",
       "    <tr>\n",
       "      <th>4</th>\n",
       "      <td>0</td>\n",
       "      <td>price</td>\n",
       "      <td>O</td>\n",
       "    </tr>\n",
       "    <tr>\n",
       "      <th>...</th>\n",
       "      <td>...</td>\n",
       "      <td>...</td>\n",
       "      <td>...</td>\n",
       "    </tr>\n",
       "    <tr>\n",
       "      <th>506369</th>\n",
       "      <td>28719</td>\n",
       "      <td>phones</td>\n",
       "      <td>O</td>\n",
       "    </tr>\n",
       "    <tr>\n",
       "      <th>506370</th>\n",
       "      <td>28719</td>\n",
       "      <td>having</td>\n",
       "      <td>O</td>\n",
       "    </tr>\n",
       "    <tr>\n",
       "      <th>506371</th>\n",
       "      <td>28719</td>\n",
       "      <td>Google</td>\n",
       "      <td>O</td>\n",
       "    </tr>\n",
       "    <tr>\n",
       "      <th>506372</th>\n",
       "      <td>28719</td>\n",
       "      <td>.</td>\n",
       "      <td>O</td>\n",
       "    </tr>\n",
       "    <tr>\n",
       "      <th>506373</th>\n",
       "      <td>28720</td>\n",
       "      <td>Excellent</td>\n",
       "      <td>O</td>\n",
       "    </tr>\n",
       "  </tbody>\n",
       "</table>\n",
       "<p>506374 rows × 3 columns</p>\n",
       "</div>"
      ],
      "text/plain": [
       "        sentence_id      words labels\n",
       "0                 0       Best      O\n",
       "1                 0      phone      O\n",
       "2                 0         in      O\n",
       "3                 0        low      O\n",
       "4                 0      price      O\n",
       "...             ...        ...    ...\n",
       "506369        28719     phones      O\n",
       "506370        28719     having      O\n",
       "506371        28719     Google      O\n",
       "506372        28719          .      O\n",
       "506373        28720  Excellent      O\n",
       "\n",
       "[506374 rows x 3 columns]"
      ]
     },
     "metadata": {},
     "output_type": "display_data"
    }
   ],
   "source": [
    "tag_df = to_iob_tag(more_df['review'], more_df['tag'])\n",
    "tag_df"
   ]
  },
  {
   "cell_type": "code",
   "execution_count": null,
   "metadata": {},
   "outputs": [
    {
     "data": {
      "text/html": [
       "<div>\n",
       "<style scoped>\n",
       "    .dataframe tbody tr th:only-of-type {\n",
       "        vertical-align: middle;\n",
       "    }\n",
       "\n",
       "    .dataframe tbody tr th {\n",
       "        vertical-align: top;\n",
       "    }\n",
       "\n",
       "    .dataframe thead th {\n",
       "        text-align: right;\n",
       "    }\n",
       "</style>\n",
       "<table border=\"1\" class=\"dataframe\">\n",
       "  <thead>\n",
       "    <tr style=\"text-align: right;\">\n",
       "      <th></th>\n",
       "      <th>sentence_id</th>\n",
       "      <th>words</th>\n",
       "      <th>labels</th>\n",
       "    </tr>\n",
       "  </thead>\n",
       "  <tbody>\n",
       "    <tr>\n",
       "      <th>29</th>\n",
       "      <td>29181</td>\n",
       "      <td>battery</td>\n",
       "      <td>B-BATTERY</td>\n",
       "    </tr>\n",
       "    <tr>\n",
       "      <th>30</th>\n",
       "      <td>29181</td>\n",
       "      <td>life</td>\n",
       "      <td>I-BATTERY</td>\n",
       "    </tr>\n",
       "    <tr>\n",
       "      <th>48</th>\n",
       "      <td>31403</td>\n",
       "      <td>camera</td>\n",
       "      <td>B-CAMERA</td>\n",
       "    </tr>\n",
       "    <tr>\n",
       "      <th>65</th>\n",
       "      <td>32514</td>\n",
       "      <td>and</td>\n",
       "      <td>B-CONNECTION</td>\n",
       "    </tr>\n",
       "    <tr>\n",
       "      <th>66</th>\n",
       "      <td>32514</td>\n",
       "      <td>connectivity</td>\n",
       "      <td>I-CONNECTION</td>\n",
       "    </tr>\n",
       "  </tbody>\n",
       "</table>\n",
       "</div>"
      ],
      "text/plain": [
       "    sentence_id         words        labels\n",
       "29        29181       battery     B-BATTERY\n",
       "30        29181          life     I-BATTERY\n",
       "48        31403        camera      B-CAMERA\n",
       "65        32514           and  B-CONNECTION\n",
       "66        32514  connectivity  I-CONNECTION"
      ]
     },
     "metadata": {},
     "output_type": "display_data"
    }
   ],
   "source": [
    "temp_df = tag_df.drop(tag_df[tag_df['labels'] == 'O'].index)\n",
    "temp_df.head()"
   ]
  },
  {
   "cell_type": "code",
   "execution_count": null,
   "metadata": {},
   "outputs": [
    {
     "data": {
      "image/png": "[encoded data removed]",
      "text/plain": [
       "<Figure size 3000x600 with 1 Axes>"
      ]
     },
     "metadata": {},
     "output_type": "display_data"
    }
   ],
   "source": [
    "label_counts = temp_df['labels'].value_counts()\n",
    "plt.figure(figsize=(30, 6))\n",
    "plt.bar(label_counts.index, label_counts.values)\n",
    "plt.xlabel('Tags')\n",
    "plt.ylabel('Frequency')\n",
    "plt.title('Frequency of Tags')\n",
    "plt.show()"
   ]
  },
  {
   "cell_type": "code",
   "execution_count": null,
   "metadata": {},
   "outputs": [],
   "source": [
    "tag_df.to_csv('../datasets/tagged/dataset-iob-tag.csv', index=False)"
   ]
  },
  {
   "cell_type": "markdown",
   "metadata": {},
   "source": [
    "## **Train**"
   ]
  },
  {
   "cell_type": "code",
   "execution_count": null,
   "metadata": {},
   "outputs": [
    {
     "data": {
      "text/html": [
       "<div>\n",
       "<style scoped>\n",
       "    .dataframe tbody tr th:only-of-type {\n",
       "        vertical-align: middle;\n",
       "    }\n",
       "\n",
       "    .dataframe tbody tr th {\n",
       "        vertical-align: top;\n",
       "    }\n",
       "\n",
       "    .dataframe thead th {\n",
       "        text-align: right;\n",
       "    }\n",
       "</style>\n",
       "<table border=\"1\" class=\"dataframe\">\n",
       "  <thead>\n",
       "    <tr style=\"text-align: right;\">\n",
       "      <th></th>\n",
       "      <th>sentence_id</th>\n",
       "      <th>words</th>\n",
       "      <th>labels</th>\n",
       "    </tr>\n",
       "  </thead>\n",
       "  <tbody>\n",
       "    <tr>\n",
       "      <th>0</th>\n",
       "      <td>0</td>\n",
       "      <td>Best</td>\n",
       "      <td>O</td>\n",
       "    </tr>\n",
       "    <tr>\n",
       "      <th>1</th>\n",
       "      <td>0</td>\n",
       "      <td>phone</td>\n",
       "      <td>O</td>\n",
       "    </tr>\n",
       "    <tr>\n",
       "      <th>2</th>\n",
       "      <td>0</td>\n",
       "      <td>in</td>\n",
       "      <td>O</td>\n",
       "    </tr>\n",
       "    <tr>\n",
       "      <th>3</th>\n",
       "      <td>0</td>\n",
       "      <td>low</td>\n",
       "      <td>O</td>\n",
       "    </tr>\n",
       "    <tr>\n",
       "      <th>4</th>\n",
       "      <td>0</td>\n",
       "      <td>price</td>\n",
       "      <td>O</td>\n",
       "    </tr>\n",
       "  </tbody>\n",
       "</table>\n",
       "</div>"
      ],
      "text/plain": [
       "   sentence_id  words labels\n",
       "0            0   Best      O\n",
       "1            0  phone      O\n",
       "2            0     in      O\n",
       "3            0    low      O\n",
       "4            0  price      O"
      ]
     },
     "metadata": {},
     "output_type": "display_data"
    }
   ],
   "source": [
    "df = pd.read_csv('../datasets/tagged/iob-tag.csv')\n",
    "df.head()"
   ]
  },
  {
   "cell_type": "code",
   "execution_count": null,
   "metadata": {},
   "outputs": [],
   "source": [
    "TRAIN_ARGS = TrainingArguments('../model/review_NER',\n",
    "\tnum_train_epochs=9,\n",
    "\tevaluation_strategy='epoch',\n",
    "\tsave_strategy='epoch',\n",
    "\tload_best_model_at_end=True,\n",
    "\tpush_to_hub=False\n",
    ")\n",
    "\n",
    "MODEL_NAME = 'dslim/distilbert-NER'\n",
    "X = df[[\"sentence_id\",\"words\"]]\n",
    "Y = df[\"labels\"]\n",
    "LABEL = ['O',\n",
    " 'B-STORAGE',\n",
    " 'B-PERFORMANCE',\n",
    " 'B-BATTERY',\n",
    " 'I-BATTERY',\n",
    " 'B-CAMERA',\n",
    " 'I-CAMERA',\n",
    " 'B-CHARGING',\n",
    " 'I-CHARGING',\n",
    " 'I-STORAGE',\n",
    " 'I-PERFORMANCE',\n",
    " 'B-SCREEN',\n",
    " 'I-SCREEN',\n",
    " 'B-AUDIO',\n",
    " 'B-FEATURE',\n",
    " 'I-FEATURE',\n",
    " 'B-CONNECTION',\n",
    " 'I-CONNECTION',\n",
    " 'B-BUTTON',\n",
    " 'I-BUTTON',\n",
    " 'I-AUDIO']\n",
    "NUM_LABELS = len(LABEL)\n",
    "TOKENIZER = AutoTokenizer.from_pretrained(MODEL_NAME)"
   ]
  },
  {
   "cell_type": "code",
   "execution_count": null,
   "metadata": {},
   "outputs": [],
   "source": [
    "def compute_metrics(eval_preds):\n",
    "    logits, labels = eval_preds\n",
    "    predictions = np.argmax(logits, axis=-1)\n",
    "    f1 = f1_score(labels, predictions, average='weighted')\n",
    "    return {\"f1-score\": f1}"
   ]
  },
  {
   "cell_type": "code",
   "execution_count": null,
   "metadata": {},
   "outputs": [],
   "source": [
    "train, test = train_test_split(X, Y, test_size=0.2, random_state=42)"
   ]
  },
  {
   "cell_type": "code",
   "execution_count": null,
   "metadata": {},
   "outputs": [],
   "source": [
    "model = AutoModelForTokenClassification.from_pretrained(MODEL_NAME, num_labels=NUM_LABELS)\n",
    "\n",
    "trainer = Trainer(\n",
    "\tmodel=model,\n",
    "\targs=TRAIN_ARGS,\n",
    "\ttrain_dataset=train,\n",
    "\teval_dataset=test,\n",
    "\ttokenizer=TOKENIZER,\n",
    "\tcompute_metrics=compute_metrics\n",
    ")\n",
    "\n",
    "trainer.train()"
   ]
  },
  {
   "cell_type": "code",
   "execution_count": null,
   "metadata": {},
   "outputs": [],
   "source": [
    "results = trainer.evaluate()\n",
    "print(f'Evaluation results: {results}')"
   ]
  }
 ],
 "metadata": {
  "kernelspec": {
   "display_name": "MY_ENV",
   "language": "python",
   "name": "python3"
  },
  "language_info": {
   "name": "python",
   "version": "3.12.3"
  }
 },
 "nbformat": 4,
 "nbformat_minor": 2
}
